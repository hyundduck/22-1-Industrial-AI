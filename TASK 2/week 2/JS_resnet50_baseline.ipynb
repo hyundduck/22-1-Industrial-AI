{
 "cells": [
  {
   "cell_type": "code",
   "execution_count": 1,
   "metadata": {},
   "outputs": [],
   "source": [
    "import os\n",
    "from os.path import join\n",
    "import pickle\n",
    "import numpy as np\n",
    "import pandas as pd\n",
    "import seaborn as sns\n",
    "\n",
    "import cv2\n",
    "from PIL import Image\n",
    "import matplotlib.pyplot as plt\n",
    "\n",
    "import gc\n",
    "import torch \n",
    "import torch.nn as nn\n",
    "import torch.nn.functional as F\n",
    "import torch.optim as optim\n",
    "from torch.utils.data import Dataset, ConcatDataset, DataLoader\n",
    "import torchvision.transforms as T\n",
    "import albumentations as A\n",
    "from torch.optim.lr_scheduler import ReduceLROnPlateau\n",
    "from sklearn.metrics import f1_score\n",
    "\n",
    "from tqdm import tqdm\n",
    "from sklearn.preprocessing import LabelEncoder\n",
    "from sklearn.model_selection import train_test_split\n",
    "import warnings\n",
    "\n",
    "warnings.filterwarnings(\"ignore\")\n",
    "\n",
    "\n",
    "# Control Randomness\n",
    "import random\n",
    "random_seed = 7\n",
    "torch.manual_seed(random_seed)\n",
    "torch.backends.cudnn.deterministic = False\n",
    "torch.backends.cudnn.benchmark = False\n",
    "np.random.seed(random_seed)\n",
    "random.seed(random_seed)"
   ]
  },
  {
   "cell_type": "markdown",
   "metadata": {},
   "source": [
    "# EDA & Cleaning"
   ]
  },
  {
   "cell_type": "code",
   "execution_count": null,
   "metadata": {},
   "outputs": [],
   "source": [
    "df=pd.read_pickle(\"LSWMD.pkl\")\n",
    "\n",
    "def removebrackets(array):\n",
    "    if array.shape == (1, 1):\n",
    "        return \"\".join(array[0])\n",
    "    elif array.shape == (0, 0):\n",
    "        return None\n",
    "        \n",
    "df.rename(columns = {'trianTestLabel':'TrainTestLabel'}, inplace = 'True')\n",
    "df['TrainTestLabel'] = df['TrainTestLabel'].apply(removebrackets)\n",
    "df['failureType'] = df['failureType'].apply(removebrackets)"
   ]
  },
  {
   "cell_type": "code",
   "execution_count": 3,
   "metadata": {},
   "outputs": [
    {
     "data": {
      "text/html": [
       "<div>\n",
       "<style scoped>\n",
       "    .dataframe tbody tr th:only-of-type {\n",
       "        vertical-align: middle;\n",
       "    }\n",
       "\n",
       "    .dataframe tbody tr th {\n",
       "        vertical-align: top;\n",
       "    }\n",
       "\n",
       "    .dataframe thead th {\n",
       "        text-align: right;\n",
       "    }\n",
       "</style>\n",
       "<table border=\"1\" class=\"dataframe\">\n",
       "  <thead>\n",
       "    <tr style=\"text-align: right;\">\n",
       "      <th></th>\n",
       "      <th>waferMap</th>\n",
       "      <th>dieSize</th>\n",
       "      <th>lotName</th>\n",
       "      <th>waferIndex</th>\n",
       "      <th>TrainTestLabel</th>\n",
       "      <th>failureType</th>\n",
       "    </tr>\n",
       "  </thead>\n",
       "  <tbody>\n",
       "    <tr>\n",
       "      <th>489317</th>\n",
       "      <td>[[0, 0, 0, 0, 0, 0, 0, 0, 0, 0, 0, 0, 2, 2, 2,...</td>\n",
       "      <td>710.0</td>\n",
       "      <td>lot30277</td>\n",
       "      <td>11.0</td>\n",
       "      <td>None</td>\n",
       "      <td>None</td>\n",
       "    </tr>\n",
       "    <tr>\n",
       "      <th>604268</th>\n",
       "      <td>[[0, 0, 0, 0, 0, 0, 0, 0, 0, 0, 0, 0, 0, 0, 0,...</td>\n",
       "      <td>1513.0</td>\n",
       "      <td>lot38064</td>\n",
       "      <td>16.0</td>\n",
       "      <td>None</td>\n",
       "      <td>None</td>\n",
       "    </tr>\n",
       "    <tr>\n",
       "      <th>582932</th>\n",
       "      <td>[[0, 0, 0, 0, 0, 0, 0, 0, 0, 0, 0, 0, 1, 1, 1,...</td>\n",
       "      <td>846.0</td>\n",
       "      <td>lot36387</td>\n",
       "      <td>15.0</td>\n",
       "      <td>None</td>\n",
       "      <td>None</td>\n",
       "    </tr>\n",
       "    <tr>\n",
       "      <th>314398</th>\n",
       "      <td>[[0, 0, 0, 0, 0, 0, 0, 0, 0, 0, 0, 0, 0, 0, 0,...</td>\n",
       "      <td>4143.0</td>\n",
       "      <td>lot19167</td>\n",
       "      <td>25.0</td>\n",
       "      <td>None</td>\n",
       "      <td>None</td>\n",
       "    </tr>\n",
       "    <tr>\n",
       "      <th>584221</th>\n",
       "      <td>[[0, 0, 0, 0, 0, 0, 0, 0, 0, 0, 0, 0, 1, 1, 1,...</td>\n",
       "      <td>846.0</td>\n",
       "      <td>lot36447</td>\n",
       "      <td>19.0</td>\n",
       "      <td>None</td>\n",
       "      <td>None</td>\n",
       "    </tr>\n",
       "    <tr>\n",
       "      <th>13395</th>\n",
       "      <td>[[0, 0, 0, 0, 0, 0, 0, 0, 0, 0, 0, 0, 0, 0, 0,...</td>\n",
       "      <td>924.0</td>\n",
       "      <td>lot2114</td>\n",
       "      <td>13.0</td>\n",
       "      <td>None</td>\n",
       "      <td>None</td>\n",
       "    </tr>\n",
       "    <tr>\n",
       "      <th>636974</th>\n",
       "      <td>[[0, 0, 0, 0, 0, 0, 0, 0, 0, 0, 0, 0, 1, 1, 1,...</td>\n",
       "      <td>712.0</td>\n",
       "      <td>lot40093</td>\n",
       "      <td>22.0</td>\n",
       "      <td>None</td>\n",
       "      <td>None</td>\n",
       "    </tr>\n",
       "    <tr>\n",
       "      <th>518070</th>\n",
       "      <td>[[0, 0, 0, 0, 0, 0, 0, 0, 0, 0, 0, 1, 1, 1, 1,...</td>\n",
       "      <td>515.0</td>\n",
       "      <td>lot32396</td>\n",
       "      <td>20.0</td>\n",
       "      <td>None</td>\n",
       "      <td>None</td>\n",
       "    </tr>\n",
       "    <tr>\n",
       "      <th>252155</th>\n",
       "      <td>[[0, 0, 0, 0, 0, 0, 0, 0, 0, 0, 1, 1, 1, 2, 1,...</td>\n",
       "      <td>518.0</td>\n",
       "      <td>lot15639</td>\n",
       "      <td>19.0</td>\n",
       "      <td>Training</td>\n",
       "      <td>none</td>\n",
       "    </tr>\n",
       "    <tr>\n",
       "      <th>695635</th>\n",
       "      <td>[[0, 0, 0, 0, 0, 0, 0, 0, 0, 0, 0, 0, 0, 2, 1,...</td>\n",
       "      <td>736.0</td>\n",
       "      <td>lot42848</td>\n",
       "      <td>5.0</td>\n",
       "      <td>None</td>\n",
       "      <td>None</td>\n",
       "    </tr>\n",
       "  </tbody>\n",
       "</table>\n",
       "</div>"
      ],
      "text/plain": [
       "                                                 waferMap  dieSize   lotName  \\\n",
       "489317  [[0, 0, 0, 0, 0, 0, 0, 0, 0, 0, 0, 0, 2, 2, 2,...    710.0  lot30277   \n",
       "604268  [[0, 0, 0, 0, 0, 0, 0, 0, 0, 0, 0, 0, 0, 0, 0,...   1513.0  lot38064   \n",
       "582932  [[0, 0, 0, 0, 0, 0, 0, 0, 0, 0, 0, 0, 1, 1, 1,...    846.0  lot36387   \n",
       "314398  [[0, 0, 0, 0, 0, 0, 0, 0, 0, 0, 0, 0, 0, 0, 0,...   4143.0  lot19167   \n",
       "584221  [[0, 0, 0, 0, 0, 0, 0, 0, 0, 0, 0, 0, 1, 1, 1,...    846.0  lot36447   \n",
       "13395   [[0, 0, 0, 0, 0, 0, 0, 0, 0, 0, 0, 0, 0, 0, 0,...    924.0   lot2114   \n",
       "636974  [[0, 0, 0, 0, 0, 0, 0, 0, 0, 0, 0, 0, 1, 1, 1,...    712.0  lot40093   \n",
       "518070  [[0, 0, 0, 0, 0, 0, 0, 0, 0, 0, 0, 1, 1, 1, 1,...    515.0  lot32396   \n",
       "252155  [[0, 0, 0, 0, 0, 0, 0, 0, 0, 0, 1, 1, 1, 2, 1,...    518.0  lot15639   \n",
       "695635  [[0, 0, 0, 0, 0, 0, 0, 0, 0, 0, 0, 0, 0, 2, 1,...    736.0  lot42848   \n",
       "\n",
       "        waferIndex TrainTestLabel failureType  \n",
       "489317        11.0           None        None  \n",
       "604268        16.0           None        None  \n",
       "582932        15.0           None        None  \n",
       "314398        25.0           None        None  \n",
       "584221        19.0           None        None  \n",
       "13395         13.0           None        None  \n",
       "636974        22.0           None        None  \n",
       "518070        20.0           None        None  \n",
       "252155        19.0       Training        none  \n",
       "695635         5.0           None        None  "
      ]
     },
     "execution_count": 3,
     "metadata": {},
     "output_type": "execute_result"
    }
   ],
   "source": [
    "df.sample(10)"
   ]
  },
  {
   "cell_type": "code",
   "execution_count": 4,
   "metadata": {},
   "outputs": [
    {
     "data": {
      "text/plain": [
       "waferMap               0\n",
       "dieSize                0\n",
       "lotName                0\n",
       "waferIndex             0\n",
       "TrainTestLabel    638507\n",
       "failureType       638507\n",
       "dtype: int64"
      ]
     },
     "execution_count": 4,
     "metadata": {},
     "output_type": "execute_result"
    }
   ],
   "source": [
    "df.isna().sum()"
   ]
  },
  {
   "cell_type": "code",
   "execution_count": 5,
   "metadata": {},
   "outputs": [
    {
     "data": {
      "text/plain": [
       "0         Training\n",
       "1         Training\n",
       "2         Training\n",
       "3         Training\n",
       "4         Training\n",
       "            ...   \n",
       "811450        Test\n",
       "811451        Test\n",
       "811452        Test\n",
       "811453        Test\n",
       "811454        Test\n",
       "Name: TrainTestLabel, Length: 172950, dtype: object"
      ]
     },
     "execution_count": 5,
     "metadata": {},
     "output_type": "execute_result"
    }
   ],
   "source": [
    "df_ = df.TrainTestLabel.dropna()\n",
    "# df_ = df_.failureType.dropna()\n",
    "df_"
   ]
  },
  {
   "cell_type": "markdown",
   "metadata": {},
   "source": [
    "* The dataset were collected from **47,543 lots** in real-world fab. However, **47,543 lots x 25 wafer/lot =1,157,325 wafer maps** is larger than **811,457 wafer maps**. \n",
    "\n",
    "* Let's see what happened. "
   ]
  },
  {
   "cell_type": "code",
   "execution_count": 6,
   "metadata": {},
   "outputs": [
    {
     "data": {
      "image/png": "[encoded data removed]",
      "text/plain": [
       "<Figure size 432x288 with 1 Axes>"
      ]
     },
     "metadata": {
      "needs_background": "light"
     },
     "output_type": "display_data"
    }
   ],
   "source": [
    "import matplotlib.pyplot as plt\n",
    "%matplotlib inline\n",
    "\n",
    "uni_Index=np.unique(df.waferIndex, return_counts=True)\n",
    "plt.bar(uni_Index[0], uni_Index[1], align='center', alpha=0.5)\n",
    "plt.title(\"wafer Index Distribution\")\n",
    "plt.xlabel(\"index #\")\n",
    "plt.ylabel(\"frequency\")\n",
    "plt.xlim(0,26)\n",
    "plt.ylim(30000,34000)\n",
    "plt.show()"
   ]
  },
  {
   "cell_type": "code",
   "execution_count": 7,
   "metadata": {},
   "outputs": [],
   "source": [
    "df = df.drop(['waferIndex'], axis = 1)"
   ]
  },
  {
   "cell_type": "markdown",
   "metadata": {},
   "source": [
    "* We can not get much information from the wafer map column but we can see the die size for each instance is different. \n",
    "\n",
    "* We create a new variable **'waferMapDim'** for wafer map dim checking."
   ]
  },
  {
   "cell_type": "code",
   "execution_count": 8,
   "metadata": {},
   "outputs": [],
   "source": [
    "def find_dim(x):\n",
    "    dim0=np.size(x,axis=0)\n",
    "    dim1=np.size(x,axis=1)\n",
    "    return dim0, dim1\n",
    "    \n",
    "df['waferMapDim']=df.waferMap.apply(find_dim)"
   ]
  },
  {
   "cell_type": "code",
   "execution_count": 9,
   "metadata": {},
   "outputs": [
    {
     "data": {
      "text/html": [
       "<div>\n",
       "<style scoped>\n",
       "    .dataframe tbody tr th:only-of-type {\n",
       "        vertical-align: middle;\n",
       "    }\n",
       "\n",
       "    .dataframe tbody tr th {\n",
       "        vertical-align: top;\n",
       "    }\n",
       "\n",
       "    .dataframe thead th {\n",
       "        text-align: right;\n",
       "    }\n",
       "</style>\n",
       "<table border=\"1\" class=\"dataframe\">\n",
       "  <thead>\n",
       "    <tr style=\"text-align: right;\">\n",
       "      <th></th>\n",
       "      <th>waferMap</th>\n",
       "      <th>dieSize</th>\n",
       "      <th>lotName</th>\n",
       "      <th>TrainTestLabel</th>\n",
       "      <th>failureType</th>\n",
       "      <th>waferMapDim</th>\n",
       "    </tr>\n",
       "  </thead>\n",
       "  <tbody>\n",
       "    <tr>\n",
       "      <th>319117</th>\n",
       "      <td>[[0, 0, 0, 0, 0, 0, 0, 0, 0, 0, 0, 0, 0, 0, 0,...</td>\n",
       "      <td>1534.0</td>\n",
       "      <td>lot19358</td>\n",
       "      <td>None</td>\n",
       "      <td>None</td>\n",
       "      <td>(45, 43)</td>\n",
       "    </tr>\n",
       "    <tr>\n",
       "      <th>476932</th>\n",
       "      <td>[[0, 0, 0, 0, 0, 0, 0, 0, 0, 0, 0, 0, 0, 0, 0,...</td>\n",
       "      <td>1513.0</td>\n",
       "      <td>lot29465</td>\n",
       "      <td>None</td>\n",
       "      <td>None</td>\n",
       "      <td>(49, 39)</td>\n",
       "    </tr>\n",
       "    <tr>\n",
       "      <th>358138</th>\n",
       "      <td>[[0, 0, 0, 0, 0, 0, 0, 0, 0, 0, 0, 0, 0, 0, 0,...</td>\n",
       "      <td>2393.0</td>\n",
       "      <td>lot21433</td>\n",
       "      <td>None</td>\n",
       "      <td>None</td>\n",
       "      <td>(52, 59)</td>\n",
       "    </tr>\n",
       "    <tr>\n",
       "      <th>211084</th>\n",
       "      <td>[[0, 0, 0, 0, 0, 0, 0, 0, 0, 0, 0, 0, 0, 0, 0,...</td>\n",
       "      <td>14116.0</td>\n",
       "      <td>lot13467</td>\n",
       "      <td>None</td>\n",
       "      <td>None</td>\n",
       "      <td>(212, 84)</td>\n",
       "    </tr>\n",
       "    <tr>\n",
       "      <th>373190</th>\n",
       "      <td>[[0, 0, 0, 0, 0, 0, 0, 0, 0, 0, 0, 0, 1, 1, 1,...</td>\n",
       "      <td>592.0</td>\n",
       "      <td>lot22287</td>\n",
       "      <td>None</td>\n",
       "      <td>None</td>\n",
       "      <td>(29, 27)</td>\n",
       "    </tr>\n",
       "  </tbody>\n",
       "</table>\n",
       "</div>"
      ],
      "text/plain": [
       "                                                 waferMap  dieSize   lotName  \\\n",
       "319117  [[0, 0, 0, 0, 0, 0, 0, 0, 0, 0, 0, 0, 0, 0, 0,...   1534.0  lot19358   \n",
       "476932  [[0, 0, 0, 0, 0, 0, 0, 0, 0, 0, 0, 0, 0, 0, 0,...   1513.0  lot29465   \n",
       "358138  [[0, 0, 0, 0, 0, 0, 0, 0, 0, 0, 0, 0, 0, 0, 0,...   2393.0  lot21433   \n",
       "211084  [[0, 0, 0, 0, 0, 0, 0, 0, 0, 0, 0, 0, 0, 0, 0,...  14116.0  lot13467   \n",
       "373190  [[0, 0, 0, 0, 0, 0, 0, 0, 0, 0, 0, 0, 1, 1, 1,...    592.0  lot22287   \n",
       "\n",
       "       TrainTestLabel failureType waferMapDim  \n",
       "319117           None        None    (45, 43)  \n",
       "476932           None        None    (49, 39)  \n",
       "358138           None        None    (52, 59)  \n",
       "211084           None        None   (212, 84)  \n",
       "373190           None        None    (29, 27)  "
      ]
     },
     "execution_count": 9,
     "metadata": {},
     "output_type": "execute_result"
    }
   ],
   "source": [
    "df.sample(5)"
   ]
  },
  {
   "cell_type": "code",
   "execution_count": 10,
   "metadata": {},
   "outputs": [
    {
     "data": {
      "text/plain": [
       "811457"
      ]
     },
     "execution_count": 10,
     "metadata": {},
     "output_type": "execute_result"
    }
   ],
   "source": [
    "df.shape[0]\n",
    "# failureType: 811457 -> 172950"
   ]
  },
  {
   "cell_type": "code",
   "execution_count": 11,
   "metadata": {},
   "outputs": [
    {
     "data": {
      "text/html": [
       "<div>\n",
       "<style scoped>\n",
       "    .dataframe tbody tr th:only-of-type {\n",
       "        vertical-align: middle;\n",
       "    }\n",
       "\n",
       "    .dataframe tbody tr th {\n",
       "        vertical-align: top;\n",
       "    }\n",
       "\n",
       "    .dataframe thead th {\n",
       "        text-align: right;\n",
       "    }\n",
       "</style>\n",
       "<table border=\"1\" class=\"dataframe\">\n",
       "  <thead>\n",
       "    <tr style=\"text-align: right;\">\n",
       "      <th></th>\n",
       "      <th>waferMap</th>\n",
       "      <th>dieSize</th>\n",
       "      <th>lotName</th>\n",
       "      <th>TrainTestLabel</th>\n",
       "      <th>failureType</th>\n",
       "      <th>waferMapDim</th>\n",
       "    </tr>\n",
       "  </thead>\n",
       "  <tbody>\n",
       "    <tr>\n",
       "      <th>0</th>\n",
       "      <td>[[0, 0, 0, 0, 0, 0, 0, 0, 0, 0, 0, 0, 0, 0, 0,...</td>\n",
       "      <td>1683.0</td>\n",
       "      <td>lot1</td>\n",
       "      <td>Training</td>\n",
       "      <td>none</td>\n",
       "      <td>(45, 48)</td>\n",
       "    </tr>\n",
       "    <tr>\n",
       "      <th>1</th>\n",
       "      <td>[[0, 0, 0, 0, 0, 0, 0, 0, 0, 0, 0, 0, 0, 0, 0,...</td>\n",
       "      <td>1683.0</td>\n",
       "      <td>lot1</td>\n",
       "      <td>Training</td>\n",
       "      <td>none</td>\n",
       "      <td>(45, 48)</td>\n",
       "    </tr>\n",
       "    <tr>\n",
       "      <th>2</th>\n",
       "      <td>[[0, 0, 0, 0, 0, 0, 0, 0, 0, 0, 0, 0, 0, 0, 0,...</td>\n",
       "      <td>1683.0</td>\n",
       "      <td>lot1</td>\n",
       "      <td>Training</td>\n",
       "      <td>none</td>\n",
       "      <td>(45, 48)</td>\n",
       "    </tr>\n",
       "    <tr>\n",
       "      <th>3</th>\n",
       "      <td>[[0, 0, 0, 0, 0, 0, 0, 0, 0, 0, 0, 0, 0, 0, 0,...</td>\n",
       "      <td>1683.0</td>\n",
       "      <td>lot1</td>\n",
       "      <td>Training</td>\n",
       "      <td>none</td>\n",
       "      <td>(45, 48)</td>\n",
       "    </tr>\n",
       "    <tr>\n",
       "      <th>4</th>\n",
       "      <td>[[0, 0, 0, 0, 0, 0, 0, 0, 0, 0, 0, 0, 0, 0, 0,...</td>\n",
       "      <td>1683.0</td>\n",
       "      <td>lot1</td>\n",
       "      <td>Training</td>\n",
       "      <td>none</td>\n",
       "      <td>(45, 48)</td>\n",
       "    </tr>\n",
       "    <tr>\n",
       "      <th>...</th>\n",
       "      <td>...</td>\n",
       "      <td>...</td>\n",
       "      <td>...</td>\n",
       "      <td>...</td>\n",
       "      <td>...</td>\n",
       "      <td>...</td>\n",
       "    </tr>\n",
       "    <tr>\n",
       "      <th>811452</th>\n",
       "      <td>[[0, 0, 0, 0, 0, 0, 0, 0, 0, 0, 0, 1, 2, 1, 1,...</td>\n",
       "      <td>600.0</td>\n",
       "      <td>lot47542</td>\n",
       "      <td>Test</td>\n",
       "      <td>Edge-Ring</td>\n",
       "      <td>(26, 30)</td>\n",
       "    </tr>\n",
       "    <tr>\n",
       "      <th>811453</th>\n",
       "      <td>[[0, 0, 0, 0, 0, 0, 0, 0, 0, 0, 0, 2, 2, 1, 1,...</td>\n",
       "      <td>600.0</td>\n",
       "      <td>lot47542</td>\n",
       "      <td>Test</td>\n",
       "      <td>Edge-Loc</td>\n",
       "      <td>(26, 30)</td>\n",
       "    </tr>\n",
       "    <tr>\n",
       "      <th>811454</th>\n",
       "      <td>[[0, 0, 0, 0, 0, 0, 0, 0, 0, 0, 0, 1, 2, 1, 1,...</td>\n",
       "      <td>600.0</td>\n",
       "      <td>lot47542</td>\n",
       "      <td>Test</td>\n",
       "      <td>Edge-Ring</td>\n",
       "      <td>(26, 30)</td>\n",
       "    </tr>\n",
       "    <tr>\n",
       "      <th>811455</th>\n",
       "      <td>[[0, 0, 0, 0, 0, 0, 0, 0, 0, 0, 0, 1, 1, 1, 1,...</td>\n",
       "      <td>600.0</td>\n",
       "      <td>lot47543</td>\n",
       "      <td>None</td>\n",
       "      <td>None</td>\n",
       "      <td>(26, 30)</td>\n",
       "    </tr>\n",
       "    <tr>\n",
       "      <th>811456</th>\n",
       "      <td>[[0, 0, 0, 0, 0, 0, 0, 0, 0, 0, 0, 1, 2, 1, 1,...</td>\n",
       "      <td>600.0</td>\n",
       "      <td>lot47543</td>\n",
       "      <td>None</td>\n",
       "      <td>None</td>\n",
       "      <td>(26, 30)</td>\n",
       "    </tr>\n",
       "  </tbody>\n",
       "</table>\n",
       "<p>811457 rows × 6 columns</p>\n",
       "</div>"
      ],
      "text/plain": [
       "                                                 waferMap  dieSize   lotName  \\\n",
       "0       [[0, 0, 0, 0, 0, 0, 0, 0, 0, 0, 0, 0, 0, 0, 0,...   1683.0      lot1   \n",
       "1       [[0, 0, 0, 0, 0, 0, 0, 0, 0, 0, 0, 0, 0, 0, 0,...   1683.0      lot1   \n",
       "2       [[0, 0, 0, 0, 0, 0, 0, 0, 0, 0, 0, 0, 0, 0, 0,...   1683.0      lot1   \n",
       "3       [[0, 0, 0, 0, 0, 0, 0, 0, 0, 0, 0, 0, 0, 0, 0,...   1683.0      lot1   \n",
       "4       [[0, 0, 0, 0, 0, 0, 0, 0, 0, 0, 0, 0, 0, 0, 0,...   1683.0      lot1   \n",
       "...                                                   ...      ...       ...   \n",
       "811452  [[0, 0, 0, 0, 0, 0, 0, 0, 0, 0, 0, 1, 2, 1, 1,...    600.0  lot47542   \n",
       "811453  [[0, 0, 0, 0, 0, 0, 0, 0, 0, 0, 0, 2, 2, 1, 1,...    600.0  lot47542   \n",
       "811454  [[0, 0, 0, 0, 0, 0, 0, 0, 0, 0, 0, 1, 2, 1, 1,...    600.0  lot47542   \n",
       "811455  [[0, 0, 0, 0, 0, 0, 0, 0, 0, 0, 0, 1, 1, 1, 1,...    600.0  lot47543   \n",
       "811456  [[0, 0, 0, 0, 0, 0, 0, 0, 0, 0, 0, 1, 2, 1, 1,...    600.0  lot47543   \n",
       "\n",
       "       TrainTestLabel failureType waferMapDim  \n",
       "0            Training        none    (45, 48)  \n",
       "1            Training        none    (45, 48)  \n",
       "2            Training        none    (45, 48)  \n",
       "3            Training        none    (45, 48)  \n",
       "4            Training        none    (45, 48)  \n",
       "...               ...         ...         ...  \n",
       "811452           Test   Edge-Ring    (26, 30)  \n",
       "811453           Test    Edge-Loc    (26, 30)  \n",
       "811454           Test   Edge-Ring    (26, 30)  \n",
       "811455           None        None    (26, 30)  \n",
       "811456           None        None    (26, 30)  \n",
       "\n",
       "[811457 rows x 6 columns]"
      ]
     },
     "execution_count": 11,
     "metadata": {},
     "output_type": "execute_result"
    }
   ],
   "source": [
    "df"
   ]
  },
  {
   "cell_type": "code",
   "execution_count": 12,
   "metadata": {},
   "outputs": [],
   "source": [
    "df_ = df.dropna(subset=['failureType'])"
   ]
  },
  {
   "cell_type": "code",
   "execution_count": 13,
   "metadata": {},
   "outputs": [
    {
     "data": {
      "text/html": [
       "<div>\n",
       "<style scoped>\n",
       "    .dataframe tbody tr th:only-of-type {\n",
       "        vertical-align: middle;\n",
       "    }\n",
       "\n",
       "    .dataframe tbody tr th {\n",
       "        vertical-align: top;\n",
       "    }\n",
       "\n",
       "    .dataframe thead th {\n",
       "        text-align: right;\n",
       "    }\n",
       "</style>\n",
       "<table border=\"1\" class=\"dataframe\">\n",
       "  <thead>\n",
       "    <tr style=\"text-align: right;\">\n",
       "      <th></th>\n",
       "      <th>waferMap</th>\n",
       "      <th>dieSize</th>\n",
       "      <th>lotName</th>\n",
       "      <th>TrainTestLabel</th>\n",
       "      <th>failureType</th>\n",
       "      <th>waferMapDim</th>\n",
       "    </tr>\n",
       "  </thead>\n",
       "  <tbody>\n",
       "    <tr>\n",
       "      <th>0</th>\n",
       "      <td>[[0, 0, 0, 0, 0, 0, 0, 0, 0, 0, 0, 0, 0, 0, 0,...</td>\n",
       "      <td>1683.0</td>\n",
       "      <td>lot1</td>\n",
       "      <td>Training</td>\n",
       "      <td>none</td>\n",
       "      <td>(45, 48)</td>\n",
       "    </tr>\n",
       "    <tr>\n",
       "      <th>1</th>\n",
       "      <td>[[0, 0, 0, 0, 0, 0, 0, 0, 0, 0, 0, 0, 0, 0, 0,...</td>\n",
       "      <td>1683.0</td>\n",
       "      <td>lot1</td>\n",
       "      <td>Training</td>\n",
       "      <td>none</td>\n",
       "      <td>(45, 48)</td>\n",
       "    </tr>\n",
       "    <tr>\n",
       "      <th>2</th>\n",
       "      <td>[[0, 0, 0, 0, 0, 0, 0, 0, 0, 0, 0, 0, 0, 0, 0,...</td>\n",
       "      <td>1683.0</td>\n",
       "      <td>lot1</td>\n",
       "      <td>Training</td>\n",
       "      <td>none</td>\n",
       "      <td>(45, 48)</td>\n",
       "    </tr>\n",
       "    <tr>\n",
       "      <th>3</th>\n",
       "      <td>[[0, 0, 0, 0, 0, 0, 0, 0, 0, 0, 0, 0, 0, 0, 0,...</td>\n",
       "      <td>1683.0</td>\n",
       "      <td>lot1</td>\n",
       "      <td>Training</td>\n",
       "      <td>none</td>\n",
       "      <td>(45, 48)</td>\n",
       "    </tr>\n",
       "    <tr>\n",
       "      <th>4</th>\n",
       "      <td>[[0, 0, 0, 0, 0, 0, 0, 0, 0, 0, 0, 0, 0, 0, 0,...</td>\n",
       "      <td>1683.0</td>\n",
       "      <td>lot1</td>\n",
       "      <td>Training</td>\n",
       "      <td>none</td>\n",
       "      <td>(45, 48)</td>\n",
       "    </tr>\n",
       "    <tr>\n",
       "      <th>...</th>\n",
       "      <td>...</td>\n",
       "      <td>...</td>\n",
       "      <td>...</td>\n",
       "      <td>...</td>\n",
       "      <td>...</td>\n",
       "      <td>...</td>\n",
       "    </tr>\n",
       "    <tr>\n",
       "      <th>811450</th>\n",
       "      <td>[[0, 0, 0, 0, 0, 0, 0, 0, 0, 0, 0, 1, 2, 1, 2,...</td>\n",
       "      <td>600.0</td>\n",
       "      <td>lot47542</td>\n",
       "      <td>Test</td>\n",
       "      <td>Edge-Loc</td>\n",
       "      <td>(26, 30)</td>\n",
       "    </tr>\n",
       "    <tr>\n",
       "      <th>811451</th>\n",
       "      <td>[[0, 0, 0, 0, 0, 0, 0, 0, 0, 0, 0, 1, 1, 1, 1,...</td>\n",
       "      <td>600.0</td>\n",
       "      <td>lot47542</td>\n",
       "      <td>Test</td>\n",
       "      <td>Edge-Loc</td>\n",
       "      <td>(26, 30)</td>\n",
       "    </tr>\n",
       "    <tr>\n",
       "      <th>811452</th>\n",
       "      <td>[[0, 0, 0, 0, 0, 0, 0, 0, 0, 0, 0, 1, 2, 1, 1,...</td>\n",
       "      <td>600.0</td>\n",
       "      <td>lot47542</td>\n",
       "      <td>Test</td>\n",
       "      <td>Edge-Ring</td>\n",
       "      <td>(26, 30)</td>\n",
       "    </tr>\n",
       "    <tr>\n",
       "      <th>811453</th>\n",
       "      <td>[[0, 0, 0, 0, 0, 0, 0, 0, 0, 0, 0, 2, 2, 1, 1,...</td>\n",
       "      <td>600.0</td>\n",
       "      <td>lot47542</td>\n",
       "      <td>Test</td>\n",
       "      <td>Edge-Loc</td>\n",
       "      <td>(26, 30)</td>\n",
       "    </tr>\n",
       "    <tr>\n",
       "      <th>811454</th>\n",
       "      <td>[[0, 0, 0, 0, 0, 0, 0, 0, 0, 0, 0, 1, 2, 1, 1,...</td>\n",
       "      <td>600.0</td>\n",
       "      <td>lot47542</td>\n",
       "      <td>Test</td>\n",
       "      <td>Edge-Ring</td>\n",
       "      <td>(26, 30)</td>\n",
       "    </tr>\n",
       "  </tbody>\n",
       "</table>\n",
       "<p>172950 rows × 6 columns</p>\n",
       "</div>"
      ],
      "text/plain": [
       "                                                 waferMap  dieSize   lotName  \\\n",
       "0       [[0, 0, 0, 0, 0, 0, 0, 0, 0, 0, 0, 0, 0, 0, 0,...   1683.0      lot1   \n",
       "1       [[0, 0, 0, 0, 0, 0, 0, 0, 0, 0, 0, 0, 0, 0, 0,...   1683.0      lot1   \n",
       "2       [[0, 0, 0, 0, 0, 0, 0, 0, 0, 0, 0, 0, 0, 0, 0,...   1683.0      lot1   \n",
       "3       [[0, 0, 0, 0, 0, 0, 0, 0, 0, 0, 0, 0, 0, 0, 0,...   1683.0      lot1   \n",
       "4       [[0, 0, 0, 0, 0, 0, 0, 0, 0, 0, 0, 0, 0, 0, 0,...   1683.0      lot1   \n",
       "...                                                   ...      ...       ...   \n",
       "811450  [[0, 0, 0, 0, 0, 0, 0, 0, 0, 0, 0, 1, 2, 1, 2,...    600.0  lot47542   \n",
       "811451  [[0, 0, 0, 0, 0, 0, 0, 0, 0, 0, 0, 1, 1, 1, 1,...    600.0  lot47542   \n",
       "811452  [[0, 0, 0, 0, 0, 0, 0, 0, 0, 0, 0, 1, 2, 1, 1,...    600.0  lot47542   \n",
       "811453  [[0, 0, 0, 0, 0, 0, 0, 0, 0, 0, 0, 2, 2, 1, 1,...    600.0  lot47542   \n",
       "811454  [[0, 0, 0, 0, 0, 0, 0, 0, 0, 0, 0, 1, 2, 1, 1,...    600.0  lot47542   \n",
       "\n",
       "       TrainTestLabel failureType waferMapDim  \n",
       "0            Training        none    (45, 48)  \n",
       "1            Training        none    (45, 48)  \n",
       "2            Training        none    (45, 48)  \n",
       "3            Training        none    (45, 48)  \n",
       "4            Training        none    (45, 48)  \n",
       "...               ...         ...         ...  \n",
       "811450           Test    Edge-Loc    (26, 30)  \n",
       "811451           Test    Edge-Loc    (26, 30)  \n",
       "811452           Test   Edge-Ring    (26, 30)  \n",
       "811453           Test    Edge-Loc    (26, 30)  \n",
       "811454           Test   Edge-Ring    (26, 30)  \n",
       "\n",
       "[172950 rows x 6 columns]"
      ]
     },
     "execution_count": 13,
     "metadata": {},
     "output_type": "execute_result"
    }
   ],
   "source": [
    "df_"
   ]
  },
  {
   "cell_type": "code",
   "execution_count": 14,
   "metadata": {},
   "outputs": [
    {
     "data": {
      "text/plain": [
       "((212, 84), (15, 3))"
      ]
     },
     "execution_count": 14,
     "metadata": {},
     "output_type": "execute_result"
    }
   ],
   "source": [
    "max(df_.waferMapDim), min(df_.waferMapDim)"
   ]
  },
  {
   "cell_type": "code",
   "execution_count": 15,
   "metadata": {},
   "outputs": [
    {
     "data": {
      "text/plain": [
       "346"
      ]
     },
     "execution_count": 15,
     "metadata": {},
     "output_type": "execute_result"
    }
   ],
   "source": [
    "uni_waferDim=np.unique(df_.waferMapDim, return_counts=True)\n",
    "uni_waferDim[0].shape[0]\n",
    "# 632개의 서로다른 Wafer map size 가 존재."
   ]
  },
  {
   "cell_type": "code",
   "execution_count": 16,
   "metadata": {},
   "outputs": [
    {
     "data": {
      "text/plain": [
       "waferMapDim\n",
       "(25, 27)    18781\n",
       "(26, 26)    14366\n",
       "(30, 34)    12400\n",
       "(29, 26)    11751\n",
       "(27, 25)    10682\n",
       "(39, 37)    10173\n",
       "(33, 29)     8125\n",
       "(42, 44)     6724\n",
       "(44, 41)     6134\n",
       "(41, 33)     5091\n",
       "(35, 31)     4331\n",
       "(25, 26)     4174\n",
       "(41, 38)     4152\n",
       "(33, 37)     3729\n",
       "(29, 27)     2872\n",
       "(45, 42)     2648\n",
       "(43, 44)     2578\n",
       "(41, 40)     2572\n",
       "(41, 45)     2313\n",
       "(38, 36)     2127\n",
       "dtype: int64"
      ]
     },
     "execution_count": 16,
     "metadata": {},
     "output_type": "execute_result"
    }
   ],
   "source": [
    "df_.groupby(\"waferMapDim\").size().sort_values(ascending=False)[:20]"
   ]
  },
  {
   "cell_type": "markdown",
   "metadata": {},
   "source": [
    "* The dimension of wafer map, or saying the **image size** are not always the same. We noticed that there are **632** different size for our wafer map. \n",
    "\n",
    "* For this reason, we must do **data tranformation** (feature extraction) to **make input the same dim** and the method will be introduced in the following section."
   ]
  },
  {
   "cell_type": "markdown",
   "metadata": {},
   "source": [
    ">**Missing value check**\n",
    "* Do not be afraid to handle so large dataset. When you look into the dataset you may notice quite number of data are useless due to **missing values**.\n",
    "\n",
    "* Do missing value check is an important part during data preparing process. Since we only interested in wafer with patterns, we may remove those data without failure type labels. "
   ]
  },
  {
   "cell_type": "code",
   "execution_count": 17,
   "metadata": {},
   "outputs": [],
   "source": [
    "df['failureNum']=df.failureType\n",
    "df['trainTestNum']=df.TrainTestLabel\n",
    "mapping_type={'Center':0,'Donut':1,'Edge-Loc':2,'Edge-Ring':3,'Loc':4,'Random':5,'Scratch':6,'Near-full':7,'none':8}\n",
    "mapping_traintest={'Training':0,'Test':1}\n",
    "df=df.replace({'failureNum':mapping_type, 'trainTestNum':mapping_traintest})"
   ]
  },
  {
   "cell_type": "code",
   "execution_count": 18,
   "metadata": {},
   "outputs": [
    {
     "data": {
      "text/html": [
       "<div>\n",
       "<style scoped>\n",
       "    .dataframe tbody tr th:only-of-type {\n",
       "        vertical-align: middle;\n",
       "    }\n",
       "\n",
       "    .dataframe tbody tr th {\n",
       "        vertical-align: top;\n",
       "    }\n",
       "\n",
       "    .dataframe thead th {\n",
       "        text-align: right;\n",
       "    }\n",
       "</style>\n",
       "<table border=\"1\" class=\"dataframe\">\n",
       "  <thead>\n",
       "    <tr style=\"text-align: right;\">\n",
       "      <th></th>\n",
       "      <th>waferMap</th>\n",
       "      <th>dieSize</th>\n",
       "      <th>lotName</th>\n",
       "      <th>TrainTestLabel</th>\n",
       "      <th>failureType</th>\n",
       "      <th>waferMapDim</th>\n",
       "      <th>failureNum</th>\n",
       "      <th>trainTestNum</th>\n",
       "    </tr>\n",
       "  </thead>\n",
       "  <tbody>\n",
       "    <tr>\n",
       "      <th>0</th>\n",
       "      <td>[[0, 0, 0, 0, 0, 0, 0, 0, 0, 0, 0, 0, 0, 0, 0,...</td>\n",
       "      <td>1683.0</td>\n",
       "      <td>lot1</td>\n",
       "      <td>Training</td>\n",
       "      <td>none</td>\n",
       "      <td>(45, 48)</td>\n",
       "      <td>8.0</td>\n",
       "      <td>0.0</td>\n",
       "    </tr>\n",
       "    <tr>\n",
       "      <th>1</th>\n",
       "      <td>[[0, 0, 0, 0, 0, 0, 0, 0, 0, 0, 0, 0, 0, 0, 0,...</td>\n",
       "      <td>1683.0</td>\n",
       "      <td>lot1</td>\n",
       "      <td>Training</td>\n",
       "      <td>none</td>\n",
       "      <td>(45, 48)</td>\n",
       "      <td>8.0</td>\n",
       "      <td>0.0</td>\n",
       "    </tr>\n",
       "    <tr>\n",
       "      <th>2</th>\n",
       "      <td>[[0, 0, 0, 0, 0, 0, 0, 0, 0, 0, 0, 0, 0, 0, 0,...</td>\n",
       "      <td>1683.0</td>\n",
       "      <td>lot1</td>\n",
       "      <td>Training</td>\n",
       "      <td>none</td>\n",
       "      <td>(45, 48)</td>\n",
       "      <td>8.0</td>\n",
       "      <td>0.0</td>\n",
       "    </tr>\n",
       "    <tr>\n",
       "      <th>3</th>\n",
       "      <td>[[0, 0, 0, 0, 0, 0, 0, 0, 0, 0, 0, 0, 0, 0, 0,...</td>\n",
       "      <td>1683.0</td>\n",
       "      <td>lot1</td>\n",
       "      <td>Training</td>\n",
       "      <td>none</td>\n",
       "      <td>(45, 48)</td>\n",
       "      <td>8.0</td>\n",
       "      <td>0.0</td>\n",
       "    </tr>\n",
       "    <tr>\n",
       "      <th>4</th>\n",
       "      <td>[[0, 0, 0, 0, 0, 0, 0, 0, 0, 0, 0, 0, 0, 0, 0,...</td>\n",
       "      <td>1683.0</td>\n",
       "      <td>lot1</td>\n",
       "      <td>Training</td>\n",
       "      <td>none</td>\n",
       "      <td>(45, 48)</td>\n",
       "      <td>8.0</td>\n",
       "      <td>0.0</td>\n",
       "    </tr>\n",
       "    <tr>\n",
       "      <th>...</th>\n",
       "      <td>...</td>\n",
       "      <td>...</td>\n",
       "      <td>...</td>\n",
       "      <td>...</td>\n",
       "      <td>...</td>\n",
       "      <td>...</td>\n",
       "      <td>...</td>\n",
       "      <td>...</td>\n",
       "    </tr>\n",
       "    <tr>\n",
       "      <th>811452</th>\n",
       "      <td>[[0, 0, 0, 0, 0, 0, 0, 0, 0, 0, 0, 1, 2, 1, 1,...</td>\n",
       "      <td>600.0</td>\n",
       "      <td>lot47542</td>\n",
       "      <td>Test</td>\n",
       "      <td>Edge-Ring</td>\n",
       "      <td>(26, 30)</td>\n",
       "      <td>3.0</td>\n",
       "      <td>1.0</td>\n",
       "    </tr>\n",
       "    <tr>\n",
       "      <th>811453</th>\n",
       "      <td>[[0, 0, 0, 0, 0, 0, 0, 0, 0, 0, 0, 2, 2, 1, 1,...</td>\n",
       "      <td>600.0</td>\n",
       "      <td>lot47542</td>\n",
       "      <td>Test</td>\n",
       "      <td>Edge-Loc</td>\n",
       "      <td>(26, 30)</td>\n",
       "      <td>2.0</td>\n",
       "      <td>1.0</td>\n",
       "    </tr>\n",
       "    <tr>\n",
       "      <th>811454</th>\n",
       "      <td>[[0, 0, 0, 0, 0, 0, 0, 0, 0, 0, 0, 1, 2, 1, 1,...</td>\n",
       "      <td>600.0</td>\n",
       "      <td>lot47542</td>\n",
       "      <td>Test</td>\n",
       "      <td>Edge-Ring</td>\n",
       "      <td>(26, 30)</td>\n",
       "      <td>3.0</td>\n",
       "      <td>1.0</td>\n",
       "    </tr>\n",
       "    <tr>\n",
       "      <th>811455</th>\n",
       "      <td>[[0, 0, 0, 0, 0, 0, 0, 0, 0, 0, 0, 1, 1, 1, 1,...</td>\n",
       "      <td>600.0</td>\n",
       "      <td>lot47543</td>\n",
       "      <td>None</td>\n",
       "      <td>None</td>\n",
       "      <td>(26, 30)</td>\n",
       "      <td>NaN</td>\n",
       "      <td>NaN</td>\n",
       "    </tr>\n",
       "    <tr>\n",
       "      <th>811456</th>\n",
       "      <td>[[0, 0, 0, 0, 0, 0, 0, 0, 0, 0, 0, 1, 2, 1, 1,...</td>\n",
       "      <td>600.0</td>\n",
       "      <td>lot47543</td>\n",
       "      <td>None</td>\n",
       "      <td>None</td>\n",
       "      <td>(26, 30)</td>\n",
       "      <td>NaN</td>\n",
       "      <td>NaN</td>\n",
       "    </tr>\n",
       "  </tbody>\n",
       "</table>\n",
       "<p>811457 rows × 8 columns</p>\n",
       "</div>"
      ],
      "text/plain": [
       "                                                 waferMap  dieSize   lotName  \\\n",
       "0       [[0, 0, 0, 0, 0, 0, 0, 0, 0, 0, 0, 0, 0, 0, 0,...   1683.0      lot1   \n",
       "1       [[0, 0, 0, 0, 0, 0, 0, 0, 0, 0, 0, 0, 0, 0, 0,...   1683.0      lot1   \n",
       "2       [[0, 0, 0, 0, 0, 0, 0, 0, 0, 0, 0, 0, 0, 0, 0,...   1683.0      lot1   \n",
       "3       [[0, 0, 0, 0, 0, 0, 0, 0, 0, 0, 0, 0, 0, 0, 0,...   1683.0      lot1   \n",
       "4       [[0, 0, 0, 0, 0, 0, 0, 0, 0, 0, 0, 0, 0, 0, 0,...   1683.0      lot1   \n",
       "...                                                   ...      ...       ...   \n",
       "811452  [[0, 0, 0, 0, 0, 0, 0, 0, 0, 0, 0, 1, 2, 1, 1,...    600.0  lot47542   \n",
       "811453  [[0, 0, 0, 0, 0, 0, 0, 0, 0, 0, 0, 2, 2, 1, 1,...    600.0  lot47542   \n",
       "811454  [[0, 0, 0, 0, 0, 0, 0, 0, 0, 0, 0, 1, 2, 1, 1,...    600.0  lot47542   \n",
       "811455  [[0, 0, 0, 0, 0, 0, 0, 0, 0, 0, 0, 1, 1, 1, 1,...    600.0  lot47543   \n",
       "811456  [[0, 0, 0, 0, 0, 0, 0, 0, 0, 0, 0, 1, 2, 1, 1,...    600.0  lot47543   \n",
       "\n",
       "       TrainTestLabel failureType waferMapDim  failureNum  trainTestNum  \n",
       "0            Training        none    (45, 48)         8.0           0.0  \n",
       "1            Training        none    (45, 48)         8.0           0.0  \n",
       "2            Training        none    (45, 48)         8.0           0.0  \n",
       "3            Training        none    (45, 48)         8.0           0.0  \n",
       "4            Training        none    (45, 48)         8.0           0.0  \n",
       "...               ...         ...         ...         ...           ...  \n",
       "811452           Test   Edge-Ring    (26, 30)         3.0           1.0  \n",
       "811453           Test    Edge-Loc    (26, 30)         2.0           1.0  \n",
       "811454           Test   Edge-Ring    (26, 30)         3.0           1.0  \n",
       "811455           None        None    (26, 30)         NaN           NaN  \n",
       "811456           None        None    (26, 30)         NaN           NaN  \n",
       "\n",
       "[811457 rows x 8 columns]"
      ]
     },
     "execution_count": 18,
     "metadata": {},
     "output_type": "execute_result"
    }
   ],
   "source": [
    "df"
   ]
  },
  {
   "cell_type": "code",
   "execution_count": 19,
   "metadata": {},
   "outputs": [
    {
     "data": {
      "text/plain": [
       "(172950, 25519, 147431)"
      ]
     },
     "execution_count": 19,
     "metadata": {},
     "output_type": "execute_result"
    }
   ],
   "source": [
    "df_withlabel = df[(df['failureNum']>=0) & (df['failureNum']<=8)]\n",
    "df_withlabel =df_withlabel.reset_index()\n",
    "df_withpattern = df[(df['failureNum']>=0) & (df['failureNum']<=7)]\n",
    "df_withpattern = df_withpattern.reset_index()\n",
    "df_nonpattern = df[(df['failureNum']==8)]\n",
    "df_withlabel.shape[0], df_withpattern.shape[0], df_nonpattern.shape[0]"
   ]
  },
  {
   "cell_type": "code",
   "execution_count": 20,
   "metadata": {},
   "outputs": [
    {
     "data": {
      "text/html": [
       "<div>\n",
       "<style scoped>\n",
       "    .dataframe tbody tr th:only-of-type {\n",
       "        vertical-align: middle;\n",
       "    }\n",
       "\n",
       "    .dataframe tbody tr th {\n",
       "        vertical-align: top;\n",
       "    }\n",
       "\n",
       "    .dataframe thead th {\n",
       "        text-align: right;\n",
       "    }\n",
       "</style>\n",
       "<table border=\"1\" class=\"dataframe\">\n",
       "  <thead>\n",
       "    <tr style=\"text-align: right;\">\n",
       "      <th></th>\n",
       "      <th>index</th>\n",
       "      <th>waferMap</th>\n",
       "      <th>dieSize</th>\n",
       "      <th>lotName</th>\n",
       "      <th>TrainTestLabel</th>\n",
       "      <th>failureType</th>\n",
       "      <th>waferMapDim</th>\n",
       "      <th>failureNum</th>\n",
       "      <th>trainTestNum</th>\n",
       "    </tr>\n",
       "  </thead>\n",
       "  <tbody>\n",
       "    <tr>\n",
       "      <th>0</th>\n",
       "      <td>0</td>\n",
       "      <td>[[0, 0, 0, 0, 0, 0, 0, 0, 0, 0, 0, 0, 0, 0, 0,...</td>\n",
       "      <td>1683.0</td>\n",
       "      <td>lot1</td>\n",
       "      <td>Training</td>\n",
       "      <td>none</td>\n",
       "      <td>(45, 48)</td>\n",
       "      <td>8.0</td>\n",
       "      <td>0.0</td>\n",
       "    </tr>\n",
       "    <tr>\n",
       "      <th>1</th>\n",
       "      <td>1</td>\n",
       "      <td>[[0, 0, 0, 0, 0, 0, 0, 0, 0, 0, 0, 0, 0, 0, 0,...</td>\n",
       "      <td>1683.0</td>\n",
       "      <td>lot1</td>\n",
       "      <td>Training</td>\n",
       "      <td>none</td>\n",
       "      <td>(45, 48)</td>\n",
       "      <td>8.0</td>\n",
       "      <td>0.0</td>\n",
       "    </tr>\n",
       "    <tr>\n",
       "      <th>2</th>\n",
       "      <td>2</td>\n",
       "      <td>[[0, 0, 0, 0, 0, 0, 0, 0, 0, 0, 0, 0, 0, 0, 0,...</td>\n",
       "      <td>1683.0</td>\n",
       "      <td>lot1</td>\n",
       "      <td>Training</td>\n",
       "      <td>none</td>\n",
       "      <td>(45, 48)</td>\n",
       "      <td>8.0</td>\n",
       "      <td>0.0</td>\n",
       "    </tr>\n",
       "    <tr>\n",
       "      <th>3</th>\n",
       "      <td>3</td>\n",
       "      <td>[[0, 0, 0, 0, 0, 0, 0, 0, 0, 0, 0, 0, 0, 0, 0,...</td>\n",
       "      <td>1683.0</td>\n",
       "      <td>lot1</td>\n",
       "      <td>Training</td>\n",
       "      <td>none</td>\n",
       "      <td>(45, 48)</td>\n",
       "      <td>8.0</td>\n",
       "      <td>0.0</td>\n",
       "    </tr>\n",
       "    <tr>\n",
       "      <th>4</th>\n",
       "      <td>4</td>\n",
       "      <td>[[0, 0, 0, 0, 0, 0, 0, 0, 0, 0, 0, 0, 0, 0, 0,...</td>\n",
       "      <td>1683.0</td>\n",
       "      <td>lot1</td>\n",
       "      <td>Training</td>\n",
       "      <td>none</td>\n",
       "      <td>(45, 48)</td>\n",
       "      <td>8.0</td>\n",
       "      <td>0.0</td>\n",
       "    </tr>\n",
       "    <tr>\n",
       "      <th>...</th>\n",
       "      <td>...</td>\n",
       "      <td>...</td>\n",
       "      <td>...</td>\n",
       "      <td>...</td>\n",
       "      <td>...</td>\n",
       "      <td>...</td>\n",
       "      <td>...</td>\n",
       "      <td>...</td>\n",
       "      <td>...</td>\n",
       "    </tr>\n",
       "    <tr>\n",
       "      <th>172945</th>\n",
       "      <td>811450</td>\n",
       "      <td>[[0, 0, 0, 0, 0, 0, 0, 0, 0, 0, 0, 1, 2, 1, 2,...</td>\n",
       "      <td>600.0</td>\n",
       "      <td>lot47542</td>\n",
       "      <td>Test</td>\n",
       "      <td>Edge-Loc</td>\n",
       "      <td>(26, 30)</td>\n",
       "      <td>2.0</td>\n",
       "      <td>1.0</td>\n",
       "    </tr>\n",
       "    <tr>\n",
       "      <th>172946</th>\n",
       "      <td>811451</td>\n",
       "      <td>[[0, 0, 0, 0, 0, 0, 0, 0, 0, 0, 0, 1, 1, 1, 1,...</td>\n",
       "      <td>600.0</td>\n",
       "      <td>lot47542</td>\n",
       "      <td>Test</td>\n",
       "      <td>Edge-Loc</td>\n",
       "      <td>(26, 30)</td>\n",
       "      <td>2.0</td>\n",
       "      <td>1.0</td>\n",
       "    </tr>\n",
       "    <tr>\n",
       "      <th>172947</th>\n",
       "      <td>811452</td>\n",
       "      <td>[[0, 0, 0, 0, 0, 0, 0, 0, 0, 0, 0, 1, 2, 1, 1,...</td>\n",
       "      <td>600.0</td>\n",
       "      <td>lot47542</td>\n",
       "      <td>Test</td>\n",
       "      <td>Edge-Ring</td>\n",
       "      <td>(26, 30)</td>\n",
       "      <td>3.0</td>\n",
       "      <td>1.0</td>\n",
       "    </tr>\n",
       "    <tr>\n",
       "      <th>172948</th>\n",
       "      <td>811453</td>\n",
       "      <td>[[0, 0, 0, 0, 0, 0, 0, 0, 0, 0, 0, 2, 2, 1, 1,...</td>\n",
       "      <td>600.0</td>\n",
       "      <td>lot47542</td>\n",
       "      <td>Test</td>\n",
       "      <td>Edge-Loc</td>\n",
       "      <td>(26, 30)</td>\n",
       "      <td>2.0</td>\n",
       "      <td>1.0</td>\n",
       "    </tr>\n",
       "    <tr>\n",
       "      <th>172949</th>\n",
       "      <td>811454</td>\n",
       "      <td>[[0, 0, 0, 0, 0, 0, 0, 0, 0, 0, 0, 1, 2, 1, 1,...</td>\n",
       "      <td>600.0</td>\n",
       "      <td>lot47542</td>\n",
       "      <td>Test</td>\n",
       "      <td>Edge-Ring</td>\n",
       "      <td>(26, 30)</td>\n",
       "      <td>3.0</td>\n",
       "      <td>1.0</td>\n",
       "    </tr>\n",
       "  </tbody>\n",
       "</table>\n",
       "<p>172950 rows × 9 columns</p>\n",
       "</div>"
      ],
      "text/plain": [
       "         index                                           waferMap  dieSize  \\\n",
       "0            0  [[0, 0, 0, 0, 0, 0, 0, 0, 0, 0, 0, 0, 0, 0, 0,...   1683.0   \n",
       "1            1  [[0, 0, 0, 0, 0, 0, 0, 0, 0, 0, 0, 0, 0, 0, 0,...   1683.0   \n",
       "2            2  [[0, 0, 0, 0, 0, 0, 0, 0, 0, 0, 0, 0, 0, 0, 0,...   1683.0   \n",
       "3            3  [[0, 0, 0, 0, 0, 0, 0, 0, 0, 0, 0, 0, 0, 0, 0,...   1683.0   \n",
       "4            4  [[0, 0, 0, 0, 0, 0, 0, 0, 0, 0, 0, 0, 0, 0, 0,...   1683.0   \n",
       "...        ...                                                ...      ...   \n",
       "172945  811450  [[0, 0, 0, 0, 0, 0, 0, 0, 0, 0, 0, 1, 2, 1, 2,...    600.0   \n",
       "172946  811451  [[0, 0, 0, 0, 0, 0, 0, 0, 0, 0, 0, 1, 1, 1, 1,...    600.0   \n",
       "172947  811452  [[0, 0, 0, 0, 0, 0, 0, 0, 0, 0, 0, 1, 2, 1, 1,...    600.0   \n",
       "172948  811453  [[0, 0, 0, 0, 0, 0, 0, 0, 0, 0, 0, 2, 2, 1, 1,...    600.0   \n",
       "172949  811454  [[0, 0, 0, 0, 0, 0, 0, 0, 0, 0, 0, 1, 2, 1, 1,...    600.0   \n",
       "\n",
       "         lotName TrainTestLabel failureType waferMapDim  failureNum  \\\n",
       "0           lot1       Training        none    (45, 48)         8.0   \n",
       "1           lot1       Training        none    (45, 48)         8.0   \n",
       "2           lot1       Training        none    (45, 48)         8.0   \n",
       "3           lot1       Training        none    (45, 48)         8.0   \n",
       "4           lot1       Training        none    (45, 48)         8.0   \n",
       "...          ...            ...         ...         ...         ...   \n",
       "172945  lot47542           Test    Edge-Loc    (26, 30)         2.0   \n",
       "172946  lot47542           Test    Edge-Loc    (26, 30)         2.0   \n",
       "172947  lot47542           Test   Edge-Ring    (26, 30)         3.0   \n",
       "172948  lot47542           Test    Edge-Loc    (26, 30)         2.0   \n",
       "172949  lot47542           Test   Edge-Ring    (26, 30)         3.0   \n",
       "\n",
       "        trainTestNum  \n",
       "0                0.0  \n",
       "1                0.0  \n",
       "2                0.0  \n",
       "3                0.0  \n",
       "4                0.0  \n",
       "...              ...  \n",
       "172945           1.0  \n",
       "172946           1.0  \n",
       "172947           1.0  \n",
       "172948           1.0  \n",
       "172949           1.0  \n",
       "\n",
       "[172950 rows x 9 columns]"
      ]
     },
     "execution_count": 20,
     "metadata": {},
     "output_type": "execute_result"
    }
   ],
   "source": [
    "df_withlabel"
   ]
  },
  {
   "cell_type": "code",
   "execution_count": 21,
   "metadata": {},
   "outputs": [
    {
     "data": {
      "text/html": [
       "<div>\n",
       "<style scoped>\n",
       "    .dataframe tbody tr th:only-of-type {\n",
       "        vertical-align: middle;\n",
       "    }\n",
       "\n",
       "    .dataframe tbody tr th {\n",
       "        vertical-align: top;\n",
       "    }\n",
       "\n",
       "    .dataframe thead th {\n",
       "        text-align: right;\n",
       "    }\n",
       "</style>\n",
       "<table border=\"1\" class=\"dataframe\">\n",
       "  <thead>\n",
       "    <tr style=\"text-align: right;\">\n",
       "      <th></th>\n",
       "      <th>index</th>\n",
       "      <th>waferMap</th>\n",
       "      <th>dieSize</th>\n",
       "      <th>lotName</th>\n",
       "      <th>TrainTestLabel</th>\n",
       "      <th>failureType</th>\n",
       "      <th>waferMapDim</th>\n",
       "      <th>failureNum</th>\n",
       "      <th>trainTestNum</th>\n",
       "    </tr>\n",
       "  </thead>\n",
       "  <tbody>\n",
       "    <tr>\n",
       "      <th>0</th>\n",
       "      <td>19</td>\n",
       "      <td>[[0, 0, 0, 0, 0, 0, 0, 0, 0, 0, 0, 0, 0, 0, 0,...</td>\n",
       "      <td>1683.0</td>\n",
       "      <td>lot1</td>\n",
       "      <td>Training</td>\n",
       "      <td>Loc</td>\n",
       "      <td>(45, 48)</td>\n",
       "      <td>4.0</td>\n",
       "      <td>0.0</td>\n",
       "    </tr>\n",
       "    <tr>\n",
       "      <th>1</th>\n",
       "      <td>36</td>\n",
       "      <td>[[0, 0, 0, 0, 0, 0, 0, 0, 0, 0, 0, 0, 0, 0, 0,...</td>\n",
       "      <td>2460.0</td>\n",
       "      <td>lot2</td>\n",
       "      <td>Training</td>\n",
       "      <td>Edge-Loc</td>\n",
       "      <td>(53, 58)</td>\n",
       "      <td>2.0</td>\n",
       "      <td>0.0</td>\n",
       "    </tr>\n",
       "    <tr>\n",
       "      <th>2</th>\n",
       "      <td>37</td>\n",
       "      <td>[[0, 0, 0, 0, 0, 0, 0, 0, 0, 0, 0, 0, 0, 0, 0,...</td>\n",
       "      <td>2460.0</td>\n",
       "      <td>lot2</td>\n",
       "      <td>Training</td>\n",
       "      <td>Edge-Loc</td>\n",
       "      <td>(53, 58)</td>\n",
       "      <td>2.0</td>\n",
       "      <td>0.0</td>\n",
       "    </tr>\n",
       "    <tr>\n",
       "      <th>3</th>\n",
       "      <td>38</td>\n",
       "      <td>[[0, 0, 0, 0, 0, 0, 0, 0, 0, 0, 0, 0, 0, 0, 0,...</td>\n",
       "      <td>2460.0</td>\n",
       "      <td>lot2</td>\n",
       "      <td>Training</td>\n",
       "      <td>Edge-Loc</td>\n",
       "      <td>(53, 58)</td>\n",
       "      <td>2.0</td>\n",
       "      <td>0.0</td>\n",
       "    </tr>\n",
       "    <tr>\n",
       "      <th>4</th>\n",
       "      <td>39</td>\n",
       "      <td>[[0, 0, 0, 0, 0, 0, 0, 0, 0, 0, 0, 0, 0, 0, 0,...</td>\n",
       "      <td>2460.0</td>\n",
       "      <td>lot2</td>\n",
       "      <td>Training</td>\n",
       "      <td>Edge-Loc</td>\n",
       "      <td>(53, 58)</td>\n",
       "      <td>2.0</td>\n",
       "      <td>0.0</td>\n",
       "    </tr>\n",
       "    <tr>\n",
       "      <th>...</th>\n",
       "      <td>...</td>\n",
       "      <td>...</td>\n",
       "      <td>...</td>\n",
       "      <td>...</td>\n",
       "      <td>...</td>\n",
       "      <td>...</td>\n",
       "      <td>...</td>\n",
       "      <td>...</td>\n",
       "      <td>...</td>\n",
       "    </tr>\n",
       "    <tr>\n",
       "      <th>25514</th>\n",
       "      <td>811450</td>\n",
       "      <td>[[0, 0, 0, 0, 0, 0, 0, 0, 0, 0, 0, 1, 2, 1, 2,...</td>\n",
       "      <td>600.0</td>\n",
       "      <td>lot47542</td>\n",
       "      <td>Test</td>\n",
       "      <td>Edge-Loc</td>\n",
       "      <td>(26, 30)</td>\n",
       "      <td>2.0</td>\n",
       "      <td>1.0</td>\n",
       "    </tr>\n",
       "    <tr>\n",
       "      <th>25515</th>\n",
       "      <td>811451</td>\n",
       "      <td>[[0, 0, 0, 0, 0, 0, 0, 0, 0, 0, 0, 1, 1, 1, 1,...</td>\n",
       "      <td>600.0</td>\n",
       "      <td>lot47542</td>\n",
       "      <td>Test</td>\n",
       "      <td>Edge-Loc</td>\n",
       "      <td>(26, 30)</td>\n",
       "      <td>2.0</td>\n",
       "      <td>1.0</td>\n",
       "    </tr>\n",
       "    <tr>\n",
       "      <th>25516</th>\n",
       "      <td>811452</td>\n",
       "      <td>[[0, 0, 0, 0, 0, 0, 0, 0, 0, 0, 0, 1, 2, 1, 1,...</td>\n",
       "      <td>600.0</td>\n",
       "      <td>lot47542</td>\n",
       "      <td>Test</td>\n",
       "      <td>Edge-Ring</td>\n",
       "      <td>(26, 30)</td>\n",
       "      <td>3.0</td>\n",
       "      <td>1.0</td>\n",
       "    </tr>\n",
       "    <tr>\n",
       "      <th>25517</th>\n",
       "      <td>811453</td>\n",
       "      <td>[[0, 0, 0, 0, 0, 0, 0, 0, 0, 0, 0, 2, 2, 1, 1,...</td>\n",
       "      <td>600.0</td>\n",
       "      <td>lot47542</td>\n",
       "      <td>Test</td>\n",
       "      <td>Edge-Loc</td>\n",
       "      <td>(26, 30)</td>\n",
       "      <td>2.0</td>\n",
       "      <td>1.0</td>\n",
       "    </tr>\n",
       "    <tr>\n",
       "      <th>25518</th>\n",
       "      <td>811454</td>\n",
       "      <td>[[0, 0, 0, 0, 0, 0, 0, 0, 0, 0, 0, 1, 2, 1, 1,...</td>\n",
       "      <td>600.0</td>\n",
       "      <td>lot47542</td>\n",
       "      <td>Test</td>\n",
       "      <td>Edge-Ring</td>\n",
       "      <td>(26, 30)</td>\n",
       "      <td>3.0</td>\n",
       "      <td>1.0</td>\n",
       "    </tr>\n",
       "  </tbody>\n",
       "</table>\n",
       "<p>25519 rows × 9 columns</p>\n",
       "</div>"
      ],
      "text/plain": [
       "        index                                           waferMap  dieSize  \\\n",
       "0          19  [[0, 0, 0, 0, 0, 0, 0, 0, 0, 0, 0, 0, 0, 0, 0,...   1683.0   \n",
       "1          36  [[0, 0, 0, 0, 0, 0, 0, 0, 0, 0, 0, 0, 0, 0, 0,...   2460.0   \n",
       "2          37  [[0, 0, 0, 0, 0, 0, 0, 0, 0, 0, 0, 0, 0, 0, 0,...   2460.0   \n",
       "3          38  [[0, 0, 0, 0, 0, 0, 0, 0, 0, 0, 0, 0, 0, 0, 0,...   2460.0   \n",
       "4          39  [[0, 0, 0, 0, 0, 0, 0, 0, 0, 0, 0, 0, 0, 0, 0,...   2460.0   \n",
       "...       ...                                                ...      ...   \n",
       "25514  811450  [[0, 0, 0, 0, 0, 0, 0, 0, 0, 0, 0, 1, 2, 1, 2,...    600.0   \n",
       "25515  811451  [[0, 0, 0, 0, 0, 0, 0, 0, 0, 0, 0, 1, 1, 1, 1,...    600.0   \n",
       "25516  811452  [[0, 0, 0, 0, 0, 0, 0, 0, 0, 0, 0, 1, 2, 1, 1,...    600.0   \n",
       "25517  811453  [[0, 0, 0, 0, 0, 0, 0, 0, 0, 0, 0, 2, 2, 1, 1,...    600.0   \n",
       "25518  811454  [[0, 0, 0, 0, 0, 0, 0, 0, 0, 0, 0, 1, 2, 1, 1,...    600.0   \n",
       "\n",
       "        lotName TrainTestLabel failureType waferMapDim  failureNum  \\\n",
       "0          lot1       Training         Loc    (45, 48)         4.0   \n",
       "1          lot2       Training    Edge-Loc    (53, 58)         2.0   \n",
       "2          lot2       Training    Edge-Loc    (53, 58)         2.0   \n",
       "3          lot2       Training    Edge-Loc    (53, 58)         2.0   \n",
       "4          lot2       Training    Edge-Loc    (53, 58)         2.0   \n",
       "...         ...            ...         ...         ...         ...   \n",
       "25514  lot47542           Test    Edge-Loc    (26, 30)         2.0   \n",
       "25515  lot47542           Test    Edge-Loc    (26, 30)         2.0   \n",
       "25516  lot47542           Test   Edge-Ring    (26, 30)         3.0   \n",
       "25517  lot47542           Test    Edge-Loc    (26, 30)         2.0   \n",
       "25518  lot47542           Test   Edge-Ring    (26, 30)         3.0   \n",
       "\n",
       "       trainTestNum  \n",
       "0               0.0  \n",
       "1               0.0  \n",
       "2               0.0  \n",
       "3               0.0  \n",
       "4               0.0  \n",
       "...             ...  \n",
       "25514           1.0  \n",
       "25515           1.0  \n",
       "25516           1.0  \n",
       "25517           1.0  \n",
       "25518           1.0  \n",
       "\n",
       "[25519 rows x 9 columns]"
      ]
     },
     "execution_count": 21,
     "metadata": {},
     "output_type": "execute_result"
    }
   ],
   "source": [
    "df_withpattern\n",
    "# none 제거 버전"
   ]
  },
  {
   "cell_type": "code",
   "execution_count": 22,
   "metadata": {},
   "outputs": [
    {
     "data": {
      "text/html": [
       "<div>\n",
       "<style scoped>\n",
       "    .dataframe tbody tr th:only-of-type {\n",
       "        vertical-align: middle;\n",
       "    }\n",
       "\n",
       "    .dataframe tbody tr th {\n",
       "        vertical-align: top;\n",
       "    }\n",
       "\n",
       "    .dataframe thead th {\n",
       "        text-align: right;\n",
       "    }\n",
       "</style>\n",
       "<table border=\"1\" class=\"dataframe\">\n",
       "  <thead>\n",
       "    <tr style=\"text-align: right;\">\n",
       "      <th></th>\n",
       "      <th>waferMap</th>\n",
       "      <th>dieSize</th>\n",
       "      <th>lotName</th>\n",
       "      <th>TrainTestLabel</th>\n",
       "      <th>failureType</th>\n",
       "      <th>waferMapDim</th>\n",
       "      <th>failureNum</th>\n",
       "      <th>trainTestNum</th>\n",
       "    </tr>\n",
       "  </thead>\n",
       "  <tbody>\n",
       "    <tr>\n",
       "      <th>0</th>\n",
       "      <td>[[0, 0, 0, 0, 0, 0, 0, 0, 0, 0, 0, 0, 0, 0, 0,...</td>\n",
       "      <td>1683.0</td>\n",
       "      <td>lot1</td>\n",
       "      <td>Training</td>\n",
       "      <td>none</td>\n",
       "      <td>(45, 48)</td>\n",
       "      <td>8.0</td>\n",
       "      <td>0.0</td>\n",
       "    </tr>\n",
       "    <tr>\n",
       "      <th>1</th>\n",
       "      <td>[[0, 0, 0, 0, 0, 0, 0, 0, 0, 0, 0, 0, 0, 0, 0,...</td>\n",
       "      <td>1683.0</td>\n",
       "      <td>lot1</td>\n",
       "      <td>Training</td>\n",
       "      <td>none</td>\n",
       "      <td>(45, 48)</td>\n",
       "      <td>8.0</td>\n",
       "      <td>0.0</td>\n",
       "    </tr>\n",
       "    <tr>\n",
       "      <th>2</th>\n",
       "      <td>[[0, 0, 0, 0, 0, 0, 0, 0, 0, 0, 0, 0, 0, 0, 0,...</td>\n",
       "      <td>1683.0</td>\n",
       "      <td>lot1</td>\n",
       "      <td>Training</td>\n",
       "      <td>none</td>\n",
       "      <td>(45, 48)</td>\n",
       "      <td>8.0</td>\n",
       "      <td>0.0</td>\n",
       "    </tr>\n",
       "    <tr>\n",
       "      <th>3</th>\n",
       "      <td>[[0, 0, 0, 0, 0, 0, 0, 0, 0, 0, 0, 0, 0, 0, 0,...</td>\n",
       "      <td>1683.0</td>\n",
       "      <td>lot1</td>\n",
       "      <td>Training</td>\n",
       "      <td>none</td>\n",
       "      <td>(45, 48)</td>\n",
       "      <td>8.0</td>\n",
       "      <td>0.0</td>\n",
       "    </tr>\n",
       "    <tr>\n",
       "      <th>4</th>\n",
       "      <td>[[0, 0, 0, 0, 0, 0, 0, 0, 0, 0, 0, 0, 0, 0, 0,...</td>\n",
       "      <td>1683.0</td>\n",
       "      <td>lot1</td>\n",
       "      <td>Training</td>\n",
       "      <td>none</td>\n",
       "      <td>(45, 48)</td>\n",
       "      <td>8.0</td>\n",
       "      <td>0.0</td>\n",
       "    </tr>\n",
       "    <tr>\n",
       "      <th>...</th>\n",
       "      <td>...</td>\n",
       "      <td>...</td>\n",
       "      <td>...</td>\n",
       "      <td>...</td>\n",
       "      <td>...</td>\n",
       "      <td>...</td>\n",
       "      <td>...</td>\n",
       "      <td>...</td>\n",
       "    </tr>\n",
       "    <tr>\n",
       "      <th>811438</th>\n",
       "      <td>[[0, 0, 0, 0, 0, 0, 0, 0, 0, 0, 0, 1, 2, 1, 1,...</td>\n",
       "      <td>600.0</td>\n",
       "      <td>lot47542</td>\n",
       "      <td>Test</td>\n",
       "      <td>none</td>\n",
       "      <td>(26, 30)</td>\n",
       "      <td>8.0</td>\n",
       "      <td>1.0</td>\n",
       "    </tr>\n",
       "    <tr>\n",
       "      <th>811439</th>\n",
       "      <td>[[0, 0, 0, 0, 0, 0, 0, 0, 0, 0, 0, 1, 1, 1, 1,...</td>\n",
       "      <td>600.0</td>\n",
       "      <td>lot47542</td>\n",
       "      <td>Test</td>\n",
       "      <td>none</td>\n",
       "      <td>(26, 30)</td>\n",
       "      <td>8.0</td>\n",
       "      <td>1.0</td>\n",
       "    </tr>\n",
       "    <tr>\n",
       "      <th>811442</th>\n",
       "      <td>[[0, 0, 0, 0, 0, 0, 0, 0, 0, 0, 0, 2, 1, 1, 1,...</td>\n",
       "      <td>600.0</td>\n",
       "      <td>lot47542</td>\n",
       "      <td>Test</td>\n",
       "      <td>none</td>\n",
       "      <td>(26, 30)</td>\n",
       "      <td>8.0</td>\n",
       "      <td>1.0</td>\n",
       "    </tr>\n",
       "    <tr>\n",
       "      <th>811445</th>\n",
       "      <td>[[0, 0, 0, 0, 0, 0, 0, 0, 0, 0, 0, 1, 1, 1, 1,...</td>\n",
       "      <td>600.0</td>\n",
       "      <td>lot47542</td>\n",
       "      <td>Test</td>\n",
       "      <td>none</td>\n",
       "      <td>(26, 30)</td>\n",
       "      <td>8.0</td>\n",
       "      <td>1.0</td>\n",
       "    </tr>\n",
       "    <tr>\n",
       "      <th>811449</th>\n",
       "      <td>[[0, 0, 0, 0, 0, 0, 0, 0, 0, 0, 0, 1, 1, 1, 1,...</td>\n",
       "      <td>600.0</td>\n",
       "      <td>lot47542</td>\n",
       "      <td>Test</td>\n",
       "      <td>none</td>\n",
       "      <td>(26, 30)</td>\n",
       "      <td>8.0</td>\n",
       "      <td>1.0</td>\n",
       "    </tr>\n",
       "  </tbody>\n",
       "</table>\n",
       "<p>147431 rows × 8 columns</p>\n",
       "</div>"
      ],
      "text/plain": [
       "                                                 waferMap  dieSize   lotName  \\\n",
       "0       [[0, 0, 0, 0, 0, 0, 0, 0, 0, 0, 0, 0, 0, 0, 0,...   1683.0      lot1   \n",
       "1       [[0, 0, 0, 0, 0, 0, 0, 0, 0, 0, 0, 0, 0, 0, 0,...   1683.0      lot1   \n",
       "2       [[0, 0, 0, 0, 0, 0, 0, 0, 0, 0, 0, 0, 0, 0, 0,...   1683.0      lot1   \n",
       "3       [[0, 0, 0, 0, 0, 0, 0, 0, 0, 0, 0, 0, 0, 0, 0,...   1683.0      lot1   \n",
       "4       [[0, 0, 0, 0, 0, 0, 0, 0, 0, 0, 0, 0, 0, 0, 0,...   1683.0      lot1   \n",
       "...                                                   ...      ...       ...   \n",
       "811438  [[0, 0, 0, 0, 0, 0, 0, 0, 0, 0, 0, 1, 2, 1, 1,...    600.0  lot47542   \n",
       "811439  [[0, 0, 0, 0, 0, 0, 0, 0, 0, 0, 0, 1, 1, 1, 1,...    600.0  lot47542   \n",
       "811442  [[0, 0, 0, 0, 0, 0, 0, 0, 0, 0, 0, 2, 1, 1, 1,...    600.0  lot47542   \n",
       "811445  [[0, 0, 0, 0, 0, 0, 0, 0, 0, 0, 0, 1, 1, 1, 1,...    600.0  lot47542   \n",
       "811449  [[0, 0, 0, 0, 0, 0, 0, 0, 0, 0, 0, 1, 1, 1, 1,...    600.0  lot47542   \n",
       "\n",
       "       TrainTestLabel failureType waferMapDim  failureNum  trainTestNum  \n",
       "0            Training        none    (45, 48)         8.0           0.0  \n",
       "1            Training        none    (45, 48)         8.0           0.0  \n",
       "2            Training        none    (45, 48)         8.0           0.0  \n",
       "3            Training        none    (45, 48)         8.0           0.0  \n",
       "4            Training        none    (45, 48)         8.0           0.0  \n",
       "...               ...         ...         ...         ...           ...  \n",
       "811438           Test        none    (26, 30)         8.0           1.0  \n",
       "811439           Test        none    (26, 30)         8.0           1.0  \n",
       "811442           Test        none    (26, 30)         8.0           1.0  \n",
       "811445           Test        none    (26, 30)         8.0           1.0  \n",
       "811449           Test        none    (26, 30)         8.0           1.0  \n",
       "\n",
       "[147431 rows x 8 columns]"
      ]
     },
     "execution_count": 22,
     "metadata": {},
     "output_type": "execute_result"
    }
   ],
   "source": [
    "df_nonpattern\n",
    "# failuretype: none"
   ]
  },
  {
   "cell_type": "code",
   "execution_count": 23,
   "metadata": {},
   "outputs": [
    {
     "data": {
      "image/png": "[encoded data removed]",
      "text/plain": [
       "<Figure size 1440x324 with 2 Axes>"
      ]
     },
     "metadata": {
      "needs_background": "light"
     },
     "output_type": "display_data"
    }
   ],
   "source": [
    "import matplotlib.pyplot as plt\n",
    "%matplotlib inline\n",
    "\n",
    "from matplotlib import gridspec\n",
    "fig = plt.figure(figsize=(20, 4.5)) \n",
    "gs = gridspec.GridSpec(1, 2, width_ratios=[1, 2.5])\n",
    "ax1 = plt.subplot(gs[0])\n",
    "ax2 = plt.subplot(gs[1])\n",
    "no_wafers=[df.shape[0]-df_withlabel.shape[0], df_withpattern.shape[0], df_nonpattern.shape[0]]\n",
    "\n",
    "colors = ['silver', 'orange', 'gold']\n",
    "explode = (0.1, 0, 0)  # explode 1st slice\n",
    "labels = ['no-label','label&pattern','label&non-pattern']\n",
    "ax1.pie(no_wafers, explode=explode, labels=labels, colors=colors, autopct='%1.1f%%', shadow=True, startangle=140)\n",
    "\n",
    "uni_pattern=np.unique(df_withpattern.failureNum, return_counts=True)\n",
    "labels2 = ['','Center','Donut','Edge-Loc','Edge-Ring','Loc','Random','Scratch','Near-full']\n",
    "ax2.bar(uni_pattern[0],uni_pattern[1]/df_withpattern.shape[0], color='gold', align='center', alpha=0.9)\n",
    "ax2.set_title(\"failure type frequency\")\n",
    "ax2.set_ylabel(\"% of pattern wafers\")\n",
    "ax2.set_xticklabels(labels2)\n",
    "\n",
    "plt.show()"
   ]
  },
  {
   "cell_type": "code",
   "execution_count": 24,
   "metadata": {},
   "outputs": [
    {
     "data": {
      "image/png": "[encoded data removed]",
      "text/plain": [
       "<Figure size 576x576 with 1 Axes>"
      ]
     },
     "metadata": {},
     "output_type": "display_data"
    }
   ],
   "source": [
    "# with labeled - failuretype\n",
    "label = df_withlabel.failureType.values\n",
    "\n",
    "plt.figure(figsize=(8, 8))\n",
    "labels = np.unique(label, return_counts=True)[0]\n",
    "counts = np.unique(label, return_counts=True)[1]\n",
    "\n",
    "pie = plt.pie(x = counts, labels=labels, autopct = \"%.1f%%\")\n",
    "_, texts, autotexts =pie\n",
    "for items in texts:\n",
    "    items.set_color('white') \n",
    "    items.set_fontsize('10')\n",
    "for items in autotexts:\n",
    "    items.set_fontsize('10')\n",
    "plt.title('failureType', color = 'white', fontsize = 20)\n",
    "plt.legend()\n",
    "plt.show()"
   ]
  },
  {
   "cell_type": "code",
   "execution_count": 25,
   "metadata": {},
   "outputs": [
    {
     "data": {
      "image/png": "[encoded data removed]",
      "text/plain": [
       "<Figure size 576x576 with 1 Axes>"
      ]
     },
     "metadata": {},
     "output_type": "display_data"
    }
   ],
   "source": [
    "label = df_withpattern.failureType.values\n",
    "\n",
    "plt.figure(figsize=(8, 8))\n",
    "labels = np.unique(label, return_counts=True)[0]\n",
    "counts = np.unique(label, return_counts=True)[1]\n",
    "\n",
    "pie = plt.pie(x = counts, labels=labels, autopct = \"%.1f%%\")\n",
    "_, texts, autotexts =pie\n",
    "for items in texts:\n",
    "    items.set_color('white') \n",
    "    items.set_fontsize('10')\n",
    "for items in autotexts:\n",
    "    items.set_fontsize('10')\n",
    "plt.title('failureType', color = 'white', fontsize = 20)\n",
    "plt.legend()\n",
    "plt.show()"
   ]
  },
  {
   "cell_type": "code",
   "execution_count": 26,
   "metadata": {},
   "outputs": [
    {
     "data": {
      "text/plain": [
       "Edge-Ring    9680\n",
       "Edge-Loc     5189\n",
       "Center       4294\n",
       "Loc          3593\n",
       "Scratch      1193\n",
       "Random        866\n",
       "Donut         555\n",
       "Near-full     149\n",
       "Name: failureType, dtype: int64"
      ]
     },
     "execution_count": 26,
     "metadata": {},
     "output_type": "execute_result"
    }
   ],
   "source": [
    "df_withpattern.failureType.value_counts()"
   ]
  },
  {
   "cell_type": "code",
   "execution_count": 27,
   "metadata": {},
   "outputs": [
    {
     "name": "stdout",
     "output_type": "stream",
     "text": [
      "(10000, 9)\n",
      "(25519, 9)\n"
     ]
    },
    {
     "data": {
      "text/plain": [
       "(35519, 9)"
      ]
     },
     "execution_count": 27,
     "metadata": {},
     "output_type": "execute_result"
    }
   ],
   "source": [
    "# None 클래스 Undersampling\n",
    "none = df_withlabel.loc[(df_withlabel.failureType == 'none'),:].sample(10000)\n",
    "df_withlabel.drop(df_withlabel[df_withlabel.failureType == 'none'].index, inplace = True)\n",
    "print(none.shape)\n",
    "print(df_withlabel.shape)\n",
    "\n",
    "df_withlabel_new = pd.concat([df_withlabel, none], ignore_index=True)\n",
    "df_withlabel_new.shape"
   ]
  },
  {
   "cell_type": "code",
   "execution_count": 30,
   "metadata": {},
   "outputs": [
    {
     "data": {
      "image/png": "[encoded data removed]",
      "text/plain": [
       "<Figure size 576x576 with 1 Axes>"
      ]
     },
     "metadata": {},
     "output_type": "display_data"
    }
   ],
   "source": [
    "label = df_withlabel_new.failureType.values\n",
    "\n",
    "plt.figure(figsize=(8, 8))\n",
    "labels = np.unique(label, return_counts=True)[0]\n",
    "counts = np.unique(label, return_counts=True)[1]\n",
    "\n",
    "pie = plt.pie(x = counts, labels=labels, autopct = \"%.1f%%\")\n",
    "_, texts, autotexts =pie\n",
    "for items in texts:\n",
    "    items.set_color('white') \n",
    "    items.set_fontsize('10')\n",
    "for items in autotexts:\n",
    "    items.set_fontsize('10')\n",
    "plt.title('failureType', color = 'white', fontsize = 20)\n",
    "plt.legend()\n",
    "plt.show()"
   ]
  },
  {
   "cell_type": "code",
   "execution_count": 29,
   "metadata": {},
   "outputs": [
    {
     "data": {
      "text/plain": [
       "none         10000\n",
       "Edge-Ring     9680\n",
       "Edge-Loc      5189\n",
       "Center        4294\n",
       "Loc           3593\n",
       "Scratch       1193\n",
       "Random         866\n",
       "Donut          555\n",
       "Near-full      149\n",
       "Name: failureType, dtype: int64"
      ]
     },
     "execution_count": 29,
     "metadata": {},
     "output_type": "execute_result"
    }
   ],
   "source": [
    "df_withlabel_new['failureType'].value_counts()"
   ]
  },
  {
   "cell_type": "code",
   "execution_count": null,
   "metadata": {},
   "outputs": [],
   "source": [
    "df_withpattern.waferMapDim[0][0]"
   ]
  },
  {
   "cell_type": "code",
   "execution_count": null,
   "metadata": {},
   "outputs": [],
   "source": [
    "def find_size(x):\n",
    "    w = x[0]\n",
    "    h = x[1]\n",
    "    return np.sqrt(w*h)\n",
    "    \n",
    "df_withlabel['wafermaplen'] = df_withlabel.waferMapDim.apply(find_size)"
   ]
  },
  {
   "cell_type": "code",
   "execution_count": null,
   "metadata": {},
   "outputs": [],
   "source": [
    "print(df_withlabel.wafermaplen.median())\n",
    "print(df_withlabel.wafermaplen.mean())"
   ]
  },
  {
   "cell_type": "code",
   "execution_count": null,
   "metadata": {},
   "outputs": [],
   "source": [
    "plt.hist(df_withlabel.wafermaplen, bins=20)\n",
    "plt.show()"
   ]
  },
  {
   "cell_type": "markdown",
   "metadata": {},
   "source": [
    "## Visualize"
   ]
  },
  {
   "cell_type": "code",
   "execution_count": null,
   "metadata": {},
   "outputs": [],
   "source": [
    "fig, ax = plt.subplots(nrows = 10, ncols = 10, figsize=(20, 20))\n",
    "ax = ax.ravel(order='C')\n",
    "for i in range(100):\n",
    "    img = df_withlabel.waferMap[i]\n",
    "    ax[i].imshow(img)\n",
    "    ax[i].set_title(df_withlabel.failureType[i], fontsize=10)\n",
    "    ax[i].set_xlabel(df_withlabel.index[i], fontsize=8)\n",
    "    ax[i].set_xticks([])\n",
    "    ax[i].set_yticks([])\n",
    "plt.tight_layout()\n",
    "plt.show() "
   ]
  },
  {
   "cell_type": "code",
   "execution_count": null,
   "metadata": {},
   "outputs": [],
   "source": [
    "x = [0,1,2,3,4,5,6,7,8]\n",
    "labels2 = ['Center','Donut','Edge-Loc','Edge-Ring','Loc','Random','Scratch','Near-full','none']\n",
    "\n",
    "for k in x:\n",
    "    fig, ax = plt.subplots(nrows = 1, ncols = 10, figsize=(18, 12))\n",
    "    ax = ax.ravel(order='C')\n",
    "    for j in [k]:\n",
    "        img = df_withlabel.waferMap[df_withlabel.failureType==labels2[j]]\n",
    "        for i in range(10):\n",
    "            ax[i].imshow(img[img.index[i]])\n",
    "            ax[i].set_title(df_withlabel.failureType[img.index[i]], fontsize=10)\n",
    "            ax[i].set_xlabel(df_withlabel.index[img.index[i]], fontsize=10)\n",
    "            ax[i].set_xticks([])\n",
    "            ax[i].set_yticks([])\n",
    "    plt.tight_layout()\n",
    "    plt.show() "
   ]
  },
  {
   "cell_type": "code",
   "execution_count": null,
   "metadata": {},
   "outputs": [],
   "source": [
    "x = [9,340, 3, 16, 0, 25, 84, 37]\n",
    "labels2 = ['Center','Donut','Edge-Loc','Edge-Ring','Loc','Random','Scratch','Near-full']\n",
    "\n",
    "#ind_def = {'Center': 9, 'Donut': 340, 'Edge-Loc': 3, 'Edge-Ring': 16, 'Loc': 0, 'Random': 25,  'Scratch': 84, 'Near-full': 37}\n",
    "fig, ax = plt.subplots(nrows = 2, ncols = 4, figsize=(20, 10))\n",
    "ax = ax.ravel(order='C')\n",
    "for i in range(8):\n",
    "    img = df_withpattern.waferMap[x[i]]\n",
    "    ax[i].imshow(img)\n",
    "    ax[i].set_title(df_withpattern.failureType[x[i]],fontsize=24)\n",
    "    ax[i].set_xticks([])\n",
    "    ax[i].set_yticks([])\n",
    "plt.tight_layout()\n",
    "plt.show() "
   ]
  },
  {
   "cell_type": "code",
   "execution_count": null,
   "metadata": {},
   "outputs": [],
   "source": [
    "df_withlabel.waferMap.values[0]"
   ]
  },
  {
   "cell_type": "code",
   "execution_count": null,
   "metadata": {},
   "outputs": [],
   "source": [
    "df_withlabel.failureNum.values"
   ]
  },
  {
   "cell_type": "code",
   "execution_count": 31,
   "metadata": {},
   "outputs": [],
   "source": [
    "X = df_withlabel_new.waferMap.values\n",
    "y = df_withlabel_new.failureNum.values\n",
    "assert X.shape[0] == y.shape[0]"
   ]
  },
  {
   "cell_type": "code",
   "execution_count": 33,
   "metadata": {},
   "outputs": [
    {
     "data": {
      "text/plain": [
       "array([4., 2., 0., 3., 6., 5., 7., 1., 8.])"
      ]
     },
     "execution_count": 33,
     "metadata": {},
     "output_type": "execute_result"
    }
   ],
   "source": [
    "df_withlabel_new.failureNum.unique()"
   ]
  },
  {
   "cell_type": "code",
   "execution_count": 34,
   "metadata": {},
   "outputs": [],
   "source": [
    "X_train, X_val, y_train, y_val = train_test_split(X, y, test_size=0.3, stratify=y)\n",
    "X_val, X_test, y_val, y_test = train_test_split(X_val, y_val, test_size=0.5, stratify=y_val)\n",
    "\n",
    "# train, val, test = 0.7, 0.15, 0.15"
   ]
  },
  {
   "cell_type": "code",
   "execution_count": 36,
   "metadata": {},
   "outputs": [],
   "source": [
    "# torch.save(X_train, 'Data/X_train_new.pt')\n",
    "# torch.save(X_val, 'Data/X_val_new.pt')\n",
    "# torch.save(X_test, 'Data/X_test_new.pt')\n",
    "# torch.save(y_train, 'Data/y_train_new.pt')\n",
    "# torch.save(y_val, 'Data/y_val_new.pt')\n",
    "# torch.save(y_test, 'Data/y_test_new.pt')"
   ]
  },
  {
   "cell_type": "markdown",
   "metadata": {},
   "source": [
    "# Config"
   ]
  },
  {
   "cell_type": "code",
   "execution_count": 3,
   "metadata": {},
   "outputs": [],
   "source": [
    "# Load\n",
    "X_train = torch.load('Data/X_train_new.pt')\n",
    "X_val = torch.load('Data/X_val_new.pt')\n",
    "X_test = torch.load('Data/X_test_new.pt')\n",
    "y_train = torch.load('Data/y_train_new.pt')\n",
    "y_val = torch.load('Data/y_val_new.pt')\n",
    "y_test = torch.load('Data/y_test_new.pt')"
   ]
  },
  {
   "cell_type": "code",
   "execution_count": 4,
   "metadata": {},
   "outputs": [
    {
     "name": "stdout",
     "output_type": "stream",
     "text": [
      "resnet50_batch32_baseline models/resnet50_batch32_baseline.pt\n"
     ]
    }
   ],
   "source": [
    "BATCH_SIZE_TRAIN = 32\n",
    "BATCH_SIZE_VAL = 512\n",
    "BATCH_SIZE_TEST = 512\n",
    "\n",
    "RE_SIZE = 96\n",
    "INPUT_CH = 1    # Must be 1\n",
    "NUM_CLASSES = 9\n",
    "IS_PRETRAINED = False\n",
    "LEARNING_RATE = 1e-4\n",
    "EPOCHS = 50\n",
    "\n",
    "save_name = f'resnet50_batch{BATCH_SIZE_TRAIN}_baseline'\n",
    "save_path = f'models/{save_name}.pt'\n",
    "device = torch.device(\"cuda:0\")\n",
    "print(save_name, save_path)"
   ]
  },
  {
   "cell_type": "markdown",
   "metadata": {},
   "source": [
    "# Dataset"
   ]
  },
  {
   "cell_type": "code",
   "execution_count": 5,
   "metadata": {},
   "outputs": [],
   "source": [
    "# temp_loader = DataLoader(train_dataset, batch_size=len(train_dataset))\n",
    "# data = next(iter(temp_loader))\n",
    "\n",
    "# mean = data['img'][:, 0].float().mean().numpy()\n",
    "# print(mean)"
   ]
  },
  {
   "cell_type": "code",
   "execution_count": 6,
   "metadata": {},
   "outputs": [
    {
     "name": "stdout",
     "output_type": "stream",
     "text": [
      "24863 5328 5328\n"
     ]
    }
   ],
   "source": [
    "from albumentations.pytorch.transforms import ToTensorV2\n",
    "from utils import get_transforms, display_aug\n",
    "# Transforms and Dataset\n",
    "\n",
    "class WaferDataset(Dataset):\n",
    "    def __init__(self, X, y, transform=None):\n",
    "        self.X = X\n",
    "        self.y = y\n",
    "        self.transform = transform\n",
    "\n",
    "    def __len__(self):\n",
    "        assert len(self.X) == len(self.y)\n",
    "        return len(self.X)\n",
    "\n",
    "    def __getitem__(self, idx):\n",
    "        X = self.X[idx]\n",
    "        y = self.y[idx]\n",
    "        # X = self.df.waferMap.values[idx]\n",
    "        # y = self.df.failureNum.values[idx].int()\n",
    "\n",
    "        if self.transform:\n",
    "            X = self.transform(image=X)\n",
    "            \n",
    "        return {\n",
    "            'img' : X['image'], \n",
    "            'label': y\n",
    "        }\n",
    "\n",
    "train_transform, else_transform = get_transforms(size=RE_SIZE) # Just Resize and tensorize\n",
    "\n",
    "train_dataset = WaferDataset(X_train, y_train, transform=train_transform)\n",
    "val_dataset = WaferDataset(X_val, y_val, transform=else_transform)\n",
    "test_dataset = WaferDataset(X_test, y_test, transform=else_transform)\n",
    "\n",
    "train_loader = DataLoader(train_dataset, batch_size=BATCH_SIZE_TRAIN, shuffle=True)\n",
    "val_loader = DataLoader(val_dataset, batch_size=BATCH_SIZE_VAL, shuffle=False)\n",
    "test_loader = DataLoader(test_dataset, batch_size=BATCH_SIZE_TEST, shuffle=False)\n",
    "\n",
    "print(len(train_dataset), len(val_dataset), len(test_dataset))"
   ]
  },
  {
   "cell_type": "code",
   "execution_count": 7,
   "metadata": {},
   "outputs": [
    {
     "data": {
      "image/png": "[encoded data removed]",
      "text/plain": [
       "<Figure size 432x288 with 1 Axes>"
      ]
     },
     "metadata": {
      "needs_background": "light"
     },
     "output_type": "display_data"
    },
    {
     "data": {
      "image/png": "[encoded data removed]",
      "text/plain": [
       "<Figure size 1800x360 with 5 Axes>"
      ]
     },
     "metadata": {
      "needs_background": "light"
     },
     "output_type": "display_data"
    }
   ],
   "source": [
    "display_aug(imgs=X_train, transform=train_transform, labels = y_train)"
   ]
  },
  {
   "cell_type": "code",
   "execution_count": 8,
   "metadata": {},
   "outputs": [
    {
     "data": {
      "image/png": "[encoded data removed]",
      "text/plain": [
       "<Figure size 432x288 with 1 Axes>"
      ]
     },
     "metadata": {
      "needs_background": "light"
     },
     "output_type": "display_data"
    }
   ],
   "source": [
    "plt.hist(y_test)\n",
    "plt.show()"
   ]
  },
  {
   "cell_type": "markdown",
   "metadata": {},
   "source": [
    "# Model"
   ]
  },
  {
   "cell_type": "code",
   "execution_count": 9,
   "metadata": {},
   "outputs": [],
   "source": [
    "from torchvision.models import resnet50\n",
    "from torchinfo import summary\n",
    "\n",
    "model = resnet50(pretrained=False)\n",
    "model.conv1 = nn.Conv2d(INPUT_CH, 64, kernel_size=(7, 7), stride=(2, 2), padding=(3, 3), bias=False)\n",
    "feat = model.fc.in_features\n",
    "model.fc = nn.Linear(feat, NUM_CLASSES)\n",
    "# summary(model, (BATCH_SIZE_TRAIN, INPUT_CH, RE_SIZE, RE_SIZE), device='cpu')"
   ]
  },
  {
   "cell_type": "code",
   "execution_count": 10,
   "metadata": {},
   "outputs": [],
   "source": [
    "from torch.optim.lr_scheduler import ReduceLROnPlateau\n",
    "\n",
    "\n",
    "optimizer = torch.optim.Adam(model.parameters(), lr=LEARNING_RATE)\n",
    "criterion = nn.CrossEntropyLoss(reduction='mean')\n",
    "# criterion = FocalLoss(weights=weights.cuda(), gamma=2, reduce=True) # ERROR!\n",
    "scheduler = ReduceLROnPlateau(optimizer, mode='min', factor=0.5, threshold=0.1, patience=5, threshold_mode='rel', verbose=True)"
   ]
  },
  {
   "cell_type": "code",
   "execution_count": 11,
   "metadata": {},
   "outputs": [],
   "source": [
    "from sklearn.metrics import f1_score \n",
    "\n",
    "def train(model, loader, epoch, nb_epochs):\n",
    "    running_loss, running_corrects, running_num = 0.0, 0, 0\n",
    "    y_true, y_pred = [], []\n",
    "    scaler = torch.cuda.amp.GradScaler()\n",
    "    tqdm_loader = tqdm(enumerate(loader))\n",
    "    model.train()\n",
    "    for batch_idx, batch in tqdm_loader:\n",
    "        img = batch['img'].float().cuda()\n",
    "        label = batch['label'].long().cuda()\n",
    "        # zero the parameter gradients\n",
    "        optimizer.zero_grad()\n",
    "        \n",
    "        # mixed precision + gradient clipping\n",
    "        with torch.cuda.amp.autocast():\n",
    "            output = model(img).cuda()\n",
    "            loss = criterion(output, label)\n",
    "\n",
    "        scaler.scale(loss).backward() \n",
    "        nn.utils.clip_grad_norm_(model.parameters(), max_norm=10)\n",
    "        scaler.step(optimizer)\n",
    "        scaler.update()\n",
    "        \n",
    "        # # forward + backward + optimize\n",
    "        # output = model(img)\n",
    "        # loss = criterion(output, label)\n",
    "        # loss.backward()\n",
    "        # optimizer.step()\n",
    "        \n",
    "        # stats\n",
    "        preds = torch.argmax(output, dim=1)\n",
    "        correct = torch.eq(preds, label).sum()\n",
    "        running_loss += loss.item() \n",
    "        running_corrects += correct\n",
    "        running_num += len(label)\n",
    "        \n",
    "        for item in label.cpu().numpy():\n",
    "            y_true.append(item)\n",
    "        for item in preds.cpu().numpy():\n",
    "            y_pred.append(item)\n",
    "        \n",
    "        tqdm_loader.set_postfix({\n",
    "            'Epoch': '{}/{}'.format(epoch + 1, nb_epochs),\n",
    "            'Batch' : '{}/{}'.format(batch_idx + 1, len(loader)),\n",
    "            'Batch Loss': '{:06f}'.format(loss.item()),\n",
    "            'Mean Loss' : '{:06f}'.format(running_loss / (batch_idx + 1)),\n",
    "            'Batch ACC': '{:06f}'.format(correct / len(label)),\n",
    "            'Mean ACC' : '{:06f}'.format(running_corrects / running_num)\n",
    "        })\n",
    "\n",
    "    epoch_loss = running_loss / len(loader)\n",
    "    epoch_acc = running_corrects / running_num\n",
    "    epoch_f1_macro = f1_score(y_true, y_pred, average='macro')\n",
    "    epoch_f1_weighted = f1_score(y_true, y_pred, average='weighted')\n",
    "\n",
    "    writer.add_scalar('Loss/Train', epoch_loss, epoch)\n",
    "    writer.add_scalar('Accuracy/Train', epoch_acc, epoch)\n",
    "    writer.add_scalar('F1_macro/Train', epoch_f1_macro, epoch)\n",
    "    writer.add_scalar('F1_weighted/Train', epoch_f1_weighted, epoch)\n",
    "    writer.add_scalar('learning_rate', optimizer.param_groups[0][\"lr\"], epoch)\n",
    "    print(f'Train loss: {epoch_loss:.6f}, Train ACC: {epoch_acc:.6f}, F1_macro: {epoch_f1_macro:.6f}, F1_weighted: {epoch_f1_weighted:.6f} lr: {optimizer.param_groups[0][\"lr\"]:.6f}')\n",
    "    \n",
    "def evaluate(model, loader, epoch, nb_epochs):\n",
    "    running_loss, running_corrects, running_num = 0.0, 0, 0\n",
    "    y_true, y_pred = [], []\n",
    "    model.eval()\n",
    "    with torch.no_grad():\n",
    "        for batch_idx, batch in enumerate(loader):\n",
    "            img = batch['img'].float().cuda()   \n",
    "            label = batch['label'].long().cuda()\n",
    "            output = model(img).cuda()\n",
    "            loss = criterion(output, label)\n",
    "\n",
    "            # stats\n",
    "            preds = torch.argmax(output, dim=1)\n",
    "            correct = torch.eq(preds, label).sum()\n",
    "            running_loss += loss.item() \n",
    "            running_corrects += correct\n",
    "            running_num += len(label)\n",
    "\n",
    "            for item in label.cpu().numpy():\n",
    "                y_true.append(item)\n",
    "            for item in preds.cpu().numpy():\n",
    "                y_pred.append(item)\n",
    "\n",
    "            # tqdm_loader.set_postfix({\n",
    "            #     'Epoch': '{}/{}'.format(epoch + 1, nb_epochs),\n",
    "            #     'Batch' : '{}/{}'.format(batch_idx + 1, len(loader)),\n",
    "            #     'Batch Loss': '{:06f}'.format(loss.item()),\n",
    "            #     'Mean Loss' : '{:06f}'.format(running_loss / (batch_idx + 1)),\n",
    "            #     'Batch ACC': '{:06f}'.format(correct / len(label)),\n",
    "            #     'Mean ACC' : '{:06f}'.format(running_corrects / running_num)\n",
    "            # })\n",
    "\n",
    "        epoch_loss = running_loss / len(loader)\n",
    "        epoch_acc = running_corrects / running_num\n",
    "        epoch_f1_macro = f1_score(y_true, y_pred, average='macro')\n",
    "        epoch_f1_weighted = f1_score(y_true, y_pred, average='weighted')\n",
    "        \n",
    "        scheduler.step(epoch_loss)\n",
    "        \n",
    "        writer.add_scalar('Loss/Valid', epoch_loss, epoch)\n",
    "        writer.add_scalar('Accuracy/Valid', epoch_acc, epoch)\n",
    "        writer.add_scalar('F1_macro/Valid', epoch_f1_macro, epoch)\n",
    "        writer.add_scalar('F1_weighted/Valid', epoch_f1_weighted, epoch)\n",
    "        \n",
    "        print(f'Valid loss: {epoch_loss:.6f}, Valid ACC: {epoch_acc:.6f}, F1_macro: {epoch_f1_macro:.6f}, F1_weighted: {epoch_f1_weighted:.6f}')\n",
    "        print(f'{running_corrects}/{running_num} correct')\n",
    "        \n",
    "        epoch_acc = epoch_acc.detach().cpu().numpy()    # tensor->numpy\n",
    "        val_acc_list.append(epoch_acc)\n",
    "        val_f1_macro_list.append(epoch_f1_macro)\n",
    "        val_f1_weighted_list.append(epoch_f1_weighted)\n",
    "        \n",
    "        if np.max(val_f1_macro_list) == val_f1_macro_list[-1]:  # 현재 모델이 성능 최댓값이면 저장 \n",
    "            torch.save(model.state_dict(), save_path)   # weighted F1 기준\n"
   ]
  },
  {
   "cell_type": "markdown",
   "metadata": {},
   "source": [
    "# Train"
   ]
  },
  {
   "cell_type": "code",
   "execution_count": 13,
   "metadata": {},
   "outputs": [
    {
     "name": "stderr",
     "output_type": "stream",
     "text": [
      "777it [00:47, 16.47it/s, Epoch=1/50, Batch=777/777, Batch Loss=0.315508, Mean Loss=0.542573, Batch ACC=0.903226, Mean ACC=0.815388]\n"
     ]
    },
    {
     "name": "stdout",
     "output_type": "stream",
     "text": [
      "Train loss: 0.542573, Train ACC: 0.815388, F1_macro: 0.672671, F1_weighted: 0.801235 lr: 0.000100\n",
      "Valid loss: 0.399242, Valid ACC: 0.867117, F1_macro: 0.773966, F1_weighted: 0.862080\n",
      "4620/5328 correct\n"
     ]
    },
    {
     "name": "stderr",
     "output_type": "stream",
     "text": [
      "777it [00:46, 16.63it/s, Epoch=2/50, Batch=777/777, Batch Loss=0.340025, Mean Loss=0.302415, Batch ACC=0.870968, Mean ACC=0.893738]\n"
     ]
    },
    {
     "name": "stdout",
     "output_type": "stream",
     "text": [
      "Train loss: 0.302415, Train ACC: 0.893738, F1_macro: 0.797753, F1_weighted: 0.886656 lr: 0.000100\n",
      "Valid loss: 0.331201, Valid ACC: 0.889827, F1_macro: 0.815360, F1_weighted: 0.883101\n",
      "4741/5328 correct\n"
     ]
    },
    {
     "name": "stderr",
     "output_type": "stream",
     "text": [
      "777it [00:46, 16.78it/s, Epoch=3/50, Batch=777/777, Batch Loss=0.461508, Mean Loss=0.263685, Batch ACC=0.838710, Mean ACC=0.904557]\n"
     ]
    },
    {
     "name": "stdout",
     "output_type": "stream",
     "text": [
      "Train loss: 0.263685, Train ACC: 0.904557, F1_macro: 0.821537, F1_weighted: 0.900613 lr: 0.000100\n",
      "Valid loss: 0.385201, Valid ACC: 0.876314, F1_macro: 0.769053, F1_weighted: 0.870330\n",
      "4669/5328 correct\n"
     ]
    },
    {
     "name": "stderr",
     "output_type": "stream",
     "text": [
      "777it [00:46, 16.65it/s, Epoch=4/50, Batch=777/777, Batch Loss=0.402268, Mean Loss=0.248891, Batch ACC=0.935484, Mean ACC=0.912400]\n"
     ]
    },
    {
     "name": "stdout",
     "output_type": "stream",
     "text": [
      "Train loss: 0.248891, Train ACC: 0.912400, F1_macro: 0.839850, F1_weighted: 0.909773 lr: 0.000100\n",
      "Valid loss: 0.356033, Valid ACC: 0.886261, F1_macro: 0.783069, F1_weighted: 0.881094\n",
      "4722/5328 correct\n"
     ]
    },
    {
     "name": "stderr",
     "output_type": "stream",
     "text": [
      "777it [00:46, 16.70it/s, Epoch=5/50, Batch=777/777, Batch Loss=0.245932, Mean Loss=0.213446, Batch ACC=0.903226, Mean ACC=0.925230]\n"
     ]
    },
    {
     "name": "stdout",
     "output_type": "stream",
     "text": [
      "Train loss: 0.213446, Train ACC: 0.925230, F1_macro: 0.861580, F1_weighted: 0.923172 lr: 0.000100\n",
      "Valid loss: 0.345122, Valid ACC: 0.889452, F1_macro: 0.802135, F1_weighted: 0.890070\n",
      "4739/5328 correct\n"
     ]
    },
    {
     "name": "stderr",
     "output_type": "stream",
     "text": [
      "777it [00:47, 16.26it/s, Epoch=6/50, Batch=777/777, Batch Loss=0.334177, Mean Loss=0.164618, Batch ACC=0.903226, Mean ACC=0.942244]\n"
     ]
    },
    {
     "name": "stdout",
     "output_type": "stream",
     "text": [
      "Train loss: 0.164618, Train ACC: 0.942244, F1_macro: 0.895438, F1_weighted: 0.941386 lr: 0.000100\n",
      "Valid loss: 0.343736, Valid ACC: 0.897147, F1_macro: 0.835414, F1_weighted: 0.894095\n",
      "4780/5328 correct\n"
     ]
    },
    {
     "name": "stderr",
     "output_type": "stream",
     "text": [
      "777it [00:47, 16.40it/s, Epoch=7/50, Batch=777/777, Batch Loss=0.174686, Mean Loss=0.158163, Batch ACC=0.967742, Mean ACC=0.943611]\n"
     ]
    },
    {
     "name": "stdout",
     "output_type": "stream",
     "text": [
      "Train loss: 0.158163, Train ACC: 0.943611, F1_macro: 0.899947, F1_weighted: 0.942823 lr: 0.000100\n",
      "Valid loss: 0.375247, Valid ACC: 0.890203, F1_macro: 0.840064, F1_weighted: 0.891525\n",
      "4743/5328 correct\n"
     ]
    },
    {
     "name": "stderr",
     "output_type": "stream",
     "text": [
      "777it [00:47, 16.27it/s, Epoch=8/50, Batch=777/777, Batch Loss=0.311744, Mean Loss=0.145856, Batch ACC=0.870968, Mean ACC=0.949564]\n"
     ]
    },
    {
     "name": "stdout",
     "output_type": "stream",
     "text": [
      "Train loss: 0.145856, Train ACC: 0.949564, F1_macro: 0.913969, F1_weighted: 0.949199 lr: 0.000100\n",
      "Epoch     8: reducing learning rate of group 0 to 5.0000e-05.\n",
      "Valid loss: 0.436476, Valid ACC: 0.869557, F1_macro: 0.749978, F1_weighted: 0.868668\n",
      "4633/5328 correct\n"
     ]
    },
    {
     "name": "stderr",
     "output_type": "stream",
     "text": [
      "777it [00:47, 16.27it/s, Epoch=9/50, Batch=777/777, Batch Loss=0.369248, Mean Loss=0.093886, Batch ACC=0.903226, Mean ACC=0.967100]\n"
     ]
    },
    {
     "name": "stdout",
     "output_type": "stream",
     "text": [
      "Train loss: 0.093886, Train ACC: 0.967100, F1_macro: 0.939595, F1_weighted: 0.966968 lr: 0.000050\n",
      "Valid loss: 0.397573, Valid ACC: 0.905968, F1_macro: 0.862456, F1_weighted: 0.905220\n",
      "4827/5328 correct\n"
     ]
    },
    {
     "name": "stderr",
     "output_type": "stream",
     "text": [
      "777it [00:48, 16.18it/s, Epoch=10/50, Batch=777/777, Batch Loss=0.018527, Mean Loss=0.040945, Batch ACC=1.000000, Mean ACC=0.986486]\n"
     ]
    },
    {
     "name": "stdout",
     "output_type": "stream",
     "text": [
      "Train loss: 0.040945, Train ACC: 0.986486, F1_macro: 0.973683, F1_weighted: 0.986461 lr: 0.000050\n",
      "Valid loss: 0.520833, Valid ACC: 0.908408, F1_macro: 0.857080, F1_weighted: 0.906522\n",
      "4840/5328 correct\n"
     ]
    },
    {
     "name": "stderr",
     "output_type": "stream",
     "text": [
      "777it [00:48, 15.96it/s, Epoch=11/50, Batch=777/777, Batch Loss=0.000179, Mean Loss=0.052204, Batch ACC=1.000000, Mean ACC=0.984354]\n"
     ]
    },
    {
     "name": "stdout",
     "output_type": "stream",
     "text": [
      "Train loss: 0.052204, Train ACC: 0.984354, F1_macro: 0.968390, F1_weighted: 0.984339 lr: 0.000050\n",
      "Valid loss: 0.602880, Valid ACC: 0.908971, F1_macro: 0.859921, F1_weighted: 0.906748\n",
      "4843/5328 correct\n"
     ]
    },
    {
     "name": "stderr",
     "output_type": "stream",
     "text": [
      "777it [00:48, 16.06it/s, Epoch=12/50, Batch=777/777, Batch Loss=0.000363, Mean Loss=0.075624, Batch ACC=1.000000, Mean ACC=0.980775]\n"
     ]
    },
    {
     "name": "stdout",
     "output_type": "stream",
     "text": [
      "Train loss: 0.075624, Train ACC: 0.980775, F1_macro: 0.963312, F1_weighted: 0.980745 lr: 0.000050\n",
      "Valid loss: 0.703582, Valid ACC: 0.902027, F1_macro: 0.853362, F1_weighted: 0.901990\n",
      "4806/5328 correct\n"
     ]
    },
    {
     "name": "stderr",
     "output_type": "stream",
     "text": [
      "777it [00:48, 15.93it/s, Epoch=13/50, Batch=777/777, Batch Loss=0.000130, Mean Loss=0.076643, Batch ACC=1.000000, Mean ACC=0.980011]\n"
     ]
    },
    {
     "name": "stdout",
     "output_type": "stream",
     "text": [
      "Train loss: 0.076643, Train ACC: 0.980011, F1_macro: 0.964378, F1_weighted: 0.979972 lr: 0.000050\n",
      "Valid loss: 0.730691, Valid ACC: 0.905218, F1_macro: 0.838326, F1_weighted: 0.902133\n",
      "4823/5328 correct\n"
     ]
    },
    {
     "name": "stderr",
     "output_type": "stream",
     "text": [
      "777it [00:49, 15.79it/s, Epoch=14/50, Batch=777/777, Batch Loss=0.107669, Mean Loss=0.061293, Batch ACC=0.935484, Mean ACC=0.985119]\n"
     ]
    },
    {
     "name": "stdout",
     "output_type": "stream",
     "text": [
      "Train loss: 0.061293, Train ACC: 0.985119, F1_macro: 0.970673, F1_weighted: 0.985100 lr: 0.000050\n",
      "Epoch    14: reducing learning rate of group 0 to 2.5000e-05.\n",
      "Valid loss: 0.849912, Valid ACC: 0.902778, F1_macro: 0.848826, F1_weighted: 0.900717\n",
      "4810/5328 correct\n"
     ]
    },
    {
     "name": "stderr",
     "output_type": "stream",
     "text": [
      "777it [00:50, 15.43it/s, Epoch=15/50, Batch=777/777, Batch Loss=0.000066, Mean Loss=0.023004, Batch ACC=1.000000, Mean ACC=0.994570]\n"
     ]
    },
    {
     "name": "stdout",
     "output_type": "stream",
     "text": [
      "Train loss: 0.023004, Train ACC: 0.994570, F1_macro: 0.989621, F1_weighted: 0.994565 lr: 0.000025\n",
      "Valid loss: 0.857013, Valid ACC: 0.910848, F1_macro: 0.866816, F1_weighted: 0.909682\n",
      "4853/5328 correct\n"
     ]
    },
    {
     "name": "stderr",
     "output_type": "stream",
     "text": [
      "777it [00:48, 15.95it/s, Epoch=16/50, Batch=777/777, Batch Loss=0.000001, Mean Loss=0.013590, Batch ACC=1.000000, Mean ACC=0.997104]\n"
     ]
    },
    {
     "name": "stdout",
     "output_type": "stream",
     "text": [
      "Train loss: 0.013590, Train ACC: 0.997104, F1_macro: 0.993458, F1_weighted: 0.997102 lr: 0.000025\n",
      "Valid loss: 1.003666, Valid ACC: 0.911787, F1_macro: 0.862459, F1_weighted: 0.910450\n",
      "4858/5328 correct\n"
     ]
    },
    {
     "name": "stderr",
     "output_type": "stream",
     "text": [
      "777it [00:48, 15.95it/s, Epoch=17/50, Batch=777/777, Batch Loss=0.000074, Mean Loss=0.009544, Batch ACC=1.000000, Mean ACC=0.997748]\n"
     ]
    },
    {
     "name": "stdout",
     "output_type": "stream",
     "text": [
      "Train loss: 0.009544, Train ACC: 0.997748, F1_macro: 0.996644, F1_weighted: 0.997747 lr: 0.000025\n",
      "Valid loss: 1.044297, Valid ACC: 0.913101, F1_macro: 0.871224, F1_weighted: 0.911736\n",
      "4865/5328 correct\n"
     ]
    },
    {
     "name": "stderr",
     "output_type": "stream",
     "text": [
      "777it [00:46, 16.59it/s, Epoch=18/50, Batch=777/777, Batch Loss=0.000000, Mean Loss=0.008714, Batch ACC=1.000000, Mean ACC=0.998311]\n"
     ]
    },
    {
     "name": "stdout",
     "output_type": "stream",
     "text": [
      "Train loss: 0.008714, Train ACC: 0.998311, F1_macro: 0.996197, F1_weighted: 0.998311 lr: 0.000025\n",
      "Valid loss: 1.113040, Valid ACC: 0.913476, F1_macro: 0.868061, F1_weighted: 0.911944\n",
      "4867/5328 correct\n"
     ]
    },
    {
     "name": "stderr",
     "output_type": "stream",
     "text": [
      "777it [00:46, 16.79it/s, Epoch=19/50, Batch=777/777, Batch Loss=0.000000, Mean Loss=0.006011, Batch ACC=1.000000, Mean ACC=0.998673]\n"
     ]
    },
    {
     "name": "stdout",
     "output_type": "stream",
     "text": [
      "Train loss: 0.006011, Train ACC: 0.998673, F1_macro: 0.996586, F1_weighted: 0.998673 lr: 0.000025\n",
      "Valid loss: 1.156302, Valid ACC: 0.915728, F1_macro: 0.867079, F1_weighted: 0.914362\n",
      "4879/5328 correct\n"
     ]
    },
    {
     "name": "stderr",
     "output_type": "stream",
     "text": [
      "777it [00:47, 16.52it/s, Epoch=20/50, Batch=777/777, Batch Loss=0.000001, Mean Loss=0.005466, Batch ACC=1.000000, Mean ACC=0.998834]\n"
     ]
    },
    {
     "name": "stdout",
     "output_type": "stream",
     "text": [
      "Train loss: 0.005466, Train ACC: 0.998834, F1_macro: 0.997847, F1_weighted: 0.998833 lr: 0.000025\n",
      "Epoch    20: reducing learning rate of group 0 to 1.2500e-05.\n",
      "Valid loss: 1.296853, Valid ACC: 0.912725, F1_macro: 0.860508, F1_weighted: 0.910011\n",
      "4863/5328 correct\n"
     ]
    },
    {
     "name": "stderr",
     "output_type": "stream",
     "text": [
      "777it [00:47, 16.44it/s, Epoch=21/50, Batch=777/777, Batch Loss=0.000000, Mean Loss=0.005663, Batch ACC=1.000000, Mean ACC=0.999236]\n"
     ]
    },
    {
     "name": "stdout",
     "output_type": "stream",
     "text": [
      "Train loss: 0.005663, Train ACC: 0.999236, F1_macro: 0.999115, F1_weighted: 0.999236 lr: 0.000013\n",
      "Valid loss: 1.212473, Valid ACC: 0.917980, F1_macro: 0.872833, F1_weighted: 0.916138\n",
      "4891/5328 correct\n"
     ]
    },
    {
     "name": "stderr",
     "output_type": "stream",
     "text": [
      "777it [00:47, 16.37it/s, Epoch=22/50, Batch=777/777, Batch Loss=0.000000, Mean Loss=0.002468, Batch ACC=1.000000, Mean ACC=0.999718]\n"
     ]
    },
    {
     "name": "stdout",
     "output_type": "stream",
     "text": [
      "Train loss: 0.002468, Train ACC: 0.999718, F1_macro: 0.999729, F1_weighted: 0.999718 lr: 0.000013\n",
      "Valid loss: 1.197489, Valid ACC: 0.917605, F1_macro: 0.874140, F1_weighted: 0.916213\n",
      "4889/5328 correct\n"
     ]
    },
    {
     "name": "stderr",
     "output_type": "stream",
     "text": [
      "777it [00:46, 16.62it/s, Epoch=23/50, Batch=777/777, Batch Loss=0.000000, Mean Loss=0.002863, Batch ACC=1.000000, Mean ACC=0.999477]\n"
     ]
    },
    {
     "name": "stdout",
     "output_type": "stream",
     "text": [
      "Train loss: 0.002863, Train ACC: 0.999477, F1_macro: 0.999235, F1_weighted: 0.999477 lr: 0.000013\n",
      "Valid loss: 1.269961, Valid ACC: 0.915165, F1_macro: 0.866256, F1_weighted: 0.912197\n",
      "4876/5328 correct\n"
     ]
    },
    {
     "name": "stderr",
     "output_type": "stream",
     "text": [
      "777it [00:46, 16.75it/s, Epoch=24/50, Batch=777/777, Batch Loss=0.126150, Mean Loss=0.002373, Batch ACC=0.967742, Mean ACC=0.999558]\n"
     ]
    },
    {
     "name": "stdout",
     "output_type": "stream",
     "text": [
      "Train loss: 0.002373, Train ACC: 0.999558, F1_macro: 0.999384, F1_weighted: 0.999558 lr: 0.000013\n",
      "Valid loss: 1.350734, Valid ACC: 0.912725, F1_macro: 0.865949, F1_weighted: 0.910000\n",
      "4863/5328 correct\n"
     ]
    },
    {
     "name": "stderr",
     "output_type": "stream",
     "text": [
      "777it [00:46, 16.76it/s, Epoch=25/50, Batch=777/777, Batch Loss=0.000000, Mean Loss=0.002808, Batch ACC=1.000000, Mean ACC=0.999558]\n"
     ]
    },
    {
     "name": "stdout",
     "output_type": "stream",
     "text": [
      "Train loss: 0.002808, Train ACC: 0.999558, F1_macro: 0.999373, F1_weighted: 0.999558 lr: 0.000013\n",
      "Valid loss: 1.360275, Valid ACC: 0.914039, F1_macro: 0.871744, F1_weighted: 0.912144\n",
      "4870/5328 correct\n"
     ]
    },
    {
     "name": "stderr",
     "output_type": "stream",
     "text": [
      "777it [00:46, 16.74it/s, Epoch=26/50, Batch=777/777, Batch Loss=0.000000, Mean Loss=0.001409, Batch ACC=1.000000, Mean ACC=0.999598]\n"
     ]
    },
    {
     "name": "stdout",
     "output_type": "stream",
     "text": [
      "Train loss: 0.001409, Train ACC: 0.999598, F1_macro: 0.999422, F1_weighted: 0.999598 lr: 0.000013\n",
      "Epoch    26: reducing learning rate of group 0 to 6.2500e-06.\n",
      "Valid loss: 1.340545, Valid ACC: 0.913476, F1_macro: 0.867073, F1_weighted: 0.910967\n",
      "4867/5328 correct\n"
     ]
    },
    {
     "name": "stderr",
     "output_type": "stream",
     "text": [
      "777it [00:47, 16.21it/s, Epoch=27/50, Batch=777/777, Batch Loss=0.000000, Mean Loss=0.002220, Batch ACC=1.000000, Mean ACC=0.999638]\n"
     ]
    },
    {
     "name": "stdout",
     "output_type": "stream",
     "text": [
      "Train loss: 0.002220, Train ACC: 0.999638, F1_macro: 0.999623, F1_weighted: 0.999638 lr: 0.000006\n",
      "Valid loss: 1.337862, Valid ACC: 0.914790, F1_macro: 0.866310, F1_weighted: 0.912056\n",
      "4874/5328 correct\n"
     ]
    },
    {
     "name": "stderr",
     "output_type": "stream",
     "text": [
      "777it [00:48, 15.94it/s, Epoch=28/50, Batch=777/777, Batch Loss=0.000000, Mean Loss=0.001699, Batch ACC=1.000000, Mean ACC=0.999799]\n"
     ]
    },
    {
     "name": "stdout",
     "output_type": "stream",
     "text": [
      "Train loss: 0.001699, Train ACC: 0.999799, F1_macro: 0.999803, F1_weighted: 0.999799 lr: 0.000006\n",
      "Valid loss: 1.266614, Valid ACC: 0.916479, F1_macro: 0.869667, F1_weighted: 0.914332\n",
      "4883/5328 correct\n"
     ]
    },
    {
     "name": "stderr",
     "output_type": "stream",
     "text": [
      "777it [00:48, 15.86it/s, Epoch=29/50, Batch=777/777, Batch Loss=0.000000, Mean Loss=0.000882, Batch ACC=1.000000, Mean ACC=0.999960]\n"
     ]
    },
    {
     "name": "stdout",
     "output_type": "stream",
     "text": [
      "Train loss: 0.000882, Train ACC: 0.999960, F1_macro: 0.999977, F1_weighted: 0.999960 lr: 0.000006\n",
      "Valid loss: 1.297383, Valid ACC: 0.915728, F1_macro: 0.866940, F1_weighted: 0.913524\n",
      "4879/5328 correct\n"
     ]
    },
    {
     "name": "stderr",
     "output_type": "stream",
     "text": [
      "777it [00:47, 16.24it/s, Epoch=30/50, Batch=777/777, Batch Loss=0.000000, Mean Loss=0.001082, Batch ACC=1.000000, Mean ACC=0.999879]\n"
     ]
    },
    {
     "name": "stdout",
     "output_type": "stream",
     "text": [
      "Train loss: 0.001082, Train ACC: 0.999879, F1_macro: 0.999792, F1_weighted: 0.999879 lr: 0.000006\n",
      "Valid loss: 1.291597, Valid ACC: 0.917417, F1_macro: 0.874803, F1_weighted: 0.915509\n",
      "4888/5328 correct\n"
     ]
    },
    {
     "name": "stderr",
     "output_type": "stream",
     "text": [
      "777it [00:47, 16.23it/s, Epoch=31/50, Batch=777/777, Batch Loss=0.000000, Mean Loss=0.003051, Batch ACC=1.000000, Mean ACC=0.999638]\n"
     ]
    },
    {
     "name": "stdout",
     "output_type": "stream",
     "text": [
      "Train loss: 0.003051, Train ACC: 0.999638, F1_macro: 0.999640, F1_weighted: 0.999638 lr: 0.000006\n",
      "Valid loss: 1.299318, Valid ACC: 0.914790, F1_macro: 0.865629, F1_weighted: 0.913212\n",
      "4874/5328 correct\n"
     ]
    },
    {
     "name": "stderr",
     "output_type": "stream",
     "text": [
      "777it [00:48, 15.92it/s, Epoch=32/50, Batch=777/777, Batch Loss=0.000000, Mean Loss=0.001182, Batch ACC=1.000000, Mean ACC=0.999759]\n"
     ]
    },
    {
     "name": "stdout",
     "output_type": "stream",
     "text": [
      "Train loss: 0.001182, Train ACC: 0.999759, F1_macro: 0.999671, F1_weighted: 0.999759 lr: 0.000006\n",
      "Epoch    32: reducing learning rate of group 0 to 3.1250e-06.\n",
      "Valid loss: 1.313654, Valid ACC: 0.918356, F1_macro: 0.865621, F1_weighted: 0.915771\n",
      "4893/5328 correct\n"
     ]
    },
    {
     "name": "stderr",
     "output_type": "stream",
     "text": [
      "777it [00:48, 15.99it/s, Epoch=33/50, Batch=777/777, Batch Loss=0.000000, Mean Loss=0.001315, Batch ACC=1.000000, Mean ACC=0.999759]\n"
     ]
    },
    {
     "name": "stdout",
     "output_type": "stream",
     "text": [
      "Train loss: 0.001315, Train ACC: 0.999759, F1_macro: 0.999846, F1_weighted: 0.999759 lr: 0.000003\n",
      "Valid loss: 1.346287, Valid ACC: 0.917793, F1_macro: 0.866215, F1_weighted: 0.915374\n",
      "4890/5328 correct\n"
     ]
    },
    {
     "name": "stderr",
     "output_type": "stream",
     "text": [
      "777it [00:48, 16.14it/s, Epoch=34/50, Batch=777/777, Batch Loss=0.000000, Mean Loss=0.001314, Batch ACC=1.000000, Mean ACC=0.999839]\n"
     ]
    },
    {
     "name": "stdout",
     "output_type": "stream",
     "text": [
      "Train loss: 0.001314, Train ACC: 0.999839, F1_macro: 0.999907, F1_weighted: 0.999839 lr: 0.000003\n",
      "Valid loss: 1.334128, Valid ACC: 0.915728, F1_macro: 0.872966, F1_weighted: 0.913539\n",
      "4879/5328 correct\n"
     ]
    },
    {
     "name": "stderr",
     "output_type": "stream",
     "text": [
      "777it [00:48, 16.11it/s, Epoch=35/50, Batch=777/777, Batch Loss=0.000000, Mean Loss=0.001723, Batch ACC=1.000000, Mean ACC=0.999799]\n"
     ]
    },
    {
     "name": "stdout",
     "output_type": "stream",
     "text": [
      "Train loss: 0.001723, Train ACC: 0.999799, F1_macro: 0.999869, F1_weighted: 0.999799 lr: 0.000003\n",
      "Valid loss: 1.300163, Valid ACC: 0.918168, F1_macro: 0.872516, F1_weighted: 0.916266\n",
      "4892/5328 correct\n"
     ]
    },
    {
     "name": "stderr",
     "output_type": "stream",
     "text": [
      "777it [00:48, 16.13it/s, Epoch=36/50, Batch=777/777, Batch Loss=0.000000, Mean Loss=0.000668, Batch ACC=1.000000, Mean ACC=0.999920]\n"
     ]
    },
    {
     "name": "stdout",
     "output_type": "stream",
     "text": [
      "Train loss: 0.000668, Train ACC: 0.999920, F1_macro: 0.999902, F1_weighted: 0.999920 lr: 0.000003\n",
      "Valid loss: 1.337665, Valid ACC: 0.918356, F1_macro: 0.876625, F1_weighted: 0.916279\n",
      "4893/5328 correct\n"
     ]
    },
    {
     "name": "stderr",
     "output_type": "stream",
     "text": [
      "777it [00:47, 16.27it/s, Epoch=37/50, Batch=777/777, Batch Loss=0.000000, Mean Loss=0.001504, Batch ACC=1.000000, Mean ACC=0.999879]\n"
     ]
    },
    {
     "name": "stdout",
     "output_type": "stream",
     "text": [
      "Train loss: 0.001504, Train ACC: 0.999879, F1_macro: 0.999916, F1_weighted: 0.999879 lr: 0.000003\n",
      "Valid loss: 1.322437, Valid ACC: 0.916854, F1_macro: 0.872279, F1_weighted: 0.914900\n",
      "4885/5328 correct\n"
     ]
    },
    {
     "name": "stderr",
     "output_type": "stream",
     "text": [
      "777it [00:48, 16.13it/s, Epoch=38/50, Batch=777/777, Batch Loss=0.000000, Mean Loss=0.001463, Batch ACC=1.000000, Mean ACC=0.999839]\n"
     ]
    },
    {
     "name": "stdout",
     "output_type": "stream",
     "text": [
      "Train loss: 0.001463, Train ACC: 0.999839, F1_macro: 0.999855, F1_weighted: 0.999839 lr: 0.000003\n",
      "Epoch    38: reducing learning rate of group 0 to 1.5625e-06.\n",
      "Valid loss: 1.327397, Valid ACC: 0.917980, F1_macro: 0.874141, F1_weighted: 0.916096\n",
      "4891/5328 correct\n"
     ]
    },
    {
     "name": "stderr",
     "output_type": "stream",
     "text": [
      "777it [00:47, 16.45it/s, Epoch=39/50, Batch=777/777, Batch Loss=0.000000, Mean Loss=0.002528, Batch ACC=1.000000, Mean ACC=0.999879]\n"
     ]
    },
    {
     "name": "stdout",
     "output_type": "stream",
     "text": [
      "Train loss: 0.002528, Train ACC: 0.999879, F1_macro: 0.999777, F1_weighted: 0.999879 lr: 0.000002\n",
      "Valid loss: 1.321092, Valid ACC: 0.917230, F1_macro: 0.868386, F1_weighted: 0.915011\n",
      "4887/5328 correct\n"
     ]
    },
    {
     "name": "stderr",
     "output_type": "stream",
     "text": [
      "777it [00:47, 16.41it/s, Epoch=40/50, Batch=777/777, Batch Loss=0.000000, Mean Loss=0.000729, Batch ACC=1.000000, Mean ACC=0.999920]\n"
     ]
    },
    {
     "name": "stdout",
     "output_type": "stream",
     "text": [
      "Train loss: 0.000729, Train ACC: 0.999920, F1_macro: 0.999826, F1_weighted: 0.999920 lr: 0.000002\n",
      "Valid loss: 1.326981, Valid ACC: 0.916854, F1_macro: 0.872002, F1_weighted: 0.914962\n",
      "4885/5328 correct\n"
     ]
    },
    {
     "name": "stderr",
     "output_type": "stream",
     "text": [
      "777it [00:47, 16.21it/s, Epoch=41/50, Batch=777/777, Batch Loss=0.000000, Mean Loss=0.000703, Batch ACC=1.000000, Mean ACC=0.999839]\n"
     ]
    },
    {
     "name": "stdout",
     "output_type": "stream",
     "text": [
      "Train loss: 0.000703, Train ACC: 0.999839, F1_macro: 0.999906, F1_weighted: 0.999839 lr: 0.000002\n",
      "Valid loss: 1.295317, Valid ACC: 0.917417, F1_macro: 0.870810, F1_weighted: 0.915477\n",
      "4888/5328 correct\n"
     ]
    },
    {
     "name": "stderr",
     "output_type": "stream",
     "text": [
      "777it [00:46, 16.58it/s, Epoch=42/50, Batch=777/777, Batch Loss=0.000000, Mean Loss=0.000769, Batch ACC=1.000000, Mean ACC=0.999920]\n"
     ]
    },
    {
     "name": "stdout",
     "output_type": "stream",
     "text": [
      "Train loss: 0.000769, Train ACC: 0.999920, F1_macro: 0.999953, F1_weighted: 0.999920 lr: 0.000002\n",
      "Valid loss: 1.273391, Valid ACC: 0.918731, F1_macro: 0.869309, F1_weighted: 0.916858\n",
      "4895/5328 correct\n"
     ]
    },
    {
     "name": "stderr",
     "output_type": "stream",
     "text": [
      "777it [00:47, 16.31it/s, Epoch=43/50, Batch=777/777, Batch Loss=0.000000, Mean Loss=0.000933, Batch ACC=1.000000, Mean ACC=0.999799]\n"
     ]
    },
    {
     "name": "stdout",
     "output_type": "stream",
     "text": [
      "Train loss: 0.000933, Train ACC: 0.999799, F1_macro: 0.999790, F1_weighted: 0.999799 lr: 0.000002\n",
      "Valid loss: 1.303359, Valid ACC: 0.918731, F1_macro: 0.875057, F1_weighted: 0.916436\n",
      "4895/5328 correct\n"
     ]
    },
    {
     "name": "stderr",
     "output_type": "stream",
     "text": [
      "777it [00:46, 16.57it/s, Epoch=44/50, Batch=777/777, Batch Loss=0.000000, Mean Loss=0.000705, Batch ACC=1.000000, Mean ACC=0.999920]\n"
     ]
    },
    {
     "name": "stdout",
     "output_type": "stream",
     "text": [
      "Train loss: 0.000705, Train ACC: 0.999920, F1_macro: 0.999953, F1_weighted: 0.999920 lr: 0.000002\n",
      "Epoch    44: reducing learning rate of group 0 to 7.8125e-07.\n",
      "Valid loss: 1.320657, Valid ACC: 0.918356, F1_macro: 0.875031, F1_weighted: 0.916766\n",
      "4893/5328 correct\n"
     ]
    },
    {
     "name": "stderr",
     "output_type": "stream",
     "text": [
      "777it [00:47, 16.25it/s, Epoch=45/50, Batch=777/777, Batch Loss=0.000000, Mean Loss=0.000685, Batch ACC=1.000000, Mean ACC=0.999879]\n"
     ]
    },
    {
     "name": "stdout",
     "output_type": "stream",
     "text": [
      "Train loss: 0.000685, Train ACC: 0.999879, F1_macro: 0.999923, F1_weighted: 0.999879 lr: 0.000001\n",
      "Valid loss: 1.291355, Valid ACC: 0.919294, F1_macro: 0.875545, F1_weighted: 0.917151\n",
      "4898/5328 correct\n"
     ]
    },
    {
     "name": "stderr",
     "output_type": "stream",
     "text": [
      "777it [00:47, 16.25it/s, Epoch=46/50, Batch=777/777, Batch Loss=0.000000, Mean Loss=0.001991, Batch ACC=1.000000, Mean ACC=0.999799]\n"
     ]
    },
    {
     "name": "stdout",
     "output_type": "stream",
     "text": [
      "Train loss: 0.001991, Train ACC: 0.999799, F1_macro: 0.999869, F1_weighted: 0.999799 lr: 0.000001\n",
      "Valid loss: 1.321332, Valid ACC: 0.917980, F1_macro: 0.871255, F1_weighted: 0.915600\n",
      "4891/5328 correct\n"
     ]
    },
    {
     "name": "stderr",
     "output_type": "stream",
     "text": [
      "777it [00:48, 16.13it/s, Epoch=47/50, Batch=777/777, Batch Loss=0.000000, Mean Loss=0.000645, Batch ACC=1.000000, Mean ACC=0.999839]\n"
     ]
    },
    {
     "name": "stdout",
     "output_type": "stream",
     "text": [
      "Train loss: 0.000645, Train ACC: 0.999839, F1_macro: 0.999892, F1_weighted: 0.999839 lr: 0.000001\n",
      "Valid loss: 1.305831, Valid ACC: 0.919107, F1_macro: 0.876463, F1_weighted: 0.917290\n",
      "4897/5328 correct\n"
     ]
    },
    {
     "name": "stderr",
     "output_type": "stream",
     "text": [
      "777it [00:48, 15.87it/s, Epoch=48/50, Batch=777/777, Batch Loss=0.000000, Mean Loss=0.001305, Batch ACC=1.000000, Mean ACC=0.999920]\n"
     ]
    },
    {
     "name": "stdout",
     "output_type": "stream",
     "text": [
      "Train loss: 0.001305, Train ACC: 0.999920, F1_macro: 0.999818, F1_weighted: 0.999920 lr: 0.000001\n",
      "Valid loss: 1.280736, Valid ACC: 0.918919, F1_macro: 0.869771, F1_weighted: 0.917124\n",
      "4896/5328 correct\n"
     ]
    },
    {
     "name": "stderr",
     "output_type": "stream",
     "text": [
      "777it [00:48, 16.08it/s, Epoch=49/50, Batch=777/777, Batch Loss=0.000000, Mean Loss=0.001448, Batch ACC=1.000000, Mean ACC=0.999879]\n"
     ]
    },
    {
     "name": "stdout",
     "output_type": "stream",
     "text": [
      "Train loss: 0.001448, Train ACC: 0.999879, F1_macro: 0.999864, F1_weighted: 0.999879 lr: 0.000001\n",
      "Valid loss: 1.318263, Valid ACC: 0.917980, F1_macro: 0.876553, F1_weighted: 0.916548\n",
      "4891/5328 correct\n"
     ]
    },
    {
     "name": "stderr",
     "output_type": "stream",
     "text": [
      "777it [00:47, 16.44it/s, Epoch=50/50, Batch=777/777, Batch Loss=0.000000, Mean Loss=0.001033, Batch ACC=1.000000, Mean ACC=0.999879]\n"
     ]
    },
    {
     "name": "stdout",
     "output_type": "stream",
     "text": [
      "Train loss: 0.001033, Train ACC: 0.999879, F1_macro: 0.999839, F1_weighted: 0.999879 lr: 0.000001\n",
      "Epoch    50: reducing learning rate of group 0 to 3.9063e-07.\n",
      "Valid loss: 1.293929, Valid ACC: 0.917980, F1_macro: 0.875693, F1_weighted: 0.916066\n",
      "4891/5328 correct\n"
     ]
    }
   ],
   "source": [
    "from torch.utils.tensorboard import SummaryWriter\n",
    "\n",
    "writer = SummaryWriter(log_dir='logs/' + save_name)\n",
    "\n",
    "val_acc_list = []\n",
    "val_f1_macro_list = []\n",
    "val_f1_weighted_list = []\n",
    "\n",
    "model.to(device)\n",
    "\n",
    "for epoch in range(EPOCHS):\n",
    "    train(model, train_loader, epoch, EPOCHS)\n",
    "    evaluate(model, val_loader, epoch, EPOCHS)"
   ]
  },
  {
   "cell_type": "code",
   "execution_count": 14,
   "metadata": {},
   "outputs": [
    {
     "name": "stdout",
     "output_type": "stream",
     "text": [
      "0.9192943 0.8766246028112481 0.9172895670948131\n"
     ]
    }
   ],
   "source": [
    "print(max(val_acc_list), max(val_f1_macro_list), max(val_f1_weighted_list))"
   ]
  },
  {
   "cell_type": "markdown",
   "metadata": {},
   "source": [
    "# Test"
   ]
  },
  {
   "cell_type": "code",
   "execution_count": 15,
   "metadata": {},
   "outputs": [],
   "source": [
    "def test(model, loader):\n",
    "    running_loss = 0.0\n",
    "    running_f1 = 0.0\n",
    "    running_corrects = 0\n",
    "    model.eval()\n",
    "    y_true = []\n",
    "    y_pred = []\n",
    "\n",
    "    with torch.no_grad():\n",
    "        for idx, batch in enumerate(tqdm(loader)):\n",
    "            img = batch['img'].float().to(device)\n",
    "            label = batch['label'].long().to(device)\n",
    "\n",
    "            output = model(img)\n",
    "            # stats\n",
    "            preds = torch.argmax(output, dim=1)\n",
    "            correct = torch.eq(preds, label).sum()\n",
    "            running_corrects+=correct\n",
    "    \n",
    "            for item in label.cpu().numpy():\n",
    "                y_true.append(item)\n",
    "            for item in preds.cpu().numpy():\n",
    "                y_pred.append(item)\n",
    "\n",
    "        epoch_acc = running_corrects / len(loader.dataset)\n",
    "        epoch_f1_macro = f1_score(y_true, y_pred, average='macro')\n",
    "        epoch_f1_weighted = f1_score(y_true, y_pred, average='weighted')\n",
    "        \n",
    "        print(f'{running_corrects}/{len(loader.dataset)} correct')\n",
    "        print(f'Test ACC: {epoch_acc:.6f}, F1_macro: {epoch_f1_macro:.6f}, F1_weighted: {epoch_f1_weighted:.6f}')\n",
    "\n",
    "    plt.figure(figsize=(20, 20))\n",
    "    sns.heatmap(\n",
    "        confusion_matrix(\n",
    "            y_true,\n",
    "            y_pred,\n",
    "            normalize = 'true'), \n",
    "            annot=True, cmap='coolwarm'\n",
    "            )\n",
    "    plt.title(\"CONFUSION MATRIX of the test dataset\", fontsize=25)\n",
    "    plt.show()\n"
   ]
  },
  {
   "cell_type": "code",
   "execution_count": 16,
   "metadata": {},
   "outputs": [
    {
     "name": "stderr",
     "output_type": "stream",
     "text": [
      "100%|██████████| 11/11 [00:01<00:00, 10.48it/s]\n"
     ]
    },
    {
     "name": "stdout",
     "output_type": "stream",
     "text": [
      "4853/5328 correct\n",
      "Test ACC: 0.910848, F1_macro: 0.854978, F1_weighted: 0.908003\n"
     ]
    },
    {
     "data": {
      "image/png": "[encoded data removed]",
      "text/plain": [
       "<Figure size 1440x1440 with 2 Axes>"
      ]
     },
     "metadata": {
      "needs_background": "light"
     },
     "output_type": "display_data"
    }
   ],
   "source": [
    "from torchvision.models import resnet50\n",
    "import torch.nn as nn \n",
    "from sklearn.metrics import confusion_matrix\n",
    "\n",
    "model = resnet50(pretrained=False)\n",
    "model.conv1 = nn.Conv2d(INPUT_CH, 64, kernel_size=(7, 7), stride=(2, 2), padding=(3, 3), bias=False)\n",
    "feat = model.fc.in_features\n",
    "model.fc = nn.Linear(feat, NUM_CLASSES)\n",
    "\n",
    "# LOAD trained model \n",
    "model.load_state_dict(torch.load(save_path))\n",
    "model.to(device)\n",
    "test(model, test_loader)"
   ]
  },
  {
   "cell_type": "code",
   "execution_count": null,
   "metadata": {},
   "outputs": [],
   "source": []
  }
 ],
 "metadata": {
  "interpreter": {
   "hash": "1f24b2f6551b049df64cb25183e90251dea2c63deab47566e118362740cff14f"
  },
  "kernelspec": {
   "display_name": "Python 3.6.15 ('torch')",
   "language": "python",
   "name": "python3"
  },
  "language_info": {
   "codemirror_mode": {
    "name": "ipython",
    "version": 3
   },
   "file_extension": ".py",
   "mimetype": "text/x-python",
   "name": "python",
   "nbconvert_exporter": "python",
   "pygments_lexer": "ipython3",
   "version": "3.7.7"
  },
  "orig_nbformat": 4
 },
 "nbformat": 4,
 "nbformat_minor": 2
}

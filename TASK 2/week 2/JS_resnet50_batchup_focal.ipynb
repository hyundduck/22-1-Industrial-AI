{
 "cells": [
  {
   "cell_type": "code",
   "execution_count": 1,
   "metadata": {},
   "outputs": [],
   "source": [
    "import os\n",
    "from os.path import join\n",
    "import pickle\n",
    "import numpy as np\n",
    "import pandas as pd\n",
    "import seaborn as sns\n",
    "\n",
    "import cv2\n",
    "from PIL import Image\n",
    "import matplotlib.pyplot as plt\n",
    "\n",
    "import gc\n",
    "import torch \n",
    "import torch.nn as nn\n",
    "import torch.nn.functional as F\n",
    "import torch.optim as optim\n",
    "from torch.utils.data import Dataset, ConcatDataset, DataLoader\n",
    "import torchvision.transforms as T\n",
    "import albumentations as A\n",
    "from torch.optim.lr_scheduler import ReduceLROnPlateau\n",
    "from sklearn.metrics import f1_score\n",
    "\n",
    "from tqdm import tqdm\n",
    "from sklearn.preprocessing import LabelEncoder\n",
    "from sklearn.model_selection import train_test_split\n",
    "import warnings\n",
    "\n",
    "warnings.filterwarnings(\"ignore\")\n",
    "\n",
    "\n",
    "# Control Randomness\n",
    "import random\n",
    "random_seed = 7\n",
    "torch.manual_seed(random_seed)\n",
    "torch.backends.cudnn.deterministic = False\n",
    "torch.backends.cudnn.benchmark = False\n",
    "np.random.seed(random_seed)\n",
    "random.seed(random_seed)"
   ]
  },
  {
   "cell_type": "markdown",
   "metadata": {},
   "source": [
    "# EDA & Cleaning"
   ]
  },
  {
   "cell_type": "code",
   "execution_count": null,
   "metadata": {},
   "outputs": [],
   "source": [
    "df=pd.read_pickle(\"LSWMD.pkl\")\n",
    "\n",
    "def removebrackets(array):\n",
    "    if array.shape == (1, 1):\n",
    "        return \"\".join(array[0])\n",
    "    elif array.shape == (0, 0):\n",
    "        return None\n",
    "        \n",
    "df.rename(columns = {'trianTestLabel':'TrainTestLabel'}, inplace = 'True')\n",
    "df['TrainTestLabel'] = df['TrainTestLabel'].apply(removebrackets)\n",
    "df['failureType'] = df['failureType'].apply(removebrackets)"
   ]
  },
  {
   "cell_type": "code",
   "execution_count": null,
   "metadata": {},
   "outputs": [],
   "source": [
    "df.sample(10)"
   ]
  },
  {
   "cell_type": "code",
   "execution_count": null,
   "metadata": {},
   "outputs": [],
   "source": [
    "df.isna().sum()"
   ]
  },
  {
   "cell_type": "code",
   "execution_count": null,
   "metadata": {},
   "outputs": [],
   "source": [
    "df_ = df.TrainTestLabel.dropna()\n",
    "# df_ = df_.failureType.dropna()\n",
    "df_"
   ]
  },
  {
   "cell_type": "markdown",
   "metadata": {},
   "source": [
    "* The dataset were collected from **47,543 lots** in real-world fab. However, **47,543 lots x 25 wafer/lot =1,157,325 wafer maps** is larger than **811,457 wafer maps**. \n",
    "\n",
    "* Let's see what happened. "
   ]
  },
  {
   "cell_type": "code",
   "execution_count": null,
   "metadata": {},
   "outputs": [],
   "source": [
    "import matplotlib.pyplot as plt\n",
    "%matplotlib inline\n",
    "\n",
    "uni_Index=np.unique(df.waferIndex, return_counts=True)\n",
    "plt.bar(uni_Index[0], uni_Index[1], align='center', alpha=0.5)\n",
    "plt.title(\"wafer Index Distribution\")\n",
    "plt.xlabel(\"index #\")\n",
    "plt.ylabel(\"frequency\")\n",
    "plt.xlim(0,26)\n",
    "plt.ylim(30000,34000)\n",
    "plt.show()"
   ]
  },
  {
   "cell_type": "code",
   "execution_count": null,
   "metadata": {},
   "outputs": [],
   "source": [
    "df = df.drop(['waferIndex'], axis = 1)"
   ]
  },
  {
   "cell_type": "markdown",
   "metadata": {},
   "source": [
    "* We can not get much information from the wafer map column but we can see the die size for each instance is different. \n",
    "\n",
    "* We create a new variable **'waferMapDim'** for wafer map dim checking."
   ]
  },
  {
   "cell_type": "code",
   "execution_count": null,
   "metadata": {},
   "outputs": [],
   "source": [
    "def find_dim(x):\n",
    "    dim0=np.size(x,axis=0)\n",
    "    dim1=np.size(x,axis=1)\n",
    "    return dim0, dim1\n",
    "    \n",
    "df['waferMapDim']=df.waferMap.apply(find_dim)"
   ]
  },
  {
   "cell_type": "code",
   "execution_count": null,
   "metadata": {},
   "outputs": [],
   "source": [
    "df.sample(5)"
   ]
  },
  {
   "cell_type": "code",
   "execution_count": null,
   "metadata": {},
   "outputs": [],
   "source": [
    "df.shape[0]\n",
    "# failureType: 811457 -> 172950"
   ]
  },
  {
   "cell_type": "code",
   "execution_count": null,
   "metadata": {},
   "outputs": [],
   "source": [
    "df"
   ]
  },
  {
   "cell_type": "code",
   "execution_count": null,
   "metadata": {},
   "outputs": [],
   "source": [
    "df_ = df.dropna(subset=['failureType'])"
   ]
  },
  {
   "cell_type": "code",
   "execution_count": null,
   "metadata": {},
   "outputs": [],
   "source": [
    "df_"
   ]
  },
  {
   "cell_type": "code",
   "execution_count": null,
   "metadata": {},
   "outputs": [],
   "source": [
    "max(df_.waferMapDim), min(df_.waferMapDim)"
   ]
  },
  {
   "cell_type": "code",
   "execution_count": null,
   "metadata": {},
   "outputs": [],
   "source": [
    "uni_waferDim=np.unique(df_.waferMapDim, return_counts=True)\n",
    "uni_waferDim[0].shape[0]\n",
    "# 632개의 서로다른 Wafer map size 가 존재."
   ]
  },
  {
   "cell_type": "code",
   "execution_count": null,
   "metadata": {},
   "outputs": [],
   "source": [
    "df_.groupby(\"waferMapDim\").size().sort_values(ascending=False)[:20]"
   ]
  },
  {
   "cell_type": "markdown",
   "metadata": {},
   "source": [
    "* The dimension of wafer map, or saying the **image size** are not always the same. We noticed that there are **632** different size for our wafer map. \n",
    "\n",
    "* For this reason, we must do **data tranformation** (feature extraction) to **make input the same dim** and the method will be introduced in the following section."
   ]
  },
  {
   "cell_type": "markdown",
   "metadata": {},
   "source": [
    ">**Missing value check**\n",
    "* Do not be afraid to handle so large dataset. When you look into the dataset you may notice quite number of data are useless due to **missing values**.\n",
    "\n",
    "* Do missing value check is an important part during data preparing process. Since we only interested in wafer with patterns, we may remove those data without failure type labels. "
   ]
  },
  {
   "cell_type": "code",
   "execution_count": null,
   "metadata": {},
   "outputs": [],
   "source": [
    "df['failureNum']=df.failureType\n",
    "df['trainTestNum']=df.TrainTestLabel\n",
    "mapping_type={'Center':0,'Donut':1,'Edge-Loc':2,'Edge-Ring':3,'Loc':4,'Random':5,'Scratch':6,'Near-full':7,'none':8}\n",
    "mapping_traintest={'Training':0,'Test':1}\n",
    "df=df.replace({'failureNum':mapping_type, 'trainTestNum':mapping_traintest})"
   ]
  },
  {
   "cell_type": "code",
   "execution_count": null,
   "metadata": {},
   "outputs": [],
   "source": [
    "df"
   ]
  },
  {
   "cell_type": "code",
   "execution_count": null,
   "metadata": {},
   "outputs": [],
   "source": [
    "df_withlabel = df[(df['failureNum']>=0) & (df['failureNum']<=8)]\n",
    "df_withlabel =df_withlabel.reset_index()\n",
    "df_withpattern = df[(df['failureNum']>=0) & (df['failureNum']<=7)]\n",
    "df_withpattern = df_withpattern.reset_index()\n",
    "df_nonpattern = df[(df['failureNum']==8)]\n",
    "df_withlabel.shape[0], df_withpattern.shape[0], df_nonpattern.shape[0]"
   ]
  },
  {
   "cell_type": "code",
   "execution_count": null,
   "metadata": {},
   "outputs": [],
   "source": [
    "df_withlabel"
   ]
  },
  {
   "cell_type": "code",
   "execution_count": null,
   "metadata": {},
   "outputs": [],
   "source": [
    "df_withpattern\n",
    "# none 제거 버전"
   ]
  },
  {
   "cell_type": "code",
   "execution_count": null,
   "metadata": {},
   "outputs": [],
   "source": [
    "df_nonpattern\n",
    "# failuretype: none"
   ]
  },
  {
   "cell_type": "code",
   "execution_count": null,
   "metadata": {},
   "outputs": [],
   "source": [
    "import matplotlib.pyplot as plt\n",
    "%matplotlib inline\n",
    "\n",
    "from matplotlib import gridspec\n",
    "fig = plt.figure(figsize=(20, 4.5)) \n",
    "gs = gridspec.GridSpec(1, 2, width_ratios=[1, 2.5])\n",
    "ax1 = plt.subplot(gs[0])\n",
    "ax2 = plt.subplot(gs[1])\n",
    "no_wafers=[df.shape[0]-df_withlabel.shape[0], df_withpattern.shape[0], df_nonpattern.shape[0]]\n",
    "\n",
    "colors = ['silver', 'orange', 'gold']\n",
    "explode = (0.1, 0, 0)  # explode 1st slice\n",
    "labels = ['no-label','label&pattern','label&non-pattern']\n",
    "ax1.pie(no_wafers, explode=explode, labels=labels, colors=colors, autopct='%1.1f%%', shadow=True, startangle=140)\n",
    "\n",
    "uni_pattern=np.unique(df_withpattern.failureNum, return_counts=True)\n",
    "labels2 = ['','Center','Donut','Edge-Loc','Edge-Ring','Loc','Random','Scratch','Near-full']\n",
    "ax2.bar(uni_pattern[0],uni_pattern[1]/df_withpattern.shape[0], color='gold', align='center', alpha=0.9)\n",
    "ax2.set_title(\"failure type frequency\")\n",
    "ax2.set_ylabel(\"% of pattern wafers\")\n",
    "ax2.set_xticklabels(labels2)\n",
    "\n",
    "plt.show()"
   ]
  },
  {
   "cell_type": "code",
   "execution_count": null,
   "metadata": {},
   "outputs": [],
   "source": [
    "# with labeled - failuretype\n",
    "label = df_withlabel.failureType.values\n",
    "\n",
    "plt.figure(figsize=(8, 8))\n",
    "labels = np.unique(label, return_counts=True)[0]\n",
    "counts = np.unique(label, return_counts=True)[1]\n",
    "\n",
    "pie = plt.pie(x = counts, labels=labels, autopct = \"%.1f%%\")\n",
    "_, texts, autotexts =pie\n",
    "for items in texts:\n",
    "    items.set_color('white') \n",
    "    items.set_fontsize('10')\n",
    "for items in autotexts:\n",
    "    items.set_fontsize('10')\n",
    "plt.title('failureType', color = 'white', fontsize = 20)\n",
    "plt.legend()\n",
    "plt.show()"
   ]
  },
  {
   "cell_type": "code",
   "execution_count": null,
   "metadata": {},
   "outputs": [],
   "source": [
    "label = df_withpattern.failureType.values\n",
    "\n",
    "plt.figure(figsize=(8, 8))\n",
    "labels = np.unique(label, return_counts=True)[0]\n",
    "counts = np.unique(label, return_counts=True)[1]\n",
    "\n",
    "pie = plt.pie(x = counts, labels=labels, autopct = \"%.1f%%\")\n",
    "_, texts, autotexts =pie\n",
    "for items in texts:\n",
    "    items.set_color('white') \n",
    "    items.set_fontsize('10')\n",
    "for items in autotexts:\n",
    "    items.set_fontsize('10')\n",
    "plt.title('failureType', color = 'white', fontsize = 20)\n",
    "plt.legend()\n",
    "plt.show()"
   ]
  },
  {
   "cell_type": "code",
   "execution_count": null,
   "metadata": {},
   "outputs": [],
   "source": [
    "df_withpattern.failureType.value_counts()"
   ]
  },
  {
   "cell_type": "code",
   "execution_count": null,
   "metadata": {},
   "outputs": [],
   "source": [
    "# None 클래스 Undersampling\n",
    "none = df_withlabel.loc[(df_withlabel.failureType == 'none'),:].sample(10000)\n",
    "df_withlabel.drop(df_withlabel[df_withlabel.failureType == 'none'].index, inplace = True)\n",
    "print(none.shape)\n",
    "print(df_withlabel.shape)\n",
    "\n",
    "df_withlabel_new = pd.concat([df_withlabel, none], ignore_index=True)\n",
    "df_withlabel_new.shape"
   ]
  },
  {
   "cell_type": "code",
   "execution_count": null,
   "metadata": {},
   "outputs": [],
   "source": [
    "label = df_withlabel_new.failureType.values\n",
    "\n",
    "plt.figure(figsize=(8, 8))\n",
    "labels = np.unique(label, return_counts=True)[0]\n",
    "counts = np.unique(label, return_counts=True)[1]\n",
    "\n",
    "pie = plt.pie(x = counts, labels=labels, autopct = \"%.1f%%\")\n",
    "_, texts, autotexts =pie\n",
    "for items in texts:\n",
    "    items.set_color('white') \n",
    "    items.set_fontsize('10')\n",
    "for items in autotexts:\n",
    "    items.set_fontsize('10')\n",
    "plt.title('failureType', color = 'white', fontsize = 20)\n",
    "plt.legend()\n",
    "plt.show()"
   ]
  },
  {
   "cell_type": "code",
   "execution_count": null,
   "metadata": {},
   "outputs": [],
   "source": [
    "df_withlabel_new['failureType'].value_counts()"
   ]
  },
  {
   "cell_type": "code",
   "execution_count": null,
   "metadata": {},
   "outputs": [],
   "source": [
    "df_withpattern.waferMapDim[0][0]"
   ]
  },
  {
   "cell_type": "code",
   "execution_count": null,
   "metadata": {},
   "outputs": [],
   "source": [
    "def find_size(x):\n",
    "    w = x[0]\n",
    "    h = x[1]\n",
    "    return np.sqrt(w*h)\n",
    "    \n",
    "df_withlabel['wafermaplen'] = df_withlabel.waferMapDim.apply(find_size)"
   ]
  },
  {
   "cell_type": "code",
   "execution_count": null,
   "metadata": {},
   "outputs": [],
   "source": [
    "print(df_withlabel.wafermaplen.median())\n",
    "print(df_withlabel.wafermaplen.mean())"
   ]
  },
  {
   "cell_type": "code",
   "execution_count": null,
   "metadata": {},
   "outputs": [],
   "source": [
    "plt.hist(df_withlabel.wafermaplen, bins=20)\n",
    "plt.show()"
   ]
  },
  {
   "cell_type": "markdown",
   "metadata": {},
   "source": [
    "## Visualize"
   ]
  },
  {
   "cell_type": "code",
   "execution_count": null,
   "metadata": {},
   "outputs": [],
   "source": [
    "fig, ax = plt.subplots(nrows = 10, ncols = 10, figsize=(20, 20))\n",
    "ax = ax.ravel(order='C')\n",
    "for i in range(100):\n",
    "    img = df_withlabel.waferMap[i]\n",
    "    ax[i].imshow(img)\n",
    "    ax[i].set_title(df_withlabel.failureType[i], fontsize=10)\n",
    "    ax[i].set_xlabel(df_withlabel.index[i], fontsize=8)\n",
    "    ax[i].set_xticks([])\n",
    "    ax[i].set_yticks([])\n",
    "plt.tight_layout()\n",
    "plt.show() "
   ]
  },
  {
   "cell_type": "code",
   "execution_count": null,
   "metadata": {},
   "outputs": [],
   "source": [
    "x = [0,1,2,3,4,5,6,7,8]\n",
    "labels2 = ['Center','Donut','Edge-Loc','Edge-Ring','Loc','Random','Scratch','Near-full','none']\n",
    "\n",
    "for k in x:\n",
    "    fig, ax = plt.subplots(nrows = 1, ncols = 10, figsize=(18, 12))\n",
    "    ax = ax.ravel(order='C')\n",
    "    for j in [k]:\n",
    "        img = df_withlabel.waferMap[df_withlabel.failureType==labels2[j]]\n",
    "        for i in range(10):\n",
    "            ax[i].imshow(img[img.index[i]])\n",
    "            ax[i].set_title(df_withlabel.failureType[img.index[i]], fontsize=10)\n",
    "            ax[i].set_xlabel(df_withlabel.index[img.index[i]], fontsize=10)\n",
    "            ax[i].set_xticks([])\n",
    "            ax[i].set_yticks([])\n",
    "    plt.tight_layout()\n",
    "    plt.show() "
   ]
  },
  {
   "cell_type": "code",
   "execution_count": null,
   "metadata": {},
   "outputs": [],
   "source": [
    "x = [9,340, 3, 16, 0, 25, 84, 37]\n",
    "labels2 = ['Center','Donut','Edge-Loc','Edge-Ring','Loc','Random','Scratch','Near-full']\n",
    "\n",
    "#ind_def = {'Center': 9, 'Donut': 340, 'Edge-Loc': 3, 'Edge-Ring': 16, 'Loc': 0, 'Random': 25,  'Scratch': 84, 'Near-full': 37}\n",
    "fig, ax = plt.subplots(nrows = 2, ncols = 4, figsize=(20, 10))\n",
    "ax = ax.ravel(order='C')\n",
    "for i in range(8):\n",
    "    img = df_withpattern.waferMap[x[i]]\n",
    "    ax[i].imshow(img)\n",
    "    ax[i].set_title(df_withpattern.failureType[x[i]],fontsize=24)\n",
    "    ax[i].set_xticks([])\n",
    "    ax[i].set_yticks([])\n",
    "plt.tight_layout()\n",
    "plt.show() "
   ]
  },
  {
   "cell_type": "code",
   "execution_count": null,
   "metadata": {},
   "outputs": [],
   "source": [
    "df_withlabel.waferMap.values[0]"
   ]
  },
  {
   "cell_type": "code",
   "execution_count": null,
   "metadata": {},
   "outputs": [],
   "source": [
    "df_withlabel.failureNum.values"
   ]
  },
  {
   "cell_type": "code",
   "execution_count": null,
   "metadata": {},
   "outputs": [],
   "source": [
    "X = df_withlabel_new.waferMap.values\n",
    "y = df_withlabel_new.failureNum.values\n",
    "assert X.shape[0] == y.shape[0]"
   ]
  },
  {
   "cell_type": "code",
   "execution_count": null,
   "metadata": {},
   "outputs": [],
   "source": [
    "df_withlabel_new.failureNum.unique()"
   ]
  },
  {
   "cell_type": "code",
   "execution_count": null,
   "metadata": {},
   "outputs": [],
   "source": [
    "X_train, X_val, y_train, y_val = train_test_split(X, y, test_size=0.3, stratify=y)\n",
    "X_val, X_test, y_val, y_test = train_test_split(X_val, y_val, test_size=0.5, stratify=y_val)\n",
    "\n",
    "# train, val, test = 0.7, 0.15, 0.15"
   ]
  },
  {
   "cell_type": "code",
   "execution_count": null,
   "metadata": {},
   "outputs": [],
   "source": [
    "# torch.save(X_train, 'Data/X_train_new.pt')\n",
    "# torch.save(X_val, 'Data/X_val_new.pt')\n",
    "# torch.save(X_test, 'Data/X_test_new.pt')\n",
    "# torch.save(y_train, 'Data/y_train_new.pt')\n",
    "# torch.save(y_val, 'Data/y_val_new.pt')\n",
    "# torch.save(y_test, 'Data/y_test_new.pt')"
   ]
  },
  {
   "cell_type": "markdown",
   "metadata": {},
   "source": [
    "# Config"
   ]
  },
  {
   "cell_type": "code",
   "execution_count": 2,
   "metadata": {},
   "outputs": [],
   "source": [
    "# Load\n",
    "X_train = torch.load('Data/X_train_new.pt')\n",
    "X_val = torch.load('Data/X_val_new.pt')\n",
    "X_test = torch.load('Data/X_test_new.pt')\n",
    "y_train = torch.load('Data/y_train_new.pt')\n",
    "y_val = torch.load('Data/y_val_new.pt')\n",
    "y_test = torch.load('Data/y_test_new.pt')"
   ]
  },
  {
   "cell_type": "code",
   "execution_count": 3,
   "metadata": {},
   "outputs": [
    {
     "name": "stdout",
     "output_type": "stream",
     "text": [
      "resnet50_batch256_aug_focal models/resnet50_batch256_aug_focal.pt\n"
     ]
    }
   ],
   "source": [
    "BATCH_SIZE_TRAIN = 256  # 32 -> 256\n",
    "BATCH_SIZE_VAL = 512\n",
    "BATCH_SIZE_TEST = 512\n",
    "\n",
    "RE_SIZE = 96\n",
    "INPUT_CH = 1    # Must be 1\n",
    "NUM_CLASSES = 9\n",
    "IS_PRETRAINED = False\n",
    "LEARNING_RATE = 1e-4\n",
    "EPOCHS = 80\n",
    "\n",
    "save_name = f'resnet50_batch{BATCH_SIZE_TRAIN}_aug_focal'\n",
    "save_path = f'models/{save_name}.pt'\n",
    "device = torch.device(\"cuda:0\")\n",
    "print(save_name, save_path)"
   ]
  },
  {
   "cell_type": "markdown",
   "metadata": {},
   "source": [
    "# Dataset"
   ]
  },
  {
   "cell_type": "code",
   "execution_count": null,
   "metadata": {},
   "outputs": [],
   "source": [
    "# temp_loader = DataLoader(train_dataset, batch_size=len(train_dataset))\n",
    "# data = next(iter(temp_loader))\n",
    "\n",
    "# mean = data['img'][:, 0].float().mean().numpy()\n",
    "# print(mean)"
   ]
  },
  {
   "cell_type": "code",
   "execution_count": 4,
   "metadata": {},
   "outputs": [
    {
     "name": "stdout",
     "output_type": "stream",
     "text": [
      "24863 5328 5328\n"
     ]
    }
   ],
   "source": [
    "from albumentations.pytorch.transforms import ToTensorV2\n",
    "from utils import get_transforms, display_aug\n",
    "# Transforms and Dataset\n",
    "\n",
    "class WaferDataset(Dataset):\n",
    "    def __init__(self, X, y, transform=None):\n",
    "        self.X = X\n",
    "        self.y = y\n",
    "        self.transform = transform\n",
    "\n",
    "    def __len__(self):\n",
    "        assert len(self.X) == len(self.y)\n",
    "        return len(self.X)\n",
    "\n",
    "    def __getitem__(self, idx):\n",
    "        X = self.X[idx]\n",
    "        y = self.y[idx]\n",
    "        # X = self.df.waferMap.values[idx]\n",
    "        # y = self.df.failureNum.values[idx].int()\n",
    "\n",
    "        if self.transform:\n",
    "            X = self.transform(image=X)\n",
    "            \n",
    "        return {\n",
    "            'img' : X['image'], \n",
    "            'label': y\n",
    "        }\n",
    "\n",
    "train_transform, else_transform = get_transforms(size=RE_SIZE)\n",
    "\n",
    "train_dataset = WaferDataset(X_train, y_train, transform=train_transform)\n",
    "val_dataset = WaferDataset(X_val, y_val, transform=else_transform)\n",
    "test_dataset = WaferDataset(X_test, y_test, transform=else_transform)\n",
    "\n",
    "train_loader = DataLoader(train_dataset, batch_size=BATCH_SIZE_TRAIN, shuffle=True)\n",
    "val_loader = DataLoader(val_dataset, batch_size=BATCH_SIZE_VAL, shuffle=False)\n",
    "test_loader = DataLoader(test_dataset, batch_size=BATCH_SIZE_TEST, shuffle=False)\n",
    "\n",
    "print(len(train_dataset), len(val_dataset), len(test_dataset))"
   ]
  },
  {
   "cell_type": "code",
   "execution_count": 5,
   "metadata": {},
   "outputs": [
    {
     "data": {
      "image/png": "[encoded data removed]",
      "text/plain": [
       "<Figure size 432x288 with 1 Axes>"
      ]
     },
     "metadata": {
      "needs_background": "light"
     },
     "output_type": "display_data"
    },
    {
     "data": {
      "image/png": "[encoded data removed]",
      "text/plain": [
       "<Figure size 1800x360 with 5 Axes>"
      ]
     },
     "metadata": {
      "needs_background": "light"
     },
     "output_type": "display_data"
    }
   ],
   "source": [
    "display_aug(imgs=X_train, transform=train_transform, labels = y_train)"
   ]
  },
  {
   "cell_type": "code",
   "execution_count": 7,
   "metadata": {},
   "outputs": [
    {
     "data": {
      "image/png": "[encoded data removed]",
      "text/plain": [
       "<Figure size 432x288 with 1 Axes>"
      ]
     },
     "metadata": {
      "needs_background": "light"
     },
     "output_type": "display_data"
    }
   ],
   "source": [
    "plt.hist(y_test, bins=9)\n",
    "plt.show()"
   ]
  },
  {
   "cell_type": "markdown",
   "metadata": {},
   "source": [
    "# Model"
   ]
  },
  {
   "cell_type": "code",
   "execution_count": 8,
   "metadata": {},
   "outputs": [],
   "source": [
    "from torchvision.models import resnet50\n",
    "from torchinfo import summary\n",
    "\n",
    "model = resnet50(pretrained=False)\n",
    "model.conv1 = nn.Conv2d(INPUT_CH, 64, kernel_size=(7, 7), stride=(2, 2), padding=(3, 3), bias=False)\n",
    "feat = model.fc.in_features\n",
    "model.fc = nn.Linear(feat, NUM_CLASSES)\n",
    "# summary(model, (BATCH_SIZE_TRAIN, INPUT_CH, RE_SIZE, RE_SIZE), device='cpu')"
   ]
  },
  {
   "cell_type": "code",
   "execution_count": 9,
   "metadata": {},
   "outputs": [
    {
     "data": {
      "text/plain": [
       "tensor([0.2500, 0.2500, 0.2500, 0.2500, 0.2500, 0.2500, 0.2500, 0.2500, 0.2500])"
      ]
     },
     "execution_count": 9,
     "metadata": {},
     "output_type": "execute_result"
    }
   ],
   "source": [
    "weights = torch.tensor([0.25]).expand(NUM_CLASSES)\n",
    "weights"
   ]
  },
  {
   "cell_type": "code",
   "execution_count": 10,
   "metadata": {},
   "outputs": [],
   "source": [
    "from torch.optim.lr_scheduler import ReduceLROnPlateau\n",
    "from utils import FocalLoss\n",
    "\n",
    "optimizer = torch.optim.Adam(model.parameters(), lr=LEARNING_RATE)\n",
    "\n",
    "# criterion = FocalLoss(weights=weights.cuda(), gamma=2, reduce=True) # ERROR!\n",
    "criterion = FocalLoss(weights=weights.cuda(), gamma=2, reduce=True) # ERROR!\n",
    "scheduler = ReduceLROnPlateau(optimizer, mode='min', factor=0.5, threshold=0.1, patience=5, threshold_mode='rel', verbose=True)"
   ]
  },
  {
   "cell_type": "code",
   "execution_count": 11,
   "metadata": {},
   "outputs": [],
   "source": [
    "from sklearn.metrics import f1_score \n",
    "\n",
    "def train(model, loader, epoch, nb_epochs):\n",
    "    running_loss, running_corrects, running_num = 0.0, 0, 0\n",
    "    y_true, y_pred = [], []\n",
    "    scaler = torch.cuda.amp.GradScaler()\n",
    "    tqdm_loader = tqdm(enumerate(loader))\n",
    "    model.train()\n",
    "    for batch_idx, batch in tqdm_loader:\n",
    "        img = batch['img'].float().cuda()\n",
    "        label = batch['label'].long().cuda()\n",
    "        # zero the parameter gradients\n",
    "        optimizer.zero_grad()\n",
    "        \n",
    "        # mixed precision + gradient clipping\n",
    "        with torch.cuda.amp.autocast():\n",
    "            output = model(img).cuda()\n",
    "            loss = criterion(output, label)\n",
    "\n",
    "        scaler.scale(loss).backward() \n",
    "        nn.utils.clip_grad_norm_(model.parameters(), max_norm=10)\n",
    "        scaler.step(optimizer)\n",
    "        scaler.update()\n",
    "        \n",
    "        # # forward + backward + optimize\n",
    "        # output = model(img)\n",
    "        # loss = criterion(output, label)\n",
    "        # loss.backward()\n",
    "        # optimizer.step()\n",
    "        \n",
    "        # stats\n",
    "        preds = torch.argmax(output, dim=1)\n",
    "        correct = torch.eq(preds, label).sum()\n",
    "        running_loss += loss.item() \n",
    "        running_corrects += correct\n",
    "        running_num += len(label)\n",
    "        \n",
    "        for item in label.cpu().numpy():\n",
    "            y_true.append(item)\n",
    "        for item in preds.cpu().numpy():\n",
    "            y_pred.append(item)\n",
    "        \n",
    "        tqdm_loader.set_postfix({\n",
    "            'Epoch': '{}/{}'.format(epoch + 1, nb_epochs),\n",
    "            'Batch' : '{}/{}'.format(batch_idx + 1, len(loader)),\n",
    "            'Batch Loss': '{:06f}'.format(loss.item()),\n",
    "            'Mean Loss' : '{:06f}'.format(running_loss / (batch_idx + 1)),\n",
    "            'Batch ACC': '{:06f}'.format(correct / len(label)),\n",
    "            'Mean ACC' : '{:06f}'.format(running_corrects / running_num)\n",
    "        })\n",
    "\n",
    "    epoch_loss = running_loss / len(loader)\n",
    "    epoch_acc = running_corrects / running_num\n",
    "    epoch_f1_macro = f1_score(y_true, y_pred, average='macro')\n",
    "    epoch_f1_weighted = f1_score(y_true, y_pred, average='weighted')\n",
    "\n",
    "    writer.add_scalar('Loss/Train', epoch_loss, epoch)\n",
    "    writer.add_scalar('Accuracy/Train', epoch_acc, epoch)\n",
    "    writer.add_scalar('F1_macro/Train', epoch_f1_macro, epoch)\n",
    "    writer.add_scalar('F1_weighted/Train', epoch_f1_weighted, epoch)\n",
    "    writer.add_scalar('learning_rate', optimizer.param_groups[0][\"lr\"], epoch)\n",
    "    print(f'Train loss: {epoch_loss:.6f}, Train ACC: {epoch_acc:.6f}, F1_macro: {epoch_f1_macro:.6f}, F1_weighted: {epoch_f1_weighted:.6f} lr: {optimizer.param_groups[0][\"lr\"]:.6f}')\n",
    "    \n",
    "def evaluate(model, loader, epoch, nb_epochs):\n",
    "    running_loss, running_corrects, running_num = 0.0, 0, 0\n",
    "    y_true, y_pred = [], []\n",
    "    model.eval()\n",
    "    with torch.no_grad():\n",
    "        for batch_idx, batch in enumerate(loader):\n",
    "            img = batch['img'].float().cuda()   \n",
    "            label = batch['label'].long().cuda()\n",
    "            output = model(img).cuda()\n",
    "            loss = criterion(output, label)\n",
    "\n",
    "            # stats\n",
    "            preds = torch.argmax(output, dim=1)\n",
    "            correct = torch.eq(preds, label).sum()\n",
    "            running_loss += loss.item() \n",
    "            running_corrects += correct\n",
    "            running_num += len(label)\n",
    "\n",
    "            for item in label.cpu().numpy():\n",
    "                y_true.append(item)\n",
    "            for item in preds.cpu().numpy():\n",
    "                y_pred.append(item)\n",
    "\n",
    "            # tqdm_loader.set_postfix({\n",
    "            #     'Epoch': '{}/{}'.format(epoch + 1, nb_epochs),\n",
    "            #     'Batch' : '{}/{}'.format(batch_idx + 1, len(loader)),\n",
    "            #     'Batch Loss': '{:06f}'.format(loss.item()),\n",
    "            #     'Mean Loss' : '{:06f}'.format(running_loss / (batch_idx + 1)),\n",
    "            #     'Batch ACC': '{:06f}'.format(correct / len(label)),\n",
    "            #     'Mean ACC' : '{:06f}'.format(running_corrects / running_num)\n",
    "            # })\n",
    "\n",
    "        epoch_loss = running_loss / len(loader)\n",
    "        epoch_acc = running_corrects / running_num\n",
    "        epoch_f1_macro = f1_score(y_true, y_pred, average='macro')\n",
    "        epoch_f1_weighted = f1_score(y_true, y_pred, average='weighted')\n",
    "        \n",
    "        scheduler.step(epoch_loss)\n",
    "        \n",
    "        writer.add_scalar('Loss/Valid', epoch_loss, epoch)\n",
    "        writer.add_scalar('Accuracy/Valid', epoch_acc, epoch)\n",
    "        writer.add_scalar('F1_macro/Valid', epoch_f1_macro, epoch)\n",
    "        writer.add_scalar('F1_weighted/Valid', epoch_f1_weighted, epoch)\n",
    "        \n",
    "        print(f'Valid loss: {epoch_loss:.6f}, Valid ACC: {epoch_acc:.6f}, F1_macro: {epoch_f1_macro:.6f}, F1_weighted: {epoch_f1_weighted:.6f}')\n",
    "        print(f'{running_corrects}/{running_num} correct')\n",
    "        \n",
    "        epoch_acc = epoch_acc.detach().cpu().numpy()    # tensor->numpy\n",
    "        val_acc_list.append(epoch_acc)\n",
    "        val_f1_macro_list.append(epoch_f1_macro)\n",
    "        val_f1_weighted_list.append(epoch_f1_weighted)\n",
    "        \n",
    "        if np.max(val_f1_macro_list) == val_f1_macro_list[-1]:  # 현재 모델이 성능 최댓값이면 저장 \n",
    "            torch.save(model.state_dict(), save_path)   # weighted F1 기준\n"
   ]
  },
  {
   "cell_type": "markdown",
   "metadata": {},
   "source": [
    "# Train"
   ]
  },
  {
   "cell_type": "code",
   "execution_count": 12,
   "metadata": {},
   "outputs": [
    {
     "name": "stderr",
     "output_type": "stream",
     "text": [
      "98it [00:13,  7.13it/s, Epoch=1/80, Batch=98/98, Batch Loss=0.057848, Mean Loss=0.048326, Batch ACC=0.516129, Mean ACC=0.508989]\n"
     ]
    },
    {
     "name": "stdout",
     "output_type": "stream",
     "text": [
      "Train loss: 0.048326, Train ACC: 0.508989, F1_macro: 0.301696, F1_weighted: 0.445445 lr: 0.000100\n",
      "Valid loss: 0.037058, Valid ACC: 0.600976, F1_macro: 0.382423, F1_weighted: 0.552890\n",
      "3202/5328 correct\n"
     ]
    },
    {
     "name": "stderr",
     "output_type": "stream",
     "text": [
      "98it [00:10,  8.92it/s, Epoch=2/80, Batch=98/98, Batch Loss=0.023590, Mean Loss=0.031505, Batch ACC=0.612903, Mean ACC=0.645176]\n"
     ]
    },
    {
     "name": "stdout",
     "output_type": "stream",
     "text": [
      "Train loss: 0.031505, Train ACC: 0.645176, F1_macro: 0.452641, F1_weighted: 0.600428 lr: 0.000100\n",
      "Valid loss: 0.026852, Valid ACC: 0.670233, F1_macro: 0.469344, F1_weighted: 0.646695\n",
      "3571/5328 correct\n"
     ]
    },
    {
     "name": "stderr",
     "output_type": "stream",
     "text": [
      "98it [00:10,  9.18it/s, Epoch=3/80, Batch=98/98, Batch Loss=0.029878, Mean Loss=0.024296, Batch ACC=0.709677, Mean ACC=0.703535]\n"
     ]
    },
    {
     "name": "stdout",
     "output_type": "stream",
     "text": [
      "Train loss: 0.024296, Train ACC: 0.703535, F1_macro: 0.542018, F1_weighted: 0.676477 lr: 0.000100\n",
      "Valid loss: 0.020207, Valid ACC: 0.739677, F1_macro: 0.604513, F1_weighted: 0.716945\n",
      "3941/5328 correct\n"
     ]
    },
    {
     "name": "stderr",
     "output_type": "stream",
     "text": [
      "98it [00:10,  9.16it/s, Epoch=4/80, Batch=98/98, Batch Loss=0.023453, Mean Loss=0.019074, Batch ACC=0.709677, Mean ACC=0.753127]\n"
     ]
    },
    {
     "name": "stdout",
     "output_type": "stream",
     "text": [
      "Train loss: 0.019074, Train ACC: 0.753127, F1_macro: 0.630565, F1_weighted: 0.733474 lr: 0.000100\n",
      "Valid loss: 0.016328, Valid ACC: 0.779655, F1_macro: 0.646643, F1_weighted: 0.764885\n",
      "4154/5328 correct\n"
     ]
    },
    {
     "name": "stderr",
     "output_type": "stream",
     "text": [
      "98it [00:10,  9.19it/s, Epoch=5/80, Batch=98/98, Batch Loss=0.028048, Mean Loss=0.015927, Batch ACC=0.612903, Mean ACC=0.783936]\n"
     ]
    },
    {
     "name": "stdout",
     "output_type": "stream",
     "text": [
      "Train loss: 0.015927, Train ACC: 0.783936, F1_macro: 0.675529, F1_weighted: 0.767203 lr: 0.000100\n",
      "Valid loss: 0.012788, Valid ACC: 0.815315, F1_macro: 0.716151, F1_weighted: 0.800999\n",
      "4344/5328 correct\n"
     ]
    },
    {
     "name": "stderr",
     "output_type": "stream",
     "text": [
      "98it [00:10,  9.12it/s, Epoch=6/80, Batch=98/98, Batch Loss=0.016865, Mean Loss=0.013336, Batch ACC=0.870968, Mean ACC=0.812492]\n"
     ]
    },
    {
     "name": "stdout",
     "output_type": "stream",
     "text": [
      "Train loss: 0.013336, Train ACC: 0.812492, F1_macro: 0.689089, F1_weighted: 0.797177 lr: 0.000100\n",
      "Valid loss: 0.011556, Valid ACC: 0.834084, F1_macro: 0.709999, F1_weighted: 0.817623\n",
      "4444/5328 correct\n"
     ]
    },
    {
     "name": "stderr",
     "output_type": "stream",
     "text": [
      "98it [00:10,  9.10it/s, Epoch=7/80, Batch=98/98, Batch Loss=0.020727, Mean Loss=0.011517, Batch ACC=0.741935, Mean ACC=0.832603]\n"
     ]
    },
    {
     "name": "stdout",
     "output_type": "stream",
     "text": [
      "Train loss: 0.011517, Train ACC: 0.832603, F1_macro: 0.714862, F1_weighted: 0.819593 lr: 0.000100\n",
      "Valid loss: 0.010051, Valid ACC: 0.853979, F1_macro: 0.748116, F1_weighted: 0.838364\n",
      "4550/5328 correct\n"
     ]
    },
    {
     "name": "stderr",
     "output_type": "stream",
     "text": [
      "98it [00:10,  9.19it/s, Epoch=8/80, Batch=98/98, Batch Loss=0.008537, Mean Loss=0.009893, Batch ACC=0.838710, Mean ACC=0.845393]\n"
     ]
    },
    {
     "name": "stdout",
     "output_type": "stream",
     "text": [
      "Train loss: 0.009893, Train ACC: 0.845393, F1_macro: 0.734590, F1_weighted: 0.834484 lr: 0.000100\n",
      "Valid loss: 0.008919, Valid ACC: 0.856982, F1_macro: 0.760200, F1_weighted: 0.842503\n",
      "4566/5328 correct\n"
     ]
    },
    {
     "name": "stderr",
     "output_type": "stream",
     "text": [
      "98it [00:10,  9.19it/s, Epoch=9/80, Batch=98/98, Batch Loss=0.008612, Mean Loss=0.008871, Batch ACC=0.903226, Mean ACC=0.859470]\n"
     ]
    },
    {
     "name": "stdout",
     "output_type": "stream",
     "text": [
      "Train loss: 0.008871, Train ACC: 0.859470, F1_macro: 0.765733, F1_weighted: 0.850776 lr: 0.000100\n",
      "Valid loss: 0.008022, Valid ACC: 0.874437, F1_macro: 0.778521, F1_weighted: 0.867386\n",
      "4659/5328 correct\n"
     ]
    },
    {
     "name": "stderr",
     "output_type": "stream",
     "text": [
      "98it [00:10,  9.21it/s, Epoch=10/80, Batch=98/98, Batch Loss=0.007614, Mean Loss=0.008291, Batch ACC=0.806452, Mean ACC=0.865061]\n"
     ]
    },
    {
     "name": "stdout",
     "output_type": "stream",
     "text": [
      "Train loss: 0.008291, Train ACC: 0.865061, F1_macro: 0.770443, F1_weighted: 0.858353 lr: 0.000100\n",
      "Valid loss: 0.009742, Valid ACC: 0.868806, F1_macro: 0.684025, F1_weighted: 0.859000\n",
      "4629/5328 correct\n"
     ]
    },
    {
     "name": "stderr",
     "output_type": "stream",
     "text": [
      "98it [00:10,  9.12it/s, Epoch=11/80, Batch=98/98, Batch Loss=0.008298, Mean Loss=0.007828, Batch ACC=0.870968, Mean ACC=0.869324]\n"
     ]
    },
    {
     "name": "stdout",
     "output_type": "stream",
     "text": [
      "Train loss: 0.007828, Train ACC: 0.869324, F1_macro: 0.779172, F1_weighted: 0.863132 lr: 0.000100\n",
      "Valid loss: 0.009723, Valid ACC: 0.853791, F1_macro: 0.711365, F1_weighted: 0.846552\n",
      "4549/5328 correct\n"
     ]
    },
    {
     "name": "stderr",
     "output_type": "stream",
     "text": [
      "98it [00:10,  9.10it/s, Epoch=12/80, Batch=98/98, Batch Loss=0.002080, Mean Loss=0.006924, Batch ACC=0.903226, Mean ACC=0.877730]\n"
     ]
    },
    {
     "name": "stdout",
     "output_type": "stream",
     "text": [
      "Train loss: 0.006924, Train ACC: 0.877730, F1_macro: 0.790087, F1_weighted: 0.872859 lr: 0.000100\n",
      "Valid loss: 0.006999, Valid ACC: 0.884947, F1_macro: 0.780973, F1_weighted: 0.873339\n",
      "4715/5328 correct\n"
     ]
    },
    {
     "name": "stderr",
     "output_type": "stream",
     "text": [
      "98it [00:10,  8.99it/s, Epoch=13/80, Batch=98/98, Batch Loss=0.008325, Mean Loss=0.006550, Batch ACC=0.774194, Mean ACC=0.884527]\n"
     ]
    },
    {
     "name": "stdout",
     "output_type": "stream",
     "text": [
      "Train loss: 0.006550, Train ACC: 0.884527, F1_macro: 0.807667, F1_weighted: 0.880126 lr: 0.000100\n",
      "Valid loss: 0.006493, Valid ACC: 0.879880, F1_macro: 0.805229, F1_weighted: 0.877706\n",
      "4688/5328 correct\n"
     ]
    },
    {
     "name": "stderr",
     "output_type": "stream",
     "text": [
      "98it [00:11,  8.86it/s, Epoch=14/80, Batch=98/98, Batch Loss=0.002743, Mean Loss=0.006595, Batch ACC=0.903226, Mean ACC=0.879540]\n"
     ]
    },
    {
     "name": "stdout",
     "output_type": "stream",
     "text": [
      "Train loss: 0.006595, Train ACC: 0.879540, F1_macro: 0.802103, F1_weighted: 0.876569 lr: 0.000100\n",
      "Valid loss: 0.006337, Valid ACC: 0.892080, F1_macro: 0.804247, F1_weighted: 0.885352\n",
      "4753/5328 correct\n"
     ]
    },
    {
     "name": "stderr",
     "output_type": "stream",
     "text": [
      "98it [00:11,  8.89it/s, Epoch=15/80, Batch=98/98, Batch Loss=0.001304, Mean Loss=0.005520, Batch ACC=0.967742, Mean ACC=0.891083]\n"
     ]
    },
    {
     "name": "stdout",
     "output_type": "stream",
     "text": [
      "Train loss: 0.005520, Train ACC: 0.891083, F1_macro: 0.821371, F1_weighted: 0.887642 lr: 0.000100\n",
      "Valid loss: 0.005163, Valid ACC: 0.899587, F1_macro: 0.813891, F1_weighted: 0.891782\n",
      "4793/5328 correct\n"
     ]
    },
    {
     "name": "stderr",
     "output_type": "stream",
     "text": [
      "98it [00:11,  8.90it/s, Epoch=16/80, Batch=98/98, Batch Loss=0.003376, Mean Loss=0.005641, Batch ACC=0.935484, Mean ACC=0.892853]\n"
     ]
    },
    {
     "name": "stdout",
     "output_type": "stream",
     "text": [
      "Train loss: 0.005641, Train ACC: 0.892853, F1_macro: 0.822060, F1_weighted: 0.889772 lr: 0.000100\n",
      "Valid loss: 0.006528, Valid ACC: 0.885135, F1_macro: 0.782669, F1_weighted: 0.879689\n",
      "4716/5328 correct\n"
     ]
    },
    {
     "name": "stderr",
     "output_type": "stream",
     "text": [
      "98it [00:10,  8.94it/s, Epoch=17/80, Batch=98/98, Batch Loss=0.007477, Mean Loss=0.005385, Batch ACC=0.903226, Mean ACC=0.896432]\n"
     ]
    },
    {
     "name": "stdout",
     "output_type": "stream",
     "text": [
      "Train loss: 0.005385, Train ACC: 0.896432, F1_macro: 0.826539, F1_weighted: 0.893897 lr: 0.000100\n",
      "Valid loss: 0.006284, Valid ACC: 0.896772, F1_macro: 0.826848, F1_weighted: 0.893996\n",
      "4778/5328 correct\n"
     ]
    },
    {
     "name": "stderr",
     "output_type": "stream",
     "text": [
      "98it [00:11,  8.82it/s, Epoch=18/80, Batch=98/98, Batch Loss=0.003445, Mean Loss=0.005111, Batch ACC=0.870968, Mean ACC=0.901138]\n"
     ]
    },
    {
     "name": "stdout",
     "output_type": "stream",
     "text": [
      "Train loss: 0.005111, Train ACC: 0.901138, F1_macro: 0.836164, F1_weighted: 0.898578 lr: 0.000100\n",
      "Valid loss: 0.005494, Valid ACC: 0.903904, F1_macro: 0.840418, F1_weighted: 0.902664\n",
      "4816/5328 correct\n"
     ]
    },
    {
     "name": "stderr",
     "output_type": "stream",
     "text": [
      "98it [00:10,  8.92it/s, Epoch=19/80, Batch=98/98, Batch Loss=0.007019, Mean Loss=0.004746, Batch ACC=0.870968, Mean ACC=0.904798]\n"
     ]
    },
    {
     "name": "stdout",
     "output_type": "stream",
     "text": [
      "Train loss: 0.004746, Train ACC: 0.904798, F1_macro: 0.847015, F1_weighted: 0.902822 lr: 0.000100\n",
      "Valid loss: 0.005149, Valid ACC: 0.907845, F1_macro: 0.846200, F1_weighted: 0.905037\n",
      "4837/5328 correct\n"
     ]
    },
    {
     "name": "stderr",
     "output_type": "stream",
     "text": [
      "98it [00:11,  8.88it/s, Epoch=20/80, Batch=98/98, Batch Loss=0.001808, Mean Loss=0.004715, Batch ACC=0.935484, Mean ACC=0.904195]\n"
     ]
    },
    {
     "name": "stdout",
     "output_type": "stream",
     "text": [
      "Train loss: 0.004715, Train ACC: 0.904195, F1_macro: 0.839404, F1_weighted: 0.902116 lr: 0.000100\n",
      "Valid loss: 0.005075, Valid ACC: 0.895833, F1_macro: 0.846776, F1_weighted: 0.897716\n",
      "4773/5328 correct\n"
     ]
    },
    {
     "name": "stderr",
     "output_type": "stream",
     "text": [
      "98it [00:11,  8.91it/s, Epoch=21/80, Batch=98/98, Batch Loss=0.021709, Mean Loss=0.004575, Batch ACC=0.870968, Mean ACC=0.907694]\n"
     ]
    },
    {
     "name": "stdout",
     "output_type": "stream",
     "text": [
      "Train loss: 0.004575, Train ACC: 0.907694, F1_macro: 0.848009, F1_weighted: 0.906095 lr: 0.000100\n",
      "Valid loss: 0.004550, Valid ACC: 0.905781, F1_macro: 0.851721, F1_weighted: 0.905356\n",
      "4826/5328 correct\n"
     ]
    },
    {
     "name": "stderr",
     "output_type": "stream",
     "text": [
      "98it [00:10,  8.91it/s, Epoch=22/80, Batch=98/98, Batch Loss=0.005487, Mean Loss=0.004280, Batch ACC=0.903226, Mean ACC=0.906447]\n"
     ]
    },
    {
     "name": "stdout",
     "output_type": "stream",
     "text": [
      "Train loss: 0.004280, Train ACC: 0.906447, F1_macro: 0.849335, F1_weighted: 0.904880 lr: 0.000100\n",
      "Valid loss: 0.004854, Valid ACC: 0.905218, F1_macro: 0.862625, F1_weighted: 0.903280\n",
      "4823/5328 correct\n"
     ]
    },
    {
     "name": "stderr",
     "output_type": "stream",
     "text": [
      "98it [00:11,  8.82it/s, Epoch=23/80, Batch=98/98, Batch Loss=0.001755, Mean Loss=0.004160, Batch ACC=0.967742, Mean ACC=0.911837]\n"
     ]
    },
    {
     "name": "stdout",
     "output_type": "stream",
     "text": [
      "Train loss: 0.004160, Train ACC: 0.911837, F1_macro: 0.862537, F1_weighted: 0.910612 lr: 0.000100\n",
      "Valid loss: 0.004533, Valid ACC: 0.904655, F1_macro: 0.840476, F1_weighted: 0.901745\n",
      "4820/5328 correct\n"
     ]
    },
    {
     "name": "stderr",
     "output_type": "stream",
     "text": [
      "98it [00:11,  8.85it/s, Epoch=24/80, Batch=98/98, Batch Loss=0.001467, Mean Loss=0.003999, Batch ACC=0.935484, Mean ACC=0.914974]\n"
     ]
    },
    {
     "name": "stdout",
     "output_type": "stream",
     "text": [
      "Train loss: 0.003999, Train ACC: 0.914974, F1_macro: 0.868786, F1_weighted: 0.913454 lr: 0.000100\n",
      "Valid loss: 0.004214, Valid ACC: 0.911974, F1_macro: 0.852327, F1_weighted: 0.910102\n",
      "4859/5328 correct\n"
     ]
    },
    {
     "name": "stderr",
     "output_type": "stream",
     "text": [
      "98it [00:11,  8.58it/s, Epoch=25/80, Batch=98/98, Batch Loss=0.002346, Mean Loss=0.003934, Batch ACC=0.935484, Mean ACC=0.914934]\n"
     ]
    },
    {
     "name": "stdout",
     "output_type": "stream",
     "text": [
      "Train loss: 0.003934, Train ACC: 0.914934, F1_macro: 0.868094, F1_weighted: 0.913990 lr: 0.000100\n",
      "Valid loss: 0.004557, Valid ACC: 0.911787, F1_macro: 0.855079, F1_weighted: 0.911292\n",
      "4858/5328 correct\n"
     ]
    },
    {
     "name": "stderr",
     "output_type": "stream",
     "text": [
      "98it [00:11,  8.84it/s, Epoch=26/80, Batch=98/98, Batch Loss=0.003067, Mean Loss=0.003797, Batch ACC=0.870968, Mean ACC=0.917025]\n"
     ]
    },
    {
     "name": "stdout",
     "output_type": "stream",
     "text": [
      "Train loss: 0.003797, Train ACC: 0.917025, F1_macro: 0.877600, F1_weighted: 0.916006 lr: 0.000100\n",
      "Valid loss: 0.004800, Valid ACC: 0.908971, F1_macro: 0.847459, F1_weighted: 0.908148\n",
      "4843/5328 correct\n"
     ]
    },
    {
     "name": "stderr",
     "output_type": "stream",
     "text": [
      "98it [00:10,  8.92it/s, Epoch=27/80, Batch=98/98, Batch Loss=0.006892, Mean Loss=0.003736, Batch ACC=0.903226, Mean ACC=0.919398]\n"
     ]
    },
    {
     "name": "stdout",
     "output_type": "stream",
     "text": [
      "Train loss: 0.003736, Train ACC: 0.919398, F1_macro: 0.874744, F1_weighted: 0.918367 lr: 0.000100\n",
      "Epoch    27: reducing learning rate of group 0 to 5.0000e-05.\n",
      "Valid loss: 0.005854, Valid ACC: 0.899024, F1_macro: 0.820731, F1_weighted: 0.896166\n",
      "4790/5328 correct\n"
     ]
    },
    {
     "name": "stderr",
     "output_type": "stream",
     "text": [
      "98it [00:10,  9.00it/s, Epoch=28/80, Batch=98/98, Batch Loss=0.011468, Mean Loss=0.003364, Batch ACC=0.870968, Mean ACC=0.925069]\n"
     ]
    },
    {
     "name": "stdout",
     "output_type": "stream",
     "text": [
      "Train loss: 0.003364, Train ACC: 0.925069, F1_macro: 0.879696, F1_weighted: 0.924157 lr: 0.000050\n",
      "Valid loss: 0.003637, Valid ACC: 0.923986, F1_macro: 0.882386, F1_weighted: 0.923819\n",
      "4923/5328 correct\n"
     ]
    },
    {
     "name": "stderr",
     "output_type": "stream",
     "text": [
      "98it [00:11,  8.86it/s, Epoch=29/80, Batch=98/98, Batch Loss=0.001060, Mean Loss=0.002972, Batch ACC=0.967742, Mean ACC=0.934159]\n"
     ]
    },
    {
     "name": "stdout",
     "output_type": "stream",
     "text": [
      "Train loss: 0.002972, Train ACC: 0.934159, F1_macro: 0.893923, F1_weighted: 0.933431 lr: 0.000050\n",
      "Valid loss: 0.003811, Valid ACC: 0.924550, F1_macro: 0.889616, F1_weighted: 0.923986\n",
      "4926/5328 correct\n"
     ]
    },
    {
     "name": "stderr",
     "output_type": "stream",
     "text": [
      "98it [00:11,  8.74it/s, Epoch=30/80, Batch=98/98, Batch Loss=0.001495, Mean Loss=0.002933, Batch ACC=0.903226, Mean ACC=0.932550]\n"
     ]
    },
    {
     "name": "stdout",
     "output_type": "stream",
     "text": [
      "Train loss: 0.002933, Train ACC: 0.932550, F1_macro: 0.899706, F1_weighted: 0.931851 lr: 0.000050\n",
      "Valid loss: 0.004075, Valid ACC: 0.920608, F1_macro: 0.877322, F1_weighted: 0.918190\n",
      "4905/5328 correct\n"
     ]
    },
    {
     "name": "stderr",
     "output_type": "stream",
     "text": [
      "98it [00:11,  8.74it/s, Epoch=31/80, Batch=98/98, Batch Loss=0.013253, Mean Loss=0.002956, Batch ACC=0.903226, Mean ACC=0.934521]\n"
     ]
    },
    {
     "name": "stdout",
     "output_type": "stream",
     "text": [
      "Train loss: 0.002956, Train ACC: 0.934521, F1_macro: 0.900971, F1_weighted: 0.933930 lr: 0.000050\n",
      "Valid loss: 0.003767, Valid ACC: 0.922110, F1_macro: 0.881811, F1_weighted: 0.921877\n",
      "4913/5328 correct\n"
     ]
    },
    {
     "name": "stderr",
     "output_type": "stream",
     "text": [
      "98it [00:11,  8.84it/s, Epoch=32/80, Batch=98/98, Batch Loss=0.001189, Mean Loss=0.002845, Batch ACC=0.935484, Mean ACC=0.934039]\n"
     ]
    },
    {
     "name": "stdout",
     "output_type": "stream",
     "text": [
      "Train loss: 0.002845, Train ACC: 0.934039, F1_macro: 0.899617, F1_weighted: 0.933276 lr: 0.000050\n",
      "Valid loss: 0.003588, Valid ACC: 0.923611, F1_macro: 0.886631, F1_weighted: 0.923438\n",
      "4921/5328 correct\n"
     ]
    },
    {
     "name": "stderr",
     "output_type": "stream",
     "text": [
      "98it [00:11,  8.90it/s, Epoch=33/80, Batch=98/98, Batch Loss=0.000519, Mean Loss=0.002747, Batch ACC=1.000000, Mean ACC=0.935768]\n"
     ]
    },
    {
     "name": "stdout",
     "output_type": "stream",
     "text": [
      "Train loss: 0.002747, Train ACC: 0.935768, F1_macro: 0.906356, F1_weighted: 0.935372 lr: 0.000050\n",
      "Valid loss: 0.003884, Valid ACC: 0.927365, F1_macro: 0.890431, F1_weighted: 0.926387\n",
      "4941/5328 correct\n"
     ]
    },
    {
     "name": "stderr",
     "output_type": "stream",
     "text": [
      "98it [00:11,  8.85it/s, Epoch=34/80, Batch=98/98, Batch Loss=0.002786, Mean Loss=0.002622, Batch ACC=0.935484, Mean ACC=0.936572]\n"
     ]
    },
    {
     "name": "stdout",
     "output_type": "stream",
     "text": [
      "Train loss: 0.002622, Train ACC: 0.936572, F1_macro: 0.905383, F1_weighted: 0.936040 lr: 0.000050\n",
      "Epoch    34: reducing learning rate of group 0 to 2.5000e-05.\n",
      "Valid loss: 0.003874, Valid ACC: 0.919107, F1_macro: 0.867473, F1_weighted: 0.917075\n",
      "4897/5328 correct\n"
     ]
    },
    {
     "name": "stderr",
     "output_type": "stream",
     "text": [
      "98it [00:11,  8.71it/s, Epoch=35/80, Batch=98/98, Batch Loss=0.025533, Mean Loss=0.002748, Batch ACC=0.870968, Mean ACC=0.944174]\n"
     ]
    },
    {
     "name": "stdout",
     "output_type": "stream",
     "text": [
      "Train loss: 0.002748, Train ACC: 0.944174, F1_macro: 0.921232, F1_weighted: 0.943668 lr: 0.000025\n",
      "Valid loss: 0.003400, Valid ACC: 0.929617, F1_macro: 0.892913, F1_weighted: 0.928502\n",
      "4953/5328 correct\n"
     ]
    },
    {
     "name": "stderr",
     "output_type": "stream",
     "text": [
      "98it [00:11,  8.80it/s, Epoch=36/80, Batch=98/98, Batch Loss=0.000308, Mean Loss=0.002253, Batch ACC=1.000000, Mean ACC=0.942967]\n"
     ]
    },
    {
     "name": "stdout",
     "output_type": "stream",
     "text": [
      "Train loss: 0.002253, Train ACC: 0.942967, F1_macro: 0.918184, F1_weighted: 0.942620 lr: 0.000025\n",
      "Valid loss: 0.003444, Valid ACC: 0.926614, F1_macro: 0.893737, F1_weighted: 0.925850\n",
      "4937/5328 correct\n"
     ]
    },
    {
     "name": "stderr",
     "output_type": "stream",
     "text": [
      "98it [00:11,  8.87it/s, Epoch=37/80, Batch=98/98, Batch Loss=0.002789, Mean Loss=0.002378, Batch ACC=0.903226, Mean ACC=0.944335]\n"
     ]
    },
    {
     "name": "stdout",
     "output_type": "stream",
     "text": [
      "Train loss: 0.002378, Train ACC: 0.944335, F1_macro: 0.920055, F1_weighted: 0.943867 lr: 0.000025\n",
      "Valid loss: 0.003205, Valid ACC: 0.930743, F1_macro: 0.894199, F1_weighted: 0.930289\n",
      "4959/5328 correct\n"
     ]
    },
    {
     "name": "stderr",
     "output_type": "stream",
     "text": [
      "98it [00:10,  8.95it/s, Epoch=38/80, Batch=98/98, Batch Loss=0.001267, Mean Loss=0.002235, Batch ACC=0.935484, Mean ACC=0.944375]\n"
     ]
    },
    {
     "name": "stdout",
     "output_type": "stream",
     "text": [
      "Train loss: 0.002235, Train ACC: 0.944375, F1_macro: 0.921800, F1_weighted: 0.944056 lr: 0.000025\n",
      "Valid loss: 0.003346, Valid ACC: 0.929054, F1_macro: 0.898124, F1_weighted: 0.928673\n",
      "4950/5328 correct\n"
     ]
    },
    {
     "name": "stderr",
     "output_type": "stream",
     "text": [
      "98it [00:11,  8.88it/s, Epoch=39/80, Batch=98/98, Batch Loss=0.003804, Mean Loss=0.002227, Batch ACC=0.838710, Mean ACC=0.946306]\n"
     ]
    },
    {
     "name": "stdout",
     "output_type": "stream",
     "text": [
      "Train loss: 0.002227, Train ACC: 0.946306, F1_macro: 0.920687, F1_weighted: 0.945893 lr: 0.000025\n",
      "Valid loss: 0.003390, Valid ACC: 0.927177, F1_macro: 0.893385, F1_weighted: 0.927047\n",
      "4940/5328 correct\n"
     ]
    },
    {
     "name": "stderr",
     "output_type": "stream",
     "text": [
      "98it [00:11,  8.87it/s, Epoch=40/80, Batch=98/98, Batch Loss=0.000391, Mean Loss=0.002159, Batch ACC=1.000000, Mean ACC=0.946869]\n"
     ]
    },
    {
     "name": "stdout",
     "output_type": "stream",
     "text": [
      "Train loss: 0.002159, Train ACC: 0.946869, F1_macro: 0.923116, F1_weighted: 0.946486 lr: 0.000025\n",
      "Valid loss: 0.003217, Valid ACC: 0.931119, F1_macro: 0.893752, F1_weighted: 0.930873\n",
      "4961/5328 correct\n"
     ]
    },
    {
     "name": "stderr",
     "output_type": "stream",
     "text": [
      "98it [00:11,  8.74it/s, Epoch=41/80, Batch=98/98, Batch Loss=0.004001, Mean Loss=0.002185, Batch ACC=0.935484, Mean ACC=0.949161]\n"
     ]
    },
    {
     "name": "stdout",
     "output_type": "stream",
     "text": [
      "Train loss: 0.002185, Train ACC: 0.949161, F1_macro: 0.926999, F1_weighted: 0.948827 lr: 0.000025\n",
      "Valid loss: 0.003354, Valid ACC: 0.929617, F1_macro: 0.899026, F1_weighted: 0.929440\n",
      "4953/5328 correct\n"
     ]
    },
    {
     "name": "stderr",
     "output_type": "stream",
     "text": [
      "98it [00:11,  8.79it/s, Epoch=42/80, Batch=98/98, Batch Loss=0.005006, Mean Loss=0.002212, Batch ACC=0.870968, Mean ACC=0.946266]\n"
     ]
    },
    {
     "name": "stdout",
     "output_type": "stream",
     "text": [
      "Train loss: 0.002212, Train ACC: 0.946266, F1_macro: 0.922621, F1_weighted: 0.945980 lr: 0.000025\n",
      "Valid loss: 0.003198, Valid ACC: 0.932432, F1_macro: 0.902070, F1_weighted: 0.932059\n",
      "4968/5328 correct\n"
     ]
    },
    {
     "name": "stderr",
     "output_type": "stream",
     "text": [
      "98it [00:11,  8.82it/s, Epoch=43/80, Batch=98/98, Batch Loss=0.001942, Mean Loss=0.002105, Batch ACC=0.935484, Mean ACC=0.950167]\n"
     ]
    },
    {
     "name": "stdout",
     "output_type": "stream",
     "text": [
      "Train loss: 0.002105, Train ACC: 0.950167, F1_macro: 0.929731, F1_weighted: 0.949827 lr: 0.000025\n",
      "Epoch    43: reducing learning rate of group 0 to 1.2500e-05.\n",
      "Valid loss: 0.003390, Valid ACC: 0.933371, F1_macro: 0.895995, F1_weighted: 0.932560\n",
      "4973/5328 correct\n"
     ]
    },
    {
     "name": "stderr",
     "output_type": "stream",
     "text": [
      "98it [00:10,  8.91it/s, Epoch=44/80, Batch=98/98, Batch Loss=0.007417, Mean Loss=0.002074, Batch ACC=0.838710, Mean ACC=0.951052]\n"
     ]
    },
    {
     "name": "stdout",
     "output_type": "stream",
     "text": [
      "Train loss: 0.002074, Train ACC: 0.951052, F1_macro: 0.929020, F1_weighted: 0.950780 lr: 0.000013\n",
      "Valid loss: 0.003237, Valid ACC: 0.932620, F1_macro: 0.896856, F1_weighted: 0.931790\n",
      "4969/5328 correct\n"
     ]
    },
    {
     "name": "stderr",
     "output_type": "stream",
     "text": [
      "98it [00:11,  8.78it/s, Epoch=45/80, Batch=98/98, Batch Loss=0.004100, Mean Loss=0.001989, Batch ACC=0.903226, Mean ACC=0.952258]\n"
     ]
    },
    {
     "name": "stdout",
     "output_type": "stream",
     "text": [
      "Train loss: 0.001989, Train ACC: 0.952258, F1_macro: 0.930815, F1_weighted: 0.952013 lr: 0.000013\n",
      "Valid loss: 0.003277, Valid ACC: 0.932057, F1_macro: 0.902166, F1_weighted: 0.931311\n",
      "4966/5328 correct\n"
     ]
    },
    {
     "name": "stderr",
     "output_type": "stream",
     "text": [
      "98it [00:11,  8.87it/s, Epoch=46/80, Batch=98/98, Batch Loss=0.009113, Mean Loss=0.001974, Batch ACC=0.838710, Mean ACC=0.953224]\n"
     ]
    },
    {
     "name": "stdout",
     "output_type": "stream",
     "text": [
      "Train loss: 0.001974, Train ACC: 0.953224, F1_macro: 0.933996, F1_weighted: 0.952948 lr: 0.000013\n",
      "Valid loss: 0.003314, Valid ACC: 0.930931, F1_macro: 0.900763, F1_weighted: 0.930537\n",
      "4960/5328 correct\n"
     ]
    },
    {
     "name": "stderr",
     "output_type": "stream",
     "text": [
      "98it [00:11,  8.83it/s, Epoch=47/80, Batch=98/98, Batch Loss=0.017297, Mean Loss=0.002069, Batch ACC=0.903226, Mean ACC=0.954068]\n"
     ]
    },
    {
     "name": "stdout",
     "output_type": "stream",
     "text": [
      "Train loss: 0.002069, Train ACC: 0.954068, F1_macro: 0.935752, F1_weighted: 0.953859 lr: 0.000013\n",
      "Valid loss: 0.003216, Valid ACC: 0.933559, F1_macro: 0.899177, F1_weighted: 0.932647\n",
      "4974/5328 correct\n"
     ]
    },
    {
     "name": "stderr",
     "output_type": "stream",
     "text": [
      "98it [00:11,  8.85it/s, Epoch=48/80, Batch=98/98, Batch Loss=0.001111, Mean Loss=0.002003, Batch ACC=0.935484, Mean ACC=0.953143]\n"
     ]
    },
    {
     "name": "stdout",
     "output_type": "stream",
     "text": [
      "Train loss: 0.002003, Train ACC: 0.953143, F1_macro: 0.933231, F1_weighted: 0.952918 lr: 0.000013\n",
      "Valid loss: 0.003350, Valid ACC: 0.933371, F1_macro: 0.899957, F1_weighted: 0.932769\n",
      "4973/5328 correct\n"
     ]
    },
    {
     "name": "stderr",
     "output_type": "stream",
     "text": [
      "98it [00:11,  8.79it/s, Epoch=49/80, Batch=98/98, Batch Loss=0.011017, Mean Loss=0.002106, Batch ACC=0.838710, Mean ACC=0.952339]\n"
     ]
    },
    {
     "name": "stdout",
     "output_type": "stream",
     "text": [
      "Train loss: 0.002106, Train ACC: 0.952339, F1_macro: 0.932659, F1_weighted: 0.952126 lr: 0.000013\n",
      "Epoch    49: reducing learning rate of group 0 to 6.2500e-06.\n",
      "Valid loss: 0.003260, Valid ACC: 0.932057, F1_macro: 0.896134, F1_weighted: 0.931742\n",
      "4966/5328 correct\n"
     ]
    },
    {
     "name": "stderr",
     "output_type": "stream",
     "text": [
      "98it [00:11,  8.82it/s, Epoch=50/80, Batch=98/98, Batch Loss=0.003248, Mean Loss=0.001904, Batch ACC=0.903226, Mean ACC=0.955275]\n"
     ]
    },
    {
     "name": "stdout",
     "output_type": "stream",
     "text": [
      "Train loss: 0.001904, Train ACC: 0.955275, F1_macro: 0.934645, F1_weighted: 0.955031 lr: 0.000006\n",
      "Valid loss: 0.003421, Valid ACC: 0.933371, F1_macro: 0.898724, F1_weighted: 0.932842\n",
      "4973/5328 correct\n"
     ]
    },
    {
     "name": "stderr",
     "output_type": "stream",
     "text": [
      "98it [00:11,  8.91it/s, Epoch=51/80, Batch=98/98, Batch Loss=0.004604, Mean Loss=0.001828, Batch ACC=0.903226, Mean ACC=0.954551]\n"
     ]
    },
    {
     "name": "stdout",
     "output_type": "stream",
     "text": [
      "Train loss: 0.001828, Train ACC: 0.954551, F1_macro: 0.938270, F1_weighted: 0.954280 lr: 0.000006\n",
      "Valid loss: 0.003336, Valid ACC: 0.931494, F1_macro: 0.898893, F1_weighted: 0.930974\n",
      "4963/5328 correct\n"
     ]
    },
    {
     "name": "stderr",
     "output_type": "stream",
     "text": [
      "98it [00:10,  8.94it/s, Epoch=52/80, Batch=98/98, Batch Loss=0.008130, Mean Loss=0.001878, Batch ACC=0.903226, Mean ACC=0.955275]\n"
     ]
    },
    {
     "name": "stdout",
     "output_type": "stream",
     "text": [
      "Train loss: 0.001878, Train ACC: 0.955275, F1_macro: 0.935671, F1_weighted: 0.955126 lr: 0.000006\n",
      "Valid loss: 0.003317, Valid ACC: 0.932245, F1_macro: 0.894423, F1_weighted: 0.931671\n",
      "4967/5328 correct\n"
     ]
    },
    {
     "name": "stderr",
     "output_type": "stream",
     "text": [
      "98it [00:11,  8.78it/s, Epoch=53/80, Batch=98/98, Batch Loss=0.006076, Mean Loss=0.001859, Batch ACC=0.935484, Mean ACC=0.955918]\n"
     ]
    },
    {
     "name": "stdout",
     "output_type": "stream",
     "text": [
      "Train loss: 0.001859, Train ACC: 0.955918, F1_macro: 0.935051, F1_weighted: 0.955674 lr: 0.000006\n",
      "Valid loss: 0.003418, Valid ACC: 0.931306, F1_macro: 0.896154, F1_weighted: 0.930840\n",
      "4962/5328 correct\n"
     ]
    },
    {
     "name": "stderr",
     "output_type": "stream",
     "text": [
      "98it [00:11,  8.77it/s, Epoch=54/80, Batch=98/98, Batch Loss=0.003535, Mean Loss=0.001887, Batch ACC=0.903226, Mean ACC=0.956240]\n"
     ]
    },
    {
     "name": "stdout",
     "output_type": "stream",
     "text": [
      "Train loss: 0.001887, Train ACC: 0.956240, F1_macro: 0.938082, F1_weighted: 0.956053 lr: 0.000006\n",
      "Valid loss: 0.003256, Valid ACC: 0.933934, F1_macro: 0.902217, F1_weighted: 0.933384\n",
      "4976/5328 correct\n"
     ]
    },
    {
     "name": "stderr",
     "output_type": "stream",
     "text": [
      "98it [00:11,  8.83it/s, Epoch=55/80, Batch=98/98, Batch Loss=0.002908, Mean Loss=0.001824, Batch ACC=0.870968, Mean ACC=0.956642]\n"
     ]
    },
    {
     "name": "stdout",
     "output_type": "stream",
     "text": [
      "Train loss: 0.001824, Train ACC: 0.956642, F1_macro: 0.935975, F1_weighted: 0.956374 lr: 0.000006\n",
      "Epoch    55: reducing learning rate of group 0 to 3.1250e-06.\n",
      "Valid loss: 0.003329, Valid ACC: 0.932620, F1_macro: 0.899920, F1_weighted: 0.931988\n",
      "4969/5328 correct\n"
     ]
    },
    {
     "name": "stderr",
     "output_type": "stream",
     "text": [
      "98it [00:11,  8.86it/s, Epoch=56/80, Batch=98/98, Batch Loss=0.002038, Mean Loss=0.001704, Batch ACC=0.935484, Mean ACC=0.957407]\n"
     ]
    },
    {
     "name": "stdout",
     "output_type": "stream",
     "text": [
      "Train loss: 0.001704, Train ACC: 0.957407, F1_macro: 0.940294, F1_weighted: 0.957227 lr: 0.000003\n",
      "Valid loss: 0.003297, Valid ACC: 0.933183, F1_macro: 0.898999, F1_weighted: 0.932555\n",
      "4972/5328 correct\n"
     ]
    },
    {
     "name": "stderr",
     "output_type": "stream",
     "text": [
      "98it [00:10,  8.95it/s, Epoch=57/80, Batch=98/98, Batch Loss=0.011940, Mean Loss=0.001862, Batch ACC=0.903226, Mean ACC=0.957728]\n"
     ]
    },
    {
     "name": "stdout",
     "output_type": "stream",
     "text": [
      "Train loss: 0.001862, Train ACC: 0.957728, F1_macro: 0.941834, F1_weighted: 0.957606 lr: 0.000003\n",
      "Valid loss: 0.003302, Valid ACC: 0.933183, F1_macro: 0.900730, F1_weighted: 0.932651\n",
      "4972/5328 correct\n"
     ]
    },
    {
     "name": "stderr",
     "output_type": "stream",
     "text": [
      "98it [00:11,  8.86it/s, Epoch=58/80, Batch=98/98, Batch Loss=0.001619, Mean Loss=0.001813, Batch ACC=0.967742, Mean ACC=0.957004]\n"
     ]
    },
    {
     "name": "stdout",
     "output_type": "stream",
     "text": [
      "Train loss: 0.001813, Train ACC: 0.957004, F1_macro: 0.940865, F1_weighted: 0.956850 lr: 0.000003\n",
      "Valid loss: 0.003326, Valid ACC: 0.933559, F1_macro: 0.900938, F1_weighted: 0.932821\n",
      "4974/5328 correct\n"
     ]
    },
    {
     "name": "stderr",
     "output_type": "stream",
     "text": [
      "98it [00:11,  8.90it/s, Epoch=59/80, Batch=98/98, Batch Loss=0.000946, Mean Loss=0.001749, Batch ACC=1.000000, Mean ACC=0.957527]\n"
     ]
    },
    {
     "name": "stdout",
     "output_type": "stream",
     "text": [
      "Train loss: 0.001749, Train ACC: 0.957527, F1_macro: 0.940898, F1_weighted: 0.957328 lr: 0.000003\n",
      "Valid loss: 0.003259, Valid ACC: 0.935248, F1_macro: 0.903593, F1_weighted: 0.934670\n",
      "4983/5328 correct\n"
     ]
    },
    {
     "name": "stderr",
     "output_type": "stream",
     "text": [
      "98it [00:11,  8.88it/s, Epoch=60/80, Batch=98/98, Batch Loss=0.001354, Mean Loss=0.001782, Batch ACC=0.935484, Mean ACC=0.957929]\n"
     ]
    },
    {
     "name": "stdout",
     "output_type": "stream",
     "text": [
      "Train loss: 0.001782, Train ACC: 0.957929, F1_macro: 0.941505, F1_weighted: 0.957735 lr: 0.000003\n",
      "Valid loss: 0.003285, Valid ACC: 0.932995, F1_macro: 0.899581, F1_weighted: 0.932332\n",
      "4971/5328 correct\n"
     ]
    },
    {
     "name": "stderr",
     "output_type": "stream",
     "text": [
      "98it [00:11,  8.80it/s, Epoch=61/80, Batch=98/98, Batch Loss=0.001126, Mean Loss=0.001835, Batch ACC=0.967742, Mean ACC=0.955476]\n"
     ]
    },
    {
     "name": "stdout",
     "output_type": "stream",
     "text": [
      "Train loss: 0.001835, Train ACC: 0.955476, F1_macro: 0.937064, F1_weighted: 0.955252 lr: 0.000003\n",
      "Epoch    61: reducing learning rate of group 0 to 1.5625e-06.\n",
      "Valid loss: 0.003237, Valid ACC: 0.934497, F1_macro: 0.902832, F1_weighted: 0.934064\n",
      "4979/5328 correct\n"
     ]
    },
    {
     "name": "stderr",
     "output_type": "stream",
     "text": [
      "98it [00:11,  8.85it/s, Epoch=62/80, Batch=98/98, Batch Loss=0.000738, Mean Loss=0.001736, Batch ACC=1.000000, Mean ACC=0.957447]\n"
     ]
    },
    {
     "name": "stdout",
     "output_type": "stream",
     "text": [
      "Train loss: 0.001736, Train ACC: 0.957447, F1_macro: 0.939081, F1_weighted: 0.957292 lr: 0.000002\n",
      "Valid loss: 0.003264, Valid ACC: 0.934309, F1_macro: 0.900986, F1_weighted: 0.933841\n",
      "4978/5328 correct\n"
     ]
    },
    {
     "name": "stderr",
     "output_type": "stream",
     "text": [
      "98it [00:11,  8.81it/s, Epoch=63/80, Batch=98/98, Batch Loss=0.000454, Mean Loss=0.001732, Batch ACC=1.000000, Mean ACC=0.958573]\n"
     ]
    },
    {
     "name": "stdout",
     "output_type": "stream",
     "text": [
      "Train loss: 0.001732, Train ACC: 0.958573, F1_macro: 0.942449, F1_weighted: 0.958465 lr: 0.000002\n",
      "Valid loss: 0.003234, Valid ACC: 0.933183, F1_macro: 0.900568, F1_weighted: 0.932599\n",
      "4972/5328 correct\n"
     ]
    },
    {
     "name": "stderr",
     "output_type": "stream",
     "text": [
      "98it [00:10,  8.93it/s, Epoch=64/80, Batch=98/98, Batch Loss=0.001039, Mean Loss=0.001725, Batch ACC=0.967742, Mean ACC=0.959337]\n"
     ]
    },
    {
     "name": "stdout",
     "output_type": "stream",
     "text": [
      "Train loss: 0.001725, Train ACC: 0.959337, F1_macro: 0.942877, F1_weighted: 0.959100 lr: 0.000002\n",
      "Valid loss: 0.003229, Valid ACC: 0.932808, F1_macro: 0.898543, F1_weighted: 0.932194\n",
      "4970/5328 correct\n"
     ]
    },
    {
     "name": "stderr",
     "output_type": "stream",
     "text": [
      "98it [00:10,  9.16it/s, Epoch=65/80, Batch=98/98, Batch Loss=0.005740, Mean Loss=0.001739, Batch ACC=0.870968, Mean ACC=0.957929]\n"
     ]
    },
    {
     "name": "stdout",
     "output_type": "stream",
     "text": [
      "Train loss: 0.001739, Train ACC: 0.957929, F1_macro: 0.941533, F1_weighted: 0.957701 lr: 0.000002\n",
      "Valid loss: 0.003353, Valid ACC: 0.934497, F1_macro: 0.900496, F1_weighted: 0.933818\n",
      "4979/5328 correct\n"
     ]
    },
    {
     "name": "stderr",
     "output_type": "stream",
     "text": [
      "98it [00:10,  9.07it/s, Epoch=66/80, Batch=98/98, Batch Loss=0.011949, Mean Loss=0.001790, Batch ACC=0.870968, Mean ACC=0.957165]\n"
     ]
    },
    {
     "name": "stdout",
     "output_type": "stream",
     "text": [
      "Train loss: 0.001790, Train ACC: 0.957165, F1_macro: 0.936431, F1_weighted: 0.957038 lr: 0.000002\n",
      "Valid loss: 0.003367, Valid ACC: 0.934309, F1_macro: 0.903347, F1_weighted: 0.933590\n",
      "4978/5328 correct\n"
     ]
    },
    {
     "name": "stderr",
     "output_type": "stream",
     "text": [
      "98it [00:11,  8.90it/s, Epoch=67/80, Batch=98/98, Batch Loss=0.001686, Mean Loss=0.001720, Batch ACC=0.967742, Mean ACC=0.958774]\n"
     ]
    },
    {
     "name": "stdout",
     "output_type": "stream",
     "text": [
      "Train loss: 0.001720, Train ACC: 0.958774, F1_macro: 0.942544, F1_weighted: 0.958533 lr: 0.000002\n",
      "Epoch    67: reducing learning rate of group 0 to 7.8125e-07.\n",
      "Valid loss: 0.003218, Valid ACC: 0.934122, F1_macro: 0.901658, F1_weighted: 0.933646\n",
      "4977/5328 correct\n"
     ]
    },
    {
     "name": "stderr",
     "output_type": "stream",
     "text": [
      "98it [00:10,  9.01it/s, Epoch=68/80, Batch=98/98, Batch Loss=0.002314, Mean Loss=0.001641, Batch ACC=0.935484, Mean ACC=0.958131]\n"
     ]
    },
    {
     "name": "stdout",
     "output_type": "stream",
     "text": [
      "Train loss: 0.001641, Train ACC: 0.958131, F1_macro: 0.942698, F1_weighted: 0.957970 lr: 0.000001\n",
      "Valid loss: 0.003236, Valid ACC: 0.935060, F1_macro: 0.905444, F1_weighted: 0.934529\n",
      "4982/5328 correct\n"
     ]
    },
    {
     "name": "stderr",
     "output_type": "stream",
     "text": [
      "98it [00:10,  8.94it/s, Epoch=69/80, Batch=98/98, Batch Loss=0.006757, Mean Loss=0.001750, Batch ACC=0.903226, Mean ACC=0.958895]\n"
     ]
    },
    {
     "name": "stdout",
     "output_type": "stream",
     "text": [
      "Train loss: 0.001750, Train ACC: 0.958895, F1_macro: 0.943390, F1_weighted: 0.958780 lr: 0.000001\n",
      "Valid loss: 0.003317, Valid ACC: 0.935435, F1_macro: 0.903764, F1_weighted: 0.934979\n",
      "4984/5328 correct\n"
     ]
    },
    {
     "name": "stderr",
     "output_type": "stream",
     "text": [
      "98it [00:11,  8.86it/s, Epoch=70/80, Batch=98/98, Batch Loss=0.001493, Mean Loss=0.001781, Batch ACC=0.967742, Mean ACC=0.955677]\n"
     ]
    },
    {
     "name": "stdout",
     "output_type": "stream",
     "text": [
      "Train loss: 0.001781, Train ACC: 0.955677, F1_macro: 0.938978, F1_weighted: 0.955524 lr: 0.000001\n",
      "Valid loss: 0.003326, Valid ACC: 0.932432, F1_macro: 0.898480, F1_weighted: 0.931820\n",
      "4968/5328 correct\n"
     ]
    },
    {
     "name": "stderr",
     "output_type": "stream",
     "text": [
      "98it [00:10,  8.99it/s, Epoch=71/80, Batch=98/98, Batch Loss=0.001911, Mean Loss=0.001696, Batch ACC=0.935484, Mean ACC=0.958855]\n"
     ]
    },
    {
     "name": "stdout",
     "output_type": "stream",
     "text": [
      "Train loss: 0.001696, Train ACC: 0.958855, F1_macro: 0.942207, F1_weighted: 0.958677 lr: 0.000001\n",
      "Valid loss: 0.003230, Valid ACC: 0.933183, F1_macro: 0.900658, F1_weighted: 0.932677\n",
      "4972/5328 correct\n"
     ]
    },
    {
     "name": "stderr",
     "output_type": "stream",
     "text": [
      "98it [00:10,  9.19it/s, Epoch=72/80, Batch=98/98, Batch Loss=0.001568, Mean Loss=0.001724, Batch ACC=0.967742, Mean ACC=0.957045]\n"
     ]
    },
    {
     "name": "stdout",
     "output_type": "stream",
     "text": [
      "Train loss: 0.001724, Train ACC: 0.957045, F1_macro: 0.938550, F1_weighted: 0.956779 lr: 0.000001\n",
      "Valid loss: 0.003234, Valid ACC: 0.933371, F1_macro: 0.900712, F1_weighted: 0.932675\n",
      "4973/5328 correct\n"
     ]
    },
    {
     "name": "stderr",
     "output_type": "stream",
     "text": [
      "98it [00:10,  9.12it/s, Epoch=73/80, Batch=98/98, Batch Loss=0.001847, Mean Loss=0.001634, Batch ACC=0.967742, Mean ACC=0.958975]\n"
     ]
    },
    {
     "name": "stdout",
     "output_type": "stream",
     "text": [
      "Train loss: 0.001634, Train ACC: 0.958975, F1_macro: 0.943043, F1_weighted: 0.958853 lr: 0.000001\n",
      "Epoch    73: reducing learning rate of group 0 to 3.9063e-07.\n",
      "Valid loss: 0.003243, Valid ACC: 0.933746, F1_macro: 0.900928, F1_weighted: 0.933211\n",
      "4975/5328 correct\n"
     ]
    },
    {
     "name": "stderr",
     "output_type": "stream",
     "text": [
      "98it [00:10,  9.14it/s, Epoch=74/80, Batch=98/98, Batch Loss=0.003307, Mean Loss=0.001665, Batch ACC=0.838710, Mean ACC=0.960665]\n"
     ]
    },
    {
     "name": "stdout",
     "output_type": "stream",
     "text": [
      "Train loss: 0.001665, Train ACC: 0.960665, F1_macro: 0.943620, F1_weighted: 0.960523 lr: 0.000000\n",
      "Valid loss: 0.003195, Valid ACC: 0.933559, F1_macro: 0.899718, F1_weighted: 0.933017\n",
      "4974/5328 correct\n"
     ]
    },
    {
     "name": "stderr",
     "output_type": "stream",
     "text": [
      "98it [00:10,  9.03it/s, Epoch=75/80, Batch=98/98, Batch Loss=0.004297, Mean Loss=0.001673, Batch ACC=0.935484, Mean ACC=0.959458]\n"
     ]
    },
    {
     "name": "stdout",
     "output_type": "stream",
     "text": [
      "Train loss: 0.001673, Train ACC: 0.959458, F1_macro: 0.941735, F1_weighted: 0.959268 lr: 0.000000\n",
      "Valid loss: 0.003266, Valid ACC: 0.933559, F1_macro: 0.899555, F1_weighted: 0.932984\n",
      "4974/5328 correct\n"
     ]
    },
    {
     "name": "stderr",
     "output_type": "stream",
     "text": [
      "98it [00:10,  8.98it/s, Epoch=76/80, Batch=98/98, Batch Loss=0.012461, Mean Loss=0.001722, Batch ACC=0.806452, Mean ACC=0.960302]\n"
     ]
    },
    {
     "name": "stdout",
     "output_type": "stream",
     "text": [
      "Train loss: 0.001722, Train ACC: 0.960302, F1_macro: 0.944901, F1_weighted: 0.960150 lr: 0.000000\n",
      "Valid loss: 0.003258, Valid ACC: 0.933746, F1_macro: 0.899349, F1_weighted: 0.933273\n",
      "4975/5328 correct\n"
     ]
    },
    {
     "name": "stderr",
     "output_type": "stream",
     "text": [
      "98it [00:10,  8.95it/s, Epoch=77/80, Batch=98/98, Batch Loss=0.013593, Mean Loss=0.001832, Batch ACC=0.870968, Mean ACC=0.957004]\n"
     ]
    },
    {
     "name": "stdout",
     "output_type": "stream",
     "text": [
      "Train loss: 0.001832, Train ACC: 0.957004, F1_macro: 0.942078, F1_weighted: 0.956840 lr: 0.000000\n",
      "Valid loss: 0.003229, Valid ACC: 0.932620, F1_macro: 0.897313, F1_weighted: 0.932002\n",
      "4969/5328 correct\n"
     ]
    },
    {
     "name": "stderr",
     "output_type": "stream",
     "text": [
      "98it [00:10,  9.02it/s, Epoch=78/80, Batch=98/98, Batch Loss=0.000994, Mean Loss=0.001790, Batch ACC=0.903226, Mean ACC=0.957447]\n"
     ]
    },
    {
     "name": "stdout",
     "output_type": "stream",
     "text": [
      "Train loss: 0.001790, Train ACC: 0.957447, F1_macro: 0.939399, F1_weighted: 0.957210 lr: 0.000000\n",
      "Valid loss: 0.003234, Valid ACC: 0.934309, F1_macro: 0.901567, F1_weighted: 0.933733\n",
      "4978/5328 correct\n"
     ]
    },
    {
     "name": "stderr",
     "output_type": "stream",
     "text": [
      "98it [00:10,  9.11it/s, Epoch=79/80, Batch=98/98, Batch Loss=0.006269, Mean Loss=0.001700, Batch ACC=0.870968, Mean ACC=0.958975]\n"
     ]
    },
    {
     "name": "stdout",
     "output_type": "stream",
     "text": [
      "Train loss: 0.001700, Train ACC: 0.958975, F1_macro: 0.944884, F1_weighted: 0.958866 lr: 0.000000\n",
      "Epoch    79: reducing learning rate of group 0 to 1.9531e-07.\n",
      "Valid loss: 0.003254, Valid ACC: 0.935248, F1_macro: 0.906037, F1_weighted: 0.934915\n",
      "4983/5328 correct\n"
     ]
    },
    {
     "name": "stderr",
     "output_type": "stream",
     "text": [
      "98it [00:11,  8.89it/s, Epoch=80/80, Batch=98/98, Batch Loss=0.001545, Mean Loss=0.001698, Batch ACC=0.935484, Mean ACC=0.958452]\n"
     ]
    },
    {
     "name": "stdout",
     "output_type": "stream",
     "text": [
      "Train loss: 0.001698, Train ACC: 0.958452, F1_macro: 0.943076, F1_weighted: 0.958352 lr: 0.000000\n",
      "Valid loss: 0.003308, Valid ACC: 0.936562, F1_macro: 0.906427, F1_weighted: 0.936074\n",
      "4990/5328 correct\n"
     ]
    }
   ],
   "source": [
    "from torch.utils.tensorboard import SummaryWriter\n",
    "\n",
    "writer = SummaryWriter(log_dir='logs/' + save_name)\n",
    "\n",
    "val_acc_list = []\n",
    "val_f1_macro_list = []\n",
    "val_f1_weighted_list = []\n",
    "\n",
    "model.to(device)\n",
    "\n",
    "for epoch in range(EPOCHS):\n",
    "    train(model, train_loader, epoch, EPOCHS)\n",
    "    evaluate(model, val_loader, epoch, EPOCHS)"
   ]
  },
  {
   "cell_type": "code",
   "execution_count": 13,
   "metadata": {},
   "outputs": [
    {
     "name": "stdout",
     "output_type": "stream",
     "text": [
      "0.9365616 0.9064273862612308 0.9360742395766503\n"
     ]
    }
   ],
   "source": [
    "print(max(val_acc_list), max(val_f1_macro_list), max(val_f1_weighted_list))"
   ]
  },
  {
   "cell_type": "markdown",
   "metadata": {},
   "source": [
    "# Test"
   ]
  },
  {
   "cell_type": "code",
   "execution_count": 14,
   "metadata": {},
   "outputs": [],
   "source": [
    "def test(model, loader):\n",
    "    running_loss = 0.0\n",
    "    running_f1 = 0.0\n",
    "    running_corrects = 0\n",
    "    model.eval()\n",
    "    y_true = []\n",
    "    y_pred = []\n",
    "\n",
    "    with torch.no_grad():\n",
    "        for idx, batch in enumerate(tqdm(loader)):\n",
    "            img = batch['img'].float().to(device)\n",
    "            label = batch['label'].long().to(device)\n",
    "\n",
    "            output = model(img)\n",
    "            # stats\n",
    "            preds = torch.argmax(output, dim=1)\n",
    "            correct = torch.eq(preds, label).sum()\n",
    "            running_corrects+=correct\n",
    "    \n",
    "            for item in label.cpu().numpy():\n",
    "                y_true.append(item)\n",
    "            for item in preds.cpu().numpy():\n",
    "                y_pred.append(item)\n",
    "\n",
    "        epoch_acc = running_corrects / len(loader.dataset)\n",
    "        epoch_f1_macro = f1_score(y_true, y_pred, average='macro')\n",
    "        epoch_f1_weighted = f1_score(y_true, y_pred, average='weighted')\n",
    "        \n",
    "        print(f'{running_corrects}/{len(loader.dataset)} correct')\n",
    "        print(f'Test ACC: {epoch_acc:.6f}, F1_macro: {epoch_f1_macro:.6f}, F1_weighted: {epoch_f1_weighted:.6f}')\n",
    "\n",
    "    plt.figure(figsize=(20, 20))\n",
    "    sns.heatmap(\n",
    "        confusion_matrix(\n",
    "            y_true,\n",
    "            y_pred,\n",
    "            normalize = 'true'), \n",
    "            annot=True, cmap='coolwarm'\n",
    "            )\n",
    "    plt.title(\"CONFUSION MATRIX of the test dataset\", fontsize=25)\n",
    "    plt.show()\n"
   ]
  },
  {
   "cell_type": "code",
   "execution_count": 16,
   "metadata": {},
   "outputs": [
    {
     "data": {
      "image/png": "[encoded data removed]",
      "text/plain": [
       "<Figure size 432x288 with 1 Axes>"
      ]
     },
     "metadata": {
      "needs_background": "light"
     },
     "output_type": "display_data"
    }
   ],
   "source": [
    "plt.hist(y_test)\n",
    "plt.show()"
   ]
  },
  {
   "cell_type": "code",
   "execution_count": 15,
   "metadata": {},
   "outputs": [
    {
     "name": "stderr",
     "output_type": "stream",
     "text": [
      "100%|██████████| 11/11 [00:01<00:00, 10.91it/s]\n"
     ]
    },
    {
     "name": "stdout",
     "output_type": "stream",
     "text": [
      "4974/5328 correct\n",
      "Test ACC: 0.933559, F1_macro: 0.895194, F1_weighted: 0.932836\n"
     ]
    },
    {
     "data": {
      "image/png": "[encoded data removed]",
      "text/plain": [
       "<Figure size 1440x1440 with 2 Axes>"
      ]
     },
     "metadata": {
      "needs_background": "light"
     },
     "output_type": "display_data"
    }
   ],
   "source": [
    "from torchvision.models import resnet50\n",
    "import torch.nn as nn \n",
    "from sklearn.metrics import confusion_matrix\n",
    "\n",
    "model = resnet50(pretrained=False)\n",
    "model.conv1 = nn.Conv2d(INPUT_CH, 64, kernel_size=(7, 7), stride=(2, 2), padding=(3, 3), bias=False)\n",
    "feat = model.fc.in_features\n",
    "model.fc = nn.Linear(feat, NUM_CLASSES)\n",
    "\n",
    "# LOAD trained model \n",
    "model.load_state_dict(torch.load(save_path))\n",
    "model.to(device)\n",
    "test(model, test_loader)"
   ]
  },
  {
   "cell_type": "code",
   "execution_count": null,
   "metadata": {},
   "outputs": [],
   "source": []
  },
  {
   "cell_type": "code",
   "execution_count": null,
   "metadata": {},
   "outputs": [],
   "source": []
  }
 ],
 "metadata": {
  "interpreter": {
   "hash": "1f24b2f6551b049df64cb25183e90251dea2c63deab47566e118362740cff14f"
  },
  "kernelspec": {
   "display_name": "Python 3.6.15 ('torch')",
   "language": "python",
   "name": "python3"
  },
  "language_info": {
   "codemirror_mode": {
    "name": "ipython",
    "version": 3
   },
   "file_extension": ".py",
   "mimetype": "text/x-python",
   "name": "python",
   "nbconvert_exporter": "python",
   "pygments_lexer": "ipython3",
   "version": "3.7.7"
  },
  "orig_nbformat": 4
 },
 "nbformat": 4,
 "nbformat_minor": 2
}
